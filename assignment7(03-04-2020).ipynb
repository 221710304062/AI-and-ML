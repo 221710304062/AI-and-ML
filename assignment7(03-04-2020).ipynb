{
 "cells": [
  {
   "cell_type": "markdown",
   "metadata": {},
   "source": [
    "## CSE-221710304062-Vaishnavi.B"
   ]
  },
  {
   "cell_type": "markdown",
   "metadata": {},
   "source": [
    "```1.Print the contents of a file line by line putting a line number for each line.```\n"
   ]
  },
  {
   "cell_type": "code",
   "execution_count": 12,
   "metadata": {},
   "outputs": [
    {
     "name": "stdout",
     "output_type": "stream",
     "text": [
      "1 . Time & Tide waits for none.\n",
      "\n",
      "2 . Dont sit like a rock , work like a clock.\n",
      "\n",
      "3 . Everything happens for our own good.\n",
      "\n",
      "4 . Where there is a will , there is a way.\n"
     ]
    }
   ],
   "source": [
    "with open(\"sample.txt\",\"r\") as f:\n",
    "    i = 1\n",
    "    for line in f:\n",
    "        print(i,\".\",line)\n",
    "        i += 1"
   ]
  },
  {
   "cell_type": "markdown",
   "metadata": {},
   "source": [
    "```2.Copy the contents of a text file into another, printing the reversed version of each input line```"
   ]
  },
  {
   "cell_type": "code",
   "execution_count": 13,
   "metadata": {},
   "outputs": [],
   "source": [
    "#copying contents\n",
    "\n",
    "with open(\"sample.txt\",\"r\") as f:\n",
    "    with open(\"copy.txt\",\"w\") as f1:\n",
    "        for line in f:\n",
    "            f1.write(line)"
   ]
  },
  {
   "cell_type": "code",
   "execution_count": 14,
   "metadata": {},
   "outputs": [
    {
     "name": "stdout",
     "output_type": "stream",
     "text": [
      "\n",
      ".enon rof stiaw ediT & emiT\n",
      "\n",
      ".kcolc a ekil krow , kcor a ekil tis tnoD\n",
      "\n",
      ".doog nwo ruo rof sneppah gnihtyrevE\n",
      ".yaw a si ereht , lliw a si ereht erehW\n"
     ]
    }
   ],
   "source": [
    "#reversing the input lines\n",
    "\n",
    "with open(\"copy.txt\",\"r\") as f1:\n",
    "    for line in f1:\n",
    "        print(line[::-1])"
   ]
  },
  {
   "cell_type": "markdown",
   "metadata": {},
   "source": [
    "```3.Avoiding Duplicates\n",
    "\t\tduplicates [1,2,3,4,5]\n",
    "\t\t\tFalse\n",
    "\t\tduplicates [1,2,3,2]\n",
    "\t\t\tTrue```\n"
   ]
  },
  {
   "cell_type": "code",
   "execution_count": 29,
   "metadata": {},
   "outputs": [
    {
     "name": "stdout",
     "output_type": "stream",
     "text": [
      "[1, 2, 3, 4]\n",
      "True\n"
     ]
    }
   ],
   "source": [
    "def duplicate(l1):\n",
    "    for i in l1:\n",
    "        if l1.count(i)>1:\n",
    "            return True\n",
    "            break\n",
    "        else:\n",
    "            continue\n",
    "#USING FUNCTION\n",
    "def removeDuplicates(l1):\n",
    "    for i in l1:\n",
    "        if i not in l2:\n",
    "            l2.append(i)\n",
    "    return l2\n",
    "print(removeDuplicates(l1))\n",
    "\n",
    "l1 = [1,2,3,4,2,3]\n",
    "f = duplicate(l1)\n",
    "print(f)\n",
    "if(f==True):\n",
    "    removeDuplicates(l1)\n"
   ]
  },
  {
   "cell_type": "markdown",
   "metadata": {},
   "source": [
    "``` removeDuplicates (list): list\n",
    "which returns a list containing the same elements as its argument, but without duplicates.```\n"
   ]
  },
  {
   "cell_type": "code",
   "execution_count": 26,
   "metadata": {},
   "outputs": [
    {
     "name": "stdout",
     "output_type": "stream",
     "text": [
      "[1, 2, 3, 4]\n"
     ]
    }
   ],
   "source": [
    "#USING LIST COMPREHENSION\n",
    "l2 = []\n",
    "[l2.append(i) for i in l1 if i not in l2 ]\n",
    "print(str(l2))"
   ]
  },
  {
   "cell_type": "markdown",
   "metadata": {},
   "source": [
    "```4.A permutation of a list is another list with the same elements, but in a possibly different order. For example, [1,2,1] is a permutation of [2,1,1], but not of [1,2,2]. Write a function\n",
    "    \t\tisPermutation (list1, list2): bool\n",
    "that returns True if its arguments are permutations of each other.```\n",
    "\n"
   ]
  },
  {
   "cell_type": "code",
   "execution_count": 37,
   "metadata": {},
   "outputs": [
    {
     "name": "stdout",
     "output_type": "stream",
     "text": [
      "enter number of elements:3\n",
      "enter the values of list1:1\n",
      "enter the values of list1:2\n",
      "enter the values of list1:1\n",
      "list1 is: [1, 2, 1]\n",
      "enter the values of list2:2\n",
      "enter the values of list2:1\n",
      "enter the values of list2:1\n",
      "list2 is: [2, 1, 1]\n",
      "True\n"
     ]
    }
   ],
   "source": [
    "def isPermutation(list1,list2):\n",
    "    if sum(list1) == sum(list2):\n",
    "        return True\n",
    "    else:\n",
    "        return False\n",
    "num = int(input(\"enter number of elements:\"))\n",
    "list1 = []\n",
    "list2 = []\n",
    "for i in range(num):\n",
    "    i = int(input(\"enter the values of list1:\"))\n",
    "    list1.append(i)\n",
    "print(\"list1 is:\",str(list1))\n",
    "for i in range(num):\n",
    "    i = int(input(\"enter the values of list2:\"))\n",
    "    list2.append(i)\n",
    "print(\"list2 is:\",str(list2))\n",
    "k = isPermutation(list1,list2)\n",
    "print(k)"
   ]
  },
  {
   "cell_type": "markdown",
   "metadata": {},
   "source": [
    "```5.Develop a package for fractions. Develop a module that performs operations on fractions. It should have methods to create fractions, perform operations on two fractions, simplify a fraction, and print a fraction. You should use that package and illustrate those operations.```"
   ]
  },
  {
   "cell_type": "code",
   "execution_count": 1,
   "metadata": {},
   "outputs": [
    {
     "name": "stdout",
     "output_type": "stream",
     "text": [
      "fraction is : 0.5\n",
      "fraction: None\n",
      "Addition is : 1.25\n",
      "addition : None\n",
      "subtraction is : -0.25\n",
      "subtraction None\n",
      "multiplication is : 0.375\n",
      "multiplication : None\n",
      "divison is : 0.6666666666666666\n",
      "divison : None\n"
     ]
    }
   ],
   "source": [
    "import fractions as f\n",
    "print(\"fraction:\",f.fracidis(10,20))\n",
    "print(\"addition :\",f.add(10,20,30,40))\n",
    "print(\"subtraction\",f.sub(10,20,30,40))      # user defined module fraction\n",
    "print(\"multiplication :\",f.mul(10,20,30,40))\n",
    "print(\"divison :\",f.div(10,20,30,40))\n"
   ]
  },
  {
   "cell_type": "code",
   "execution_count": null,
   "metadata": {},
   "outputs": [],
   "source": []
  }
 ],
 "metadata": {
  "kernelspec": {
   "display_name": "Python 3",
   "language": "python",
   "name": "python3"
  },
  "language_info": {
   "codemirror_mode": {
    "name": "ipython",
    "version": 3
   },
   "file_extension": ".py",
   "mimetype": "text/x-python",
   "name": "python",
   "nbconvert_exporter": "python",
   "pygments_lexer": "ipython3",
   "version": "3.7.4"
  }
 },
 "nbformat": 4,
 "nbformat_minor": 2
}
