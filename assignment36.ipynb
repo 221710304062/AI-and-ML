{
  "nbformat": 4,
  "nbformat_minor": 0,
  "metadata": {
    "colab": {
      "name": "assignment36",
      "provenance": [],
      "collapsed_sections": []
    },
    "kernelspec": {
      "name": "python3",
      "display_name": "Python 3"
    }
  },
  "cells": [
    {
      "cell_type": "markdown",
      "metadata": {
        "id": "0IPVWlkLoDLb",
        "colab_type": "text"
      },
      "source": [
        "### CSE-221710304062-Vaishnavi.B"
      ]
    },
    {
      "cell_type": "code",
      "metadata": {
        "id": "kI9ad9iJoPNU",
        "colab_type": "code",
        "colab": {
          "base_uri": "https://localhost:8080/",
          "height": 34
        },
        "outputId": "ed15923c-b846-44f3-d95a-9056a49c23df"
      },
      "source": [
        "import numpy as np\n",
        "import tensorflow as tf\n",
        "import tensorflow.keras as keras\n",
        "import pandas as pd\n",
        "from keras.datasets.mnist import load_data\n",
        "import matplotlib.pyplot as plt\n",
        "%matplotlib inline\n"
      ],
      "execution_count": 2,
      "outputs": [
        {
          "output_type": "stream",
          "text": [
            "Using TensorFlow backend.\n"
          ],
          "name": "stderr"
        }
      ]
    },
    {
      "cell_type": "code",
      "metadata": {
        "id": "Umb8wmIBoP2I",
        "colab_type": "code",
        "colab": {
          "base_uri": "https://localhost:8080/",
          "height": 84
        },
        "outputId": "ef4b5d3e-6add-4eb5-bbcc-32dc4b9d5c3e"
      },
      "source": [
        "(train_digits,train_labels),(test_digits,test_labels)=load_data()\n",
        "print(train_digits.shape)\n",
        "print(test_digits.shape)"
      ],
      "execution_count": 3,
      "outputs": [
        {
          "output_type": "stream",
          "text": [
            "Downloading data from https://s3.amazonaws.com/img-datasets/mnist.npz\n",
            "11493376/11490434 [==============================] - 2s 0us/step\n",
            "(60000, 28, 28)\n",
            "(10000, 28, 28)\n"
          ],
          "name": "stdout"
        }
      ]
    },
    {
      "cell_type": "code",
      "metadata": {
        "id": "qeE_W4k8oqEU",
        "colab_type": "code",
        "colab": {
          "base_uri": "https://localhost:8080/",
          "height": 34
        },
        "outputId": "7de40463-b47d-46e8-a7f4-c8e382a1f8b8"
      },
      "source": [
        "type(train_labels)"
      ],
      "execution_count": 6,
      "outputs": [
        {
          "output_type": "execute_result",
          "data": {
            "text/plain": [
              "numpy.ndarray"
            ]
          },
          "metadata": {
            "tags": []
          },
          "execution_count": 6
        }
      ]
    },
    {
      "cell_type": "code",
      "metadata": {
        "id": "rkdIxBeEogVp",
        "colab_type": "code",
        "colab": {
          "base_uri": "https://localhost:8080/",
          "height": 218
        },
        "outputId": "e6d4249f-58ae-4876-a98c-c0b0ddbe5743"
      },
      "source": [
        "pd.Series(train_labels).value_counts"
      ],
      "execution_count": 4,
      "outputs": [
        {
          "output_type": "execute_result",
          "data": {
            "text/plain": [
              "<bound method IndexOpsMixin.value_counts of 0        5\n",
              "1        0\n",
              "2        4\n",
              "3        1\n",
              "4        9\n",
              "        ..\n",
              "59995    8\n",
              "59996    3\n",
              "59997    5\n",
              "59998    6\n",
              "59999    8\n",
              "Length: 60000, dtype: uint8>"
            ]
          },
          "metadata": {
            "tags": []
          },
          "execution_count": 4
        }
      ]
    },
    {
      "cell_type": "code",
      "metadata": {
        "id": "UFxZ0QHconu0",
        "colab_type": "code",
        "colab": {
          "base_uri": "https://localhost:8080/",
          "height": 218
        },
        "outputId": "c8ffc586-ef3c-4b7f-81c3-269667e3aa2f"
      },
      "source": [
        "pd.Series(test_labels).value_counts"
      ],
      "execution_count": 7,
      "outputs": [
        {
          "output_type": "execute_result",
          "data": {
            "text/plain": [
              "<bound method IndexOpsMixin.value_counts of 0       7\n",
              "1       2\n",
              "2       1\n",
              "3       0\n",
              "4       4\n",
              "       ..\n",
              "9995    2\n",
              "9996    3\n",
              "9997    4\n",
              "9998    5\n",
              "9999    6\n",
              "Length: 10000, dtype: uint8>"
            ]
          },
          "metadata": {
            "tags": []
          },
          "execution_count": 7
        }
      ]
    },
    {
      "cell_type": "code",
      "metadata": {
        "id": "amyC2D0iozc_",
        "colab_type": "code",
        "colab": {
          "base_uri": "https://localhost:8080/",
          "height": 282
        },
        "outputId": "da007e38-0d1b-40cf-9193-dc697ecdf8ad"
      },
      "source": [
        "plt.imshow(train_digits[0])"
      ],
      "execution_count": 8,
      "outputs": [
        {
          "output_type": "execute_result",
          "data": {
            "text/plain": [
              "<matplotlib.image.AxesImage at 0x7ff09d3b61d0>"
            ]
          },
          "metadata": {
            "tags": []
          },
          "execution_count": 8
        },
        {
          "output_type": "display_data",
          "data": {
            "image/png": "[encoded data removed]",
            "text/plain": [
              "<Figure size 432x288 with 1 Axes>"
            ]
          },
          "metadata": {
            "tags": [],
            "needs_background": "light"
          }
        }
      ]
    },
    {
      "cell_type": "code",
      "metadata": {
        "id": "g8fbxMsIo4a4",
        "colab_type": "code",
        "colab": {
          "base_uri": "https://localhost:8080/",
          "height": 50
        },
        "outputId": "43bfc21b-c07b-47de-bc74-d331fccbd4a9"
      },
      "source": [
        "sample=np.random.randint(train_digits.shape[0],size=16)\n",
        "sample"
      ],
      "execution_count": 11,
      "outputs": [
        {
          "output_type": "execute_result",
          "data": {
            "text/plain": [
              "array([44101, 23502, 28316, 51655, 14836, 38516,  6677, 24708, 39093,\n",
              "       32781, 38633, 46113, 22581, 32116,  7044, 44346])"
            ]
          },
          "metadata": {
            "tags": []
          },
          "execution_count": 11
        }
      ]
    },
    {
      "cell_type": "code",
      "metadata": {
        "id": "XQzoRF5Jo82c",
        "colab_type": "code",
        "colab": {
          "base_uri": "https://localhost:8080/",
          "height": 917
        },
        "outputId": "2798c954-062a-432b-b152-a8c0e21dd6a6"
      },
      "source": [
        "plt.figure(figsize=(16,16))\n",
        "j=1\n",
        "for i in sample:\n",
        "  plt.subplot(4,4,j)\n",
        "  plt.imshow(train_digits[i])\n",
        "  plt.title(\"Digit:\"+str(train_labels[i]))\n",
        "  plt.axis(\"off\")\n",
        "  j += 1"
      ],
      "execution_count": 13,
      "outputs": [
        {
          "output_type": "display_data",
          "data": {
            "image/png": "[encoded data removed]",
            "text/plain": [
              "<Figure size 1152x1152 with 16 Axes>"
            ]
          },
          "metadata": {
            "tags": [],
            "needs_background": "light"
          }
        }
      ]
    },
    {
      "cell_type": "code",
      "metadata": {
        "id": "uLrB0y9hpLP2",
        "colab_type": "code",
        "colab": {
          "base_uri": "https://localhost:8080/",
          "height": 101
        },
        "outputId": "12324bcf-7aff-401c-e2da-9e7eee353896"
      },
      "source": [
        "train_digits[0][5:10,22:25]"
      ],
      "execution_count": 14,
      "outputs": [
        {
          "output_type": "execute_result",
          "data": {
            "text/plain": [
              "array([[247, 127,   0],\n",
              "       [195,  64,   0],\n",
              "       [ 39,   0,   0],\n",
              "       [  0,   0,   0],\n",
              "       [  0,   0,   0]], dtype=uint8)"
            ]
          },
          "metadata": {
            "tags": []
          },
          "execution_count": 14
        }
      ]
    },
    {
      "cell_type": "code",
      "metadata": {
        "id": "Kelr56k4pUB9",
        "colab_type": "code",
        "colab": {}
      },
      "source": [
        "train_digits_sc=train_digits/255.0\n",
        "test_digits_sc=test_digits/255.0"
      ],
      "execution_count": 15,
      "outputs": []
    },
    {
      "cell_type": "code",
      "metadata": {
        "id": "Fiza-FRNpXnA",
        "colab_type": "code",
        "colab": {
          "base_uri": "https://localhost:8080/",
          "height": 34
        },
        "outputId": "14d9a42b-78b8-44c9-eac3-6b3e006fda3c"
      },
      "source": [
        "from keras.utils import to_categorical\n",
        "train_labels_cat = to_categorical(train_labels)\n",
        "test_labels_cat=to_categorical(test_labels)\n",
        "train_labels_cat[0]"
      ],
      "execution_count": 16,
      "outputs": [
        {
          "output_type": "execute_result",
          "data": {
            "text/plain": [
              "array([0., 0., 0., 0., 0., 1., 0., 0., 0., 0.], dtype=float32)"
            ]
          },
          "metadata": {
            "tags": []
          },
          "execution_count": 16
        }
      ]
    },
    {
      "cell_type": "code",
      "metadata": {
        "id": "vEvK4mFypcqF",
        "colab_type": "code",
        "colab": {
          "base_uri": "https://localhost:8080/",
          "height": 34
        },
        "outputId": "9919290f-7199-407c-a865-4f9f197b6f68"
      },
      "source": [
        "test_labels_cat = to_categorical(test_labels)\n",
        "test_labels_cat[9]"
      ],
      "execution_count": 17,
      "outputs": [
        {
          "output_type": "execute_result",
          "data": {
            "text/plain": [
              "array([0., 0., 0., 0., 0., 0., 0., 0., 0., 1.], dtype=float32)"
            ]
          },
          "metadata": {
            "tags": []
          },
          "execution_count": 17
        }
      ]
    },
    {
      "cell_type": "code",
      "metadata": {
        "id": "YSrvscdTpiUc",
        "colab_type": "code",
        "colab": {
          "base_uri": "https://localhost:8080/",
          "height": 84
        },
        "outputId": "08f0c2a2-4042-4624-859c-ee2c62ea4f55"
      },
      "source": [
        "from sklearn.model_selection import train_test_split\n",
        "x_train,x_val,y_train,y_val=train_test_split(train_digits_sc,train_labels_cat,test_size=0.1,random_state=32)\n",
        "print(x_train.shape)\n",
        "print(x_val.shape)\n",
        "print(y_train.shape)\n",
        "print(y_val.shape)"
      ],
      "execution_count": 18,
      "outputs": [
        {
          "output_type": "stream",
          "text": [
            "(54000, 28, 28)\n",
            "(6000, 28, 28)\n",
            "(54000, 10)\n",
            "(6000, 10)\n"
          ],
          "name": "stdout"
        }
      ]
    },
    {
      "cell_type": "markdown",
      "metadata": {
        "id": "kqpq8fwupr52",
        "colab_type": "text"
      },
      "source": [
        "Model 1"
      ]
    },
    {
      "cell_type": "code",
      "metadata": {
        "id": "iEUiW3J7pmq7",
        "colab_type": "code",
        "colab": {
          "base_uri": "https://localhost:8080/",
          "height": 353
        },
        "outputId": "8cb702fb-da13-407a-913b-81859db2e3cc"
      },
      "source": [
        "from keras.models import Sequential\n",
        "from keras.layers import Dense,Flatten\n",
        "\n",
        "model = Sequential()\n",
        "# first layer we need to mention the input shape\n",
        "\n",
        "model.add(Flatten(input_shape=(28,28)))\n",
        "## 784 pixel values as input to this Dense. 128 Neurons in the layers\n",
        "model.add(Dense(128,activation='relu'))# 784 * 128+128\n",
        "model.add(Dense(128,activation='relu'))# \n",
        "model.add(Dense(64,activation='relu'))\n",
        "model.add(Dense(256,activation='relu'))\n",
        "#Final layer\n",
        "model.add(Dense(10,activation='softmax'))\n",
        "model.summary()"
      ],
      "execution_count": 19,
      "outputs": [
        {
          "output_type": "stream",
          "text": [
            "Model: \"sequential_1\"\n",
            "_________________________________________________________________\n",
            "Layer (type)                 Output Shape              Param #   \n",
            "=================================================================\n",
            "flatten_1 (Flatten)          (None, 784)               0         \n",
            "_________________________________________________________________\n",
            "dense_1 (Dense)              (None, 128)               100480    \n",
            "_________________________________________________________________\n",
            "dense_2 (Dense)              (None, 128)               16512     \n",
            "_________________________________________________________________\n",
            "dense_3 (Dense)              (None, 64)                8256      \n",
            "_________________________________________________________________\n",
            "dense_4 (Dense)              (None, 256)               16640     \n",
            "_________________________________________________________________\n",
            "dense_5 (Dense)              (None, 10)                2570      \n",
            "=================================================================\n",
            "Total params: 144,458\n",
            "Trainable params: 144,458\n",
            "Non-trainable params: 0\n",
            "_________________________________________________________________\n"
          ],
          "name": "stdout"
        }
      ]
    },
    {
      "cell_type": "code",
      "metadata": {
        "id": "FI7hIn6Lpt-E",
        "colab_type": "code",
        "colab": {
          "base_uri": "https://localhost:8080/",
          "height": 202
        },
        "outputId": "1f4f128f-7698-478d-94c8-aa1d62ba82f0"
      },
      "source": [
        "model.compile(optimizer='adam',loss=tf.keras.losses.CategoricalCrossentropy(),metrics=['accuracy'])\n",
        "history=model.fit(x=x_train,y=y_train,epochs=5,validation_data=(x_val,y_val),batch_size=32)"
      ],
      "execution_count": 20,
      "outputs": [
        {
          "output_type": "stream",
          "text": [
            "Train on 54000 samples, validate on 6000 samples\n",
            "Epoch 1/5\n",
            "54000/54000 [==============================] - 7s 125us/step - loss: 0.2470 - accuracy: 0.9246 - val_loss: 0.1632 - val_accuracy: 0.9507\n",
            "Epoch 2/5\n",
            "54000/54000 [==============================] - 6s 118us/step - loss: 0.1114 - accuracy: 0.9653 - val_loss: 0.1268 - val_accuracy: 0.9638\n",
            "Epoch 3/5\n",
            "54000/54000 [==============================] - 6s 119us/step - loss: 0.0807 - accuracy: 0.9751 - val_loss: 0.1068 - val_accuracy: 0.9708\n",
            "Epoch 4/5\n",
            "54000/54000 [==============================] - 7s 122us/step - loss: 0.0638 - accuracy: 0.9799 - val_loss: 0.1084 - val_accuracy: 0.9708\n",
            "Epoch 5/5\n",
            "54000/54000 [==============================] - 7s 121us/step - loss: 0.0527 - accuracy: 0.9835 - val_loss: 0.1141 - val_accuracy: 0.9730\n"
          ],
          "name": "stdout"
        }
      ]
    },
    {
      "cell_type": "code",
      "metadata": {
        "id": "mvrxjddXpx_L",
        "colab_type": "code",
        "colab": {
          "base_uri": "https://localhost:8080/",
          "height": 50
        },
        "outputId": "a6a94c63-9800-45f8-dfc8-065d9e217a51"
      },
      "source": [
        "model.evaluate(test_digits_sc,test_labels_cat)"
      ],
      "execution_count": 21,
      "outputs": [
        {
          "output_type": "stream",
          "text": [
            "10000/10000 [==============================] - 0s 30us/step\n"
          ],
          "name": "stdout"
        },
        {
          "output_type": "execute_result",
          "data": {
            "text/plain": [
              "[0.10071307541152345, 0.9724000096321106]"
            ]
          },
          "metadata": {
            "tags": []
          },
          "execution_count": 21
        }
      ]
    },
    {
      "cell_type": "code",
      "metadata": {
        "id": "PXPCVsuWp6-i",
        "colab_type": "code",
        "colab": {
          "base_uri": "https://localhost:8080/",
          "height": 67
        },
        "outputId": "14ee519c-42ca-4166-abeb-8d07b7a43a39"
      },
      "source": [
        "print(test_digits_sc.shape)\n",
        "print(test_digits_sc[0].shape)\n",
        "print(np.expand_dims(test_digits_sc[0],axis=0).shape)"
      ],
      "execution_count": 22,
      "outputs": [
        {
          "output_type": "stream",
          "text": [
            "(10000, 28, 28)\n",
            "(28, 28)\n",
            "(1, 28, 28)\n"
          ],
          "name": "stdout"
        }
      ]
    },
    {
      "cell_type": "code",
      "metadata": {
        "id": "kyvbSaWGp_hg",
        "colab_type": "code",
        "colab": {
          "base_uri": "https://localhost:8080/",
          "height": 67
        },
        "outputId": "bff5f267-4e9b-4a42-eaa7-1f90136dadf7"
      },
      "source": [
        "model.predict(np.expand_dims(test_digits_sc[0],axis=0))"
      ],
      "execution_count": 23,
      "outputs": [
        {
          "output_type": "execute_result",
          "data": {
            "text/plain": [
              "array([[3.8393370e-08, 1.0734668e-04, 7.3273775e-05, 5.5444782e-04,\n",
              "        9.5938354e-08, 5.7122031e-07, 1.5996146e-10, 9.9924612e-01,\n",
              "        2.8965530e-06, 1.5236819e-05]], dtype=float32)"
            ]
          },
          "metadata": {
            "tags": []
          },
          "execution_count": 23
        }
      ]
    },
    {
      "cell_type": "code",
      "metadata": {
        "id": "KuQnGRpXqD2K",
        "colab_type": "code",
        "colab": {
          "base_uri": "https://localhost:8080/",
          "height": 521
        },
        "outputId": "cd0a0928-3fdd-41b9-ba6c-23db6412de47"
      },
      "source": [
        "model.predict(test_digits_sc[:10])\n"
      ],
      "execution_count": 24,
      "outputs": [
        {
          "output_type": "execute_result",
          "data": {
            "text/plain": [
              "array([[3.83935195e-08, 1.07346881e-04, 7.32739209e-05, 5.54449158e-04,\n",
              "        9.59385389e-08, 5.71221392e-07, 1.59961766e-10, 9.99246120e-01,\n",
              "        2.89655577e-06, 1.52368493e-05],\n",
              "       [3.45980102e-12, 7.96886638e-07, 9.99998569e-01, 5.78158335e-07,\n",
              "        1.50653856e-09, 5.76284742e-10, 2.26943672e-10, 2.79647616e-09,\n",
              "        1.03978171e-09, 2.03978426e-14],\n",
              "       [7.00705938e-09, 9.99954581e-01, 3.13748897e-05, 2.84829952e-07,\n",
              "        8.16276042e-07, 2.73476900e-07, 1.86067177e-06, 4.90502487e-07,\n",
              "        1.01715978e-05, 2.29734241e-08],\n",
              "       [9.98113036e-01, 7.76380546e-07, 1.43348670e-03, 2.70743349e-05,\n",
              "        2.26915472e-05, 1.44548903e-04, 2.83036352e-05, 6.39894915e-06,\n",
              "        4.63509787e-06, 2.18986010e-04],\n",
              "       [2.32157710e-10, 5.98453731e-09, 1.22142323e-08, 5.82326742e-10,\n",
              "        9.99997139e-01, 5.20918704e-08, 2.16829416e-10, 2.31632825e-07,\n",
              "        8.65401639e-10, 2.56598059e-06],\n",
              "       [3.70506126e-10, 9.99997139e-01, 1.19616766e-06, 3.60978518e-08,\n",
              "        1.01268860e-07, 5.11331333e-09, 1.61787597e-08, 4.03984814e-07,\n",
              "        1.08228005e-06, 1.99587058e-09],\n",
              "       [1.97815275e-09, 6.33685318e-07, 6.28818100e-07, 2.62236277e-08,\n",
              "        9.99958873e-01, 1.17267587e-06, 5.62335689e-09, 1.04300389e-05,\n",
              "        1.80755549e-07, 2.80718687e-05],\n",
              "       [1.05221113e-06, 1.12113585e-05, 1.05944337e-05, 3.38044949e-03,\n",
              "        1.86571968e-04, 7.89625221e-04, 6.84800128e-08, 9.56153031e-04,\n",
              "        1.05133557e-04, 9.94559109e-01],\n",
              "       [1.29977336e-08, 1.52943841e-07, 1.55940739e-07, 2.03780364e-05,\n",
              "        2.00559256e-07, 9.94856000e-01, 1.05221719e-04, 1.75419110e-08,\n",
              "        4.14220802e-03, 8.75736238e-04],\n",
              "       [2.09192844e-10, 1.86368698e-09, 1.35098344e-09, 1.15152567e-07,\n",
              "        4.25189364e-06, 4.09751237e-08, 6.72150486e-12, 2.30202363e-06,\n",
              "        9.58797841e-08, 9.99993205e-01]], dtype=float32)"
            ]
          },
          "metadata": {
            "tags": []
          },
          "execution_count": 24
        }
      ]
    },
    {
      "cell_type": "code",
      "metadata": {
        "id": "wjpzXDEtqIf6",
        "colab_type": "code",
        "colab": {
          "base_uri": "https://localhost:8080/",
          "height": 34
        },
        "outputId": "485284ae-6f78-44ba-c5f1-524635da5e60"
      },
      "source": [
        "model.predict_classes(np.expand_dims(test_digits_sc[0],axis=0))"
      ],
      "execution_count": 25,
      "outputs": [
        {
          "output_type": "execute_result",
          "data": {
            "text/plain": [
              "array([7])"
            ]
          },
          "metadata": {
            "tags": []
          },
          "execution_count": 25
        }
      ]
    },
    {
      "cell_type": "code",
      "metadata": {
        "id": "zS-SONiMqON8",
        "colab_type": "code",
        "colab": {
          "base_uri": "https://localhost:8080/",
          "height": 67
        },
        "outputId": "a57e70e2-e287-4375-df10-18d1c3e96f19"
      },
      "source": [
        "model.predict_proba(np.expand_dims(test_digits_sc[0],axis=0))"
      ],
      "execution_count": 26,
      "outputs": [
        {
          "output_type": "execute_result",
          "data": {
            "text/plain": [
              "array([[3.8393370e-08, 1.0734668e-04, 7.3273775e-05, 5.5444782e-04,\n",
              "        9.5938354e-08, 5.7122031e-07, 1.5996146e-10, 9.9924612e-01,\n",
              "        2.8965530e-06, 1.5236819e-05]], dtype=float32)"
            ]
          },
          "metadata": {
            "tags": []
          },
          "execution_count": 26
        }
      ]
    },
    {
      "cell_type": "code",
      "metadata": {
        "id": "_bBnGL1kqRlI",
        "colab_type": "code",
        "colab": {
          "base_uri": "https://localhost:8080/",
          "height": 286
        },
        "outputId": "21dde3fc-95ae-4375-f90b-dd3dc6ff4648"
      },
      "source": [
        "history.history"
      ],
      "execution_count": 27,
      "outputs": [
        {
          "output_type": "execute_result",
          "data": {
            "text/plain": [
              "{'accuracy': [0.9245741, 0.96529627, 0.9751296, 0.9799074, 0.98348147],\n",
              " 'loss': [0.24701497123349045,\n",
              "  0.11142430039412446,\n",
              "  0.0807099484414966,\n",
              "  0.06382810913186727,\n",
              "  0.05271012207279327],\n",
              " 'val_accuracy': [0.9506666660308838,\n",
              "  0.9638333320617676,\n",
              "  0.9708333611488342,\n",
              "  0.9708333611488342,\n",
              "  0.9729999899864197],\n",
              " 'val_loss': [0.16317159941295784,\n",
              "  0.1268005561803778,\n",
              "  0.10682276368513703,\n",
              "  0.1083672151590387,\n",
              "  0.11412061410319681]}"
            ]
          },
          "metadata": {
            "tags": []
          },
          "execution_count": 27
        }
      ]
    },
    {
      "cell_type": "code",
      "metadata": {
        "id": "JmbNs70pqUH8",
        "colab_type": "code",
        "colab": {
          "base_uri": "https://localhost:8080/",
          "height": 282
        },
        "outputId": "0bbe4cf2-a1b2-4375-eeca-6f025944e26c"
      },
      "source": [
        "plt.plot(history.history['accuracy'])\n",
        "plt.plot(history.history['val_accuracy'])"
      ],
      "execution_count": 28,
      "outputs": [
        {
          "output_type": "execute_result",
          "data": {
            "text/plain": [
              "[<matplotlib.lines.Line2D at 0x7ff09ce57860>]"
            ]
          },
          "metadata": {
            "tags": []
          },
          "execution_count": 28
        },
        {
          "output_type": "display_data",
          "data": {
            "image/png": "[encoded data removed]",
            "text/plain": [
              "<Figure size 432x288 with 1 Axes>"
            ]
          },
          "metadata": {
            "tags": [],
            "needs_background": "light"
          }
        }
      ]
    },
    {
      "cell_type": "markdown",
      "metadata": {
        "id": "D-904fwIqdlv",
        "colab_type": "text"
      },
      "source": [
        "Model 2"
      ]
    },
    {
      "cell_type": "code",
      "metadata": {
        "id": "9I4cnSJLqZGF",
        "colab_type": "code",
        "colab": {
          "base_uri": "https://localhost:8080/",
          "height": 353
        },
        "outputId": "0fd6a03d-0de7-46ae-8ead-6aea75497d56"
      },
      "source": [
        "model1 = Sequential()\n",
        "# first layer we need to mention the input shape\n",
        "\n",
        "model1.add(Flatten(input_shape=(28,28)))\n",
        "## 784 pixel values as input to this Dense. 128 Neurons in the layers\n",
        "model1.add(Dense(128,activation='relu'))# 784 * 128+128\n",
        "model1.add(Dense(256,activation='relu'))# \n",
        "model1.add(Dense(64,activation='relu'))\n",
        "model1.add(Dense(256,activation='relu'))\n",
        "#Final layer\n",
        "model1.add(Dense(10,activation='sigmoid'))\n",
        "model1.summary()"
      ],
      "execution_count": 29,
      "outputs": [
        {
          "output_type": "stream",
          "text": [
            "Model: \"sequential_2\"\n",
            "_________________________________________________________________\n",
            "Layer (type)                 Output Shape              Param #   \n",
            "=================================================================\n",
            "flatten_2 (Flatten)          (None, 784)               0         \n",
            "_________________________________________________________________\n",
            "dense_6 (Dense)              (None, 128)               100480    \n",
            "_________________________________________________________________\n",
            "dense_7 (Dense)              (None, 256)               33024     \n",
            "_________________________________________________________________\n",
            "dense_8 (Dense)              (None, 64)                16448     \n",
            "_________________________________________________________________\n",
            "dense_9 (Dense)              (None, 256)               16640     \n",
            "_________________________________________________________________\n",
            "dense_10 (Dense)             (None, 10)                2570      \n",
            "=================================================================\n",
            "Total params: 169,162\n",
            "Trainable params: 169,162\n",
            "Non-trainable params: 0\n",
            "_________________________________________________________________\n"
          ],
          "name": "stdout"
        }
      ]
    },
    {
      "cell_type": "code",
      "metadata": {
        "id": "v4cUo2kfqgT4",
        "colab_type": "code",
        "colab": {
          "base_uri": "https://localhost:8080/",
          "height": 202
        },
        "outputId": "d6cc1427-08d2-4eb3-e7c2-151d00e45152"
      },
      "source": [
        "model1.compile(optimizer='adam',loss=tf.keras.losses.CategoricalCrossentropy(),metrics=['accuracy'])\n",
        "history=model1.fit(x=x_train,y=y_train,epochs=5,validation_data=(x_val,y_val),batch_size=32)"
      ],
      "execution_count": 30,
      "outputs": [
        {
          "output_type": "stream",
          "text": [
            "Train on 54000 samples, validate on 6000 samples\n",
            "Epoch 1/5\n",
            "54000/54000 [==============================] - 8s 144us/step - loss: 0.2593 - accuracy: 0.9199 - val_loss: 0.1653 - val_accuracy: 0.9480\n",
            "Epoch 2/5\n",
            "54000/54000 [==============================] - 8s 141us/step - loss: 0.1098 - accuracy: 0.9681 - val_loss: 0.1276 - val_accuracy: 0.9635\n",
            "Epoch 3/5\n",
            "54000/54000 [==============================] - 7s 138us/step - loss: 0.0801 - accuracy: 0.9755 - val_loss: 0.1177 - val_accuracy: 0.9672\n",
            "Epoch 4/5\n",
            "54000/54000 [==============================] - 8s 140us/step - loss: 0.0622 - accuracy: 0.9805 - val_loss: 0.1069 - val_accuracy: 0.9708\n",
            "Epoch 5/5\n",
            "54000/54000 [==============================] - 8s 141us/step - loss: 0.0502 - accuracy: 0.9851 - val_loss: 0.1135 - val_accuracy: 0.9705\n"
          ],
          "name": "stdout"
        }
      ]
    },
    {
      "cell_type": "code",
      "metadata": {
        "id": "YzTKIUfkqk3u",
        "colab_type": "code",
        "colab": {
          "base_uri": "https://localhost:8080/",
          "height": 50
        },
        "outputId": "ef9d0fbf-c995-432d-cc16-dd74a58570ab"
      },
      "source": [
        "model1.evaluate(test_digits_sc,test_labels_cat)"
      ],
      "execution_count": 31,
      "outputs": [
        {
          "output_type": "stream",
          "text": [
            "10000/10000 [==============================] - 0s 33us/step\n"
          ],
          "name": "stdout"
        },
        {
          "output_type": "execute_result",
          "data": {
            "text/plain": [
              "[0.10321083835801109, 0.9724000096321106]"
            ]
          },
          "metadata": {
            "tags": []
          },
          "execution_count": 31
        }
      ]
    },
    {
      "cell_type": "code",
      "metadata": {
        "id": "_76usNb2qvG1",
        "colab_type": "code",
        "colab": {
          "base_uri": "https://localhost:8080/",
          "height": 67
        },
        "outputId": "4036f139-f504-4493-b479-17e25747a650"
      },
      "source": [
        "print(test_digits_sc.shape)\n",
        "print(test_digits_sc[0].shape)\n",
        "print(np.expand_dims(test_digits_sc[0],axis=0).shape)"
      ],
      "execution_count": 32,
      "outputs": [
        {
          "output_type": "stream",
          "text": [
            "(10000, 28, 28)\n",
            "(28, 28)\n",
            "(1, 28, 28)\n"
          ],
          "name": "stdout"
        }
      ]
    },
    {
      "cell_type": "code",
      "metadata": {
        "id": "PAdI8pxhqx_8",
        "colab_type": "code",
        "colab": {
          "base_uri": "https://localhost:8080/",
          "height": 67
        },
        "outputId": "22c1b290-86b3-46f5-a688-efd4e3c874d1"
      },
      "source": [
        "model1.predict(np.expand_dims(test_digits_sc[0],axis=0))"
      ],
      "execution_count": 33,
      "outputs": [
        {
          "output_type": "execute_result",
          "data": {
            "text/plain": [
              "array([[1.0799039e-11, 1.5522739e-06, 6.4689374e-08, 2.0915099e-06,\n",
              "        6.5752932e-09, 2.5656144e-11, 6.7816660e-15, 9.9999857e-01,\n",
              "        1.4168392e-08, 3.2414737e-06]], dtype=float32)"
            ]
          },
          "metadata": {
            "tags": []
          },
          "execution_count": 33
        }
      ]
    },
    {
      "cell_type": "code",
      "metadata": {
        "id": "8gSieYK-q1DC",
        "colab_type": "code",
        "colab": {
          "base_uri": "https://localhost:8080/",
          "height": 521
        },
        "outputId": "ad9b0198-2af2-4ef2-927c-dbc26494611f"
      },
      "source": [
        "model1.predict(test_digits_sc[:10])"
      ],
      "execution_count": 34,
      "outputs": [
        {
          "output_type": "execute_result",
          "data": {
            "text/plain": [
              "array([[1.0799101e-11, 1.5522785e-06, 6.4689246e-08, 2.0915058e-06,\n",
              "        6.5752932e-09, 2.5656340e-11, 6.7816918e-15, 9.9999857e-01,\n",
              "        1.4168393e-08, 3.2414830e-06],\n",
              "       [5.8050778e-09, 1.2644335e-07, 9.9945247e-01, 2.1189024e-08,\n",
              "        3.0746676e-09, 2.8023337e-08, 1.9031096e-07, 2.8385849e-09,\n",
              "        1.1014737e-08, 3.0858963e-12],\n",
              "       [5.7406570e-08, 9.9821794e-01, 3.2994238e-05, 1.8370014e-07,\n",
              "        1.7900871e-05, 1.6039926e-06, 2.8092549e-05, 9.2079506e-07,\n",
              "        2.0513549e-05, 3.0434947e-08],\n",
              "       [9.9999982e-01, 2.3901121e-18, 3.7888873e-13, 7.7448808e-10,\n",
              "        4.2093612e-12, 2.2916247e-09, 1.4611804e-06, 6.9532757e-15,\n",
              "        4.3987841e-13, 5.7473801e-13],\n",
              "       [2.8233123e-07, 4.4753374e-06, 3.3030537e-05, 6.3436563e-09,\n",
              "        9.9941838e-01, 3.2896007e-06, 6.8944962e-07, 5.4544693e-05,\n",
              "        3.6450274e-07, 5.7910060e-05],\n",
              "       [6.7536848e-10, 9.9973357e-01, 3.5838582e-07, 2.2263740e-09,\n",
              "        7.2243438e-07, 4.4345640e-08, 8.4301558e-07, 3.1574787e-09,\n",
              "        5.1957289e-07, 3.3884801e-10],\n",
              "       [3.3970950e-09, 6.5913849e-07, 1.5656367e-06, 3.3356029e-10,\n",
              "        9.9971759e-01, 1.6279130e-06, 2.0079270e-07, 2.8500281e-06,\n",
              "        3.0994670e-06, 2.1475393e-05],\n",
              "       [1.2239526e-04, 6.8491240e-06, 1.8694997e-04, 4.8986048e-02,\n",
              "        1.0305534e-04, 3.1702399e-02, 1.3053568e-06, 6.9686770e-04,\n",
              "        4.2101741e-04, 9.5763868e-01],\n",
              "       [3.2024682e-03, 2.8249621e-04, 5.0565600e-04, 9.2703340e-05,\n",
              "        3.2985210e-04, 6.0617656e-02, 9.9311495e-01, 2.8286822e-06,\n",
              "        1.6102493e-03, 5.0275434e-05],\n",
              "       [3.5804626e-07, 5.8051887e-07, 1.8213139e-07, 9.6860754e-07,\n",
              "        1.9508302e-02, 8.5710082e-07, 3.0329923e-09, 2.7020900e-05,\n",
              "        4.0292771e-06, 9.9722052e-01]], dtype=float32)"
            ]
          },
          "metadata": {
            "tags": []
          },
          "execution_count": 34
        }
      ]
    },
    {
      "cell_type": "code",
      "metadata": {
        "id": "wN9Sh1qqq4XS",
        "colab_type": "code",
        "colab": {
          "base_uri": "https://localhost:8080/",
          "height": 34
        },
        "outputId": "55e01264-c029-4390-a136-a5ce5752f4a5"
      },
      "source": [
        "model1.predict_classes(np.expand_dims(test_digits_sc[0],axis=0))"
      ],
      "execution_count": 35,
      "outputs": [
        {
          "output_type": "execute_result",
          "data": {
            "text/plain": [
              "array([7])"
            ]
          },
          "metadata": {
            "tags": []
          },
          "execution_count": 35
        }
      ]
    },
    {
      "cell_type": "code",
      "metadata": {
        "id": "feSzd46dq75U",
        "colab_type": "code",
        "colab": {
          "base_uri": "https://localhost:8080/",
          "height": 67
        },
        "outputId": "beda5961-68a4-498d-fe12-3442b06a654f"
      },
      "source": [
        "model1.predict_proba(np.expand_dims(test_digits_sc[0],axis=0))"
      ],
      "execution_count": 36,
      "outputs": [
        {
          "output_type": "execute_result",
          "data": {
            "text/plain": [
              "array([[1.0799039e-11, 1.5522739e-06, 6.4689374e-08, 2.0915099e-06,\n",
              "        6.5752932e-09, 2.5656144e-11, 6.7816660e-15, 9.9999857e-01,\n",
              "        1.4168392e-08, 3.2414737e-06]], dtype=float32)"
            ]
          },
          "metadata": {
            "tags": []
          },
          "execution_count": 36
        }
      ]
    },
    {
      "cell_type": "code",
      "metadata": {
        "id": "YAQQdkRKq_CU",
        "colab_type": "code",
        "colab": {
          "base_uri": "https://localhost:8080/",
          "height": 286
        },
        "outputId": "d8a2fac3-b1d6-467c-e570-ab70d6065040"
      },
      "source": [
        "history.history"
      ],
      "execution_count": 37,
      "outputs": [
        {
          "output_type": "execute_result",
          "data": {
            "text/plain": [
              "{'accuracy': [0.9198889, 0.96805555, 0.9755185, 0.9805, 0.98505557],\n",
              " 'loss': [0.25930071382721265,\n",
              "  0.10981707457853136,\n",
              "  0.08012686385279866,\n",
              "  0.0622242818399229,\n",
              "  0.05015454599061222],\n",
              " 'val_accuracy': [0.9480000138282776,\n",
              "  0.9635000228881836,\n",
              "  0.9671666622161865,\n",
              "  0.9708333611488342,\n",
              "  0.9704999923706055],\n",
              " 'val_loss': [0.16528958805898825,\n",
              "  0.12764966539045175,\n",
              "  0.11774300374090671,\n",
              "  0.10688701836888989,\n",
              "  0.11352227711025625]}"
            ]
          },
          "metadata": {
            "tags": []
          },
          "execution_count": 37
        }
      ]
    },
    {
      "cell_type": "code",
      "metadata": {
        "id": "773Y8klwrBoe",
        "colab_type": "code",
        "colab": {
          "base_uri": "https://localhost:8080/",
          "height": 282
        },
        "outputId": "7d366036-e7b3-4954-afe4-a30c27c3475b"
      },
      "source": [
        "plt.plot(history.history['accuracy'])\n",
        "plt.plot(history.history['val_accuracy'])"
      ],
      "execution_count": 38,
      "outputs": [
        {
          "output_type": "execute_result",
          "data": {
            "text/plain": [
              "[<matplotlib.lines.Line2D at 0x7ff09ca4d7f0>]"
            ]
          },
          "metadata": {
            "tags": []
          },
          "execution_count": 38
        },
        {
          "output_type": "display_data",
          "data": {
            "image/png": "[encoded data removed]",
            "text/plain": [
              "<Figure size 432x288 with 1 Axes>"
            ]
          },
          "metadata": {
            "tags": [],
            "needs_background": "light"
          }
        }
      ]
    },
    {
      "cell_type": "markdown",
      "metadata": {
        "id": "BgLboJeyrXdd",
        "colab_type": "text"
      },
      "source": [
        "- The accuarcy and Val_Accuracy of the model 1 is :[0.10071307541152345, 0.9724000096321106]\n",
        "\n",
        "- The accuarcy andVal_Accuracy of the model 2 is :[0.10321083835801109, 0.9724000096321106]\n",
        "\n",
        "- Hence model 2 is best than model 1"
      ]
    },
    {
      "cell_type": "code",
      "metadata": {
        "id": "Z4VfmQGYrF6E",
        "colab_type": "code",
        "colab": {}
      },
      "source": [
        ""
      ],
      "execution_count": null,
      "outputs": []
    }
  ]
}