{
 "cells": [
  {
   "cell_type": "markdown",
   "metadata": {},
   "source": [
    "### CSE-221710304062-Vaishnavi.B"
   ]
  },
  {
   "cell_type": "code",
   "execution_count": 1,
   "metadata": {},
   "outputs": [
    {
     "name": "stdout",
     "output_type": "stream",
     "text": [
      "sleepysurya$0\n",
      "enter yes to get other password or no:yes\n",
      "runningpeacock@3\n",
      "enter yes to get other password or no:yes\n",
      "dancingamrita!9\n",
      "enter yes to get other password or no:no\n"
     ]
    }
   ],
   "source": [
    "import random\n",
    "verb = [\"sleepy\",\"eating\",\"walking\",\"running\",\"dancing\",\"singing\",\"swimming\",\"studying\",\"cooking\",\"talking\"]\n",
    "noun = [\"lion\",\"tiger\",\"surya\",\"suhas\",\"varsha\",\"varshini\",\"amrita\",\"vaishnavi\",\"sanjana\",\"peacock\"]\n",
    "num = [0,1,2,3,4,5,6,7,8,9]\n",
    "splsymbols = [\"!\",\"@\",\"#\",\"$\",\"%\",\"^\",\"&\",\"*\"]\n",
    "\n",
    "x=\"yes\"\n",
    "while x==\"yes\":\n",
    "    \n",
    "    r1=random.choice(verb)\n",
    "    r2=random.choice(noun)\n",
    "    r4=random.choice(num)\n",
    "    r3=random.choice(splsymbols)\n",
    "    print(r1,end=\"\")\n",
    "    print(r2,end=\"\")\n",
    "    print(r3,end=\"\")\n",
    "    print(r4)\n",
    "    x=input(\"enter yes to get other password or no:\")\n",
    "    "
   ]
  },
  {
   "cell_type": "code",
   "execution_count": null,
   "metadata": {},
   "outputs": [],
   "source": []
  },
  {
   "cell_type": "code",
   "execution_count": null,
   "metadata": {},
   "outputs": [],
   "source": []
  }
 ],
 "metadata": {
  "kernelspec": {
   "display_name": "Python 3",
   "language": "python",
   "name": "python3"
  },
  "language_info": {
   "codemirror_mode": {
    "name": "ipython",
    "version": 3
   },
   "file_extension": ".py",
   "mimetype": "text/x-python",
   "name": "python",
   "nbconvert_exporter": "python",
   "pygments_lexer": "ipython3",
   "version": "3.7.4"
  }
 },
 "nbformat": 4,
 "nbformat_minor": 2
}
