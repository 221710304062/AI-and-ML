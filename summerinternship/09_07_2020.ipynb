{
  "nbformat": 4,
  "nbformat_minor": 0,
  "metadata": {
    "colab": {
      "name": "09-07-2020",
      "provenance": [],
      "collapsed_sections": []
    },
    "kernelspec": {
      "name": "python3",
      "display_name": "Python 3"
    }
  },
  "cells": [
    {
      "cell_type": "markdown",
      "metadata": {
        "id": "fxHtxwikSQBb",
        "colab_type": "text"
      },
      "source": [
        "Handwritten digit recognition"
      ]
    },
    {
      "cell_type": "markdown",
      "metadata": {
        "id": "YWKBYw7aTPo7",
        "colab_type": "text"
      },
      "source": [
        "Data collection"
      ]
    },
    {
      "cell_type": "markdown",
      "metadata": {
        "id": "1fMmgLvjTpPw",
        "colab_type": "text"
      },
      "source": [
        "Importing the required packages"
      ]
    },
    {
      "cell_type": "code",
      "metadata": {
        "id": "iX4ca510T3dY",
        "colab_type": "code",
        "colab": {}
      },
      "source": [
        "import tensorflow as tf\n",
        "import tensorflow.keras as keras\n",
        "import numpy as np\n",
        "import matplotlib.pyplot as plt\n",
        "%matplotlib inline"
      ],
      "execution_count": 3,
      "outputs": []
    },
    {
      "cell_type": "markdown",
      "metadata": {
        "id": "87fpCObrUpEx",
        "colab_type": "text"
      },
      "source": [
        "Load the MNIST dataset"
      ]
    },
    {
      "cell_type": "code",
      "metadata": {
        "id": "dy9VRFLaUXoZ",
        "colab_type": "code",
        "colab": {
          "base_uri": "https://localhost:8080/",
          "height": 34
        },
        "outputId": "537914f6-9b91-48f0-a171-89eb3f645a9b"
      },
      "source": [
        " from keras.datasets.mnist import load_data"
      ],
      "execution_count": 5,
      "outputs": [
        {
          "output_type": "stream",
          "text": [
            "Using TensorFlow backend.\n"
          ],
          "name": "stderr"
        }
      ]
    },
    {
      "cell_type": "code",
      "metadata": {
        "id": "1zmpEQ2kUmvf",
        "colab_type": "code",
        "colab": {
          "base_uri": "https://localhost:8080/",
          "height": 67
        },
        "outputId": "440892f6-7164-4e21-d241-dde0e927877c"
      },
      "source": [
        "## load_data -- return value is two tuples train,test\n",
        "(train_digits,train_labels),(test_digits,test_labels) = load_data()\n",
        "print(train_digits.shape)"
      ],
      "execution_count": 6,
      "outputs": [
        {
          "output_type": "stream",
          "text": [
            "Downloading data from https://s3.amazonaws.com/img-datasets/mnist.npz\n",
            "11493376/11490434 [==============================] - 1s 0us/step\n",
            "(60000, 28, 28)\n"
          ],
          "name": "stdout"
        }
      ]
    },
    {
      "cell_type": "code",
      "metadata": {
        "id": "C__NG4gEdnkg",
        "colab_type": "code",
        "colab": {
          "base_uri": "https://localhost:8080/",
          "height": 34
        },
        "outputId": "d1b801d5-e87b-40da-cd03-a116752bc648"
      },
      "source": [
        "print(test_digits.shape)"
      ],
      "execution_count": 7,
      "outputs": [
        {
          "output_type": "stream",
          "text": [
            "(10000, 28, 28)\n"
          ],
          "name": "stdout"
        }
      ]
    },
    {
      "cell_type": "markdown",
      "metadata": {
        "id": "9IzFXlaXduQV",
        "colab_type": "text"
      },
      "source": [
        "There are 10 classes. from class 0 to class 9"
      ]
    },
    {
      "cell_type": "code",
      "metadata": {
        "id": "zoDvKGwwdrt3",
        "colab_type": "code",
        "colab": {
          "base_uri": "https://localhost:8080/",
          "height": 34
        },
        "outputId": "00cc7f4c-d0b8-4cc2-eb47-05727612b4da"
      },
      "source": [
        "print(train_labels.shape)"
      ],
      "execution_count": 8,
      "outputs": [
        {
          "output_type": "stream",
          "text": [
            "(60000,)\n"
          ],
          "name": "stdout"
        }
      ]
    },
    {
      "cell_type": "markdown",
      "metadata": {
        "id": "wAsXvenJd1ft",
        "colab_type": "text"
      },
      "source": [
        "Class wise images count"
      ]
    },
    {
      "cell_type": "code",
      "metadata": {
        "id": "qm0Li8zRdzR1",
        "colab_type": "code",
        "colab": {
          "base_uri": "https://localhost:8080/",
          "height": 34
        },
        "outputId": "96439347-005f-494e-be22-cdf679768635"
      },
      "source": [
        "type(train_labels)"
      ],
      "execution_count": 9,
      "outputs": [
        {
          "output_type": "execute_result",
          "data": {
            "text/plain": [
              "numpy.ndarray"
            ]
          },
          "metadata": {
            "tags": []
          },
          "execution_count": 9
        }
      ]
    },
    {
      "cell_type": "code",
      "metadata": {
        "id": "clenDv_2d6Z0",
        "colab_type": "code",
        "colab": {
          "base_uri": "https://localhost:8080/",
          "height": 202
        },
        "outputId": "a088baa1-0dfe-4598-fc62-d403f9466a6e"
      },
      "source": [
        "import pandas as pd\n",
        "pd.Series(train_labels).value_counts()"
      ],
      "execution_count": 10,
      "outputs": [
        {
          "output_type": "execute_result",
          "data": {
            "text/plain": [
              "1    6742\n",
              "7    6265\n",
              "3    6131\n",
              "2    5958\n",
              "9    5949\n",
              "0    5923\n",
              "6    5918\n",
              "8    5851\n",
              "4    5842\n",
              "5    5421\n",
              "dtype: int64"
            ]
          },
          "metadata": {
            "tags": []
          },
          "execution_count": 10
        }
      ]
    },
    {
      "cell_type": "code",
      "metadata": {
        "id": "xi8pArzjd9wK",
        "colab_type": "code",
        "colab": {
          "base_uri": "https://localhost:8080/",
          "height": 202
        },
        "outputId": "26224ab1-a2c2-40fb-9448-8ef81b906f6c"
      },
      "source": [
        "pd.Series(test_labels).value_counts()"
      ],
      "execution_count": 11,
      "outputs": [
        {
          "output_type": "execute_result",
          "data": {
            "text/plain": [
              "1    1135\n",
              "2    1032\n",
              "7    1028\n",
              "3    1010\n",
              "9    1009\n",
              "4     982\n",
              "0     980\n",
              "8     974\n",
              "6     958\n",
              "5     892\n",
              "dtype: int64"
            ]
          },
          "metadata": {
            "tags": []
          },
          "execution_count": 11
        }
      ]
    },
    {
      "cell_type": "markdown",
      "metadata": {
        "id": "Cw4VYMskeFpe",
        "colab_type": "text"
      },
      "source": [
        "### EDA\n",
        "Display a few images with labels.\n"
      ]
    },
    {
      "cell_type": "code",
      "metadata": {
        "id": "vtjAku3VeAnd",
        "colab_type": "code",
        "colab": {
          "base_uri": "https://localhost:8080/",
          "height": 282
        },
        "outputId": "902794db-4dce-4df9-ef13-1bb40b5c9c71"
      },
      "source": [
        "plt.imshow(train_digits[0])"
      ],
      "execution_count": 12,
      "outputs": [
        {
          "output_type": "execute_result",
          "data": {
            "text/plain": [
              "<matplotlib.image.AxesImage at 0x7f3bd42eecf8>"
            ]
          },
          "metadata": {
            "tags": []
          },
          "execution_count": 12
        },
        {
          "output_type": "display_data",
          "data": {
            "image/png": "[encoded data removed]",
            "text/plain": [
              "<Figure size 432x288 with 1 Axes>"
            ]
          },
          "metadata": {
            "tags": [],
            "needs_background": "light"
          }
        }
      ]
    },
    {
      "cell_type": "code",
      "metadata": {
        "id": "26B3yStweM-4",
        "colab_type": "code",
        "colab": {
          "base_uri": "https://localhost:8080/",
          "height": 298
        },
        "outputId": "86332eba-2370-4546-f8f7-0757a7b148fb"
      },
      "source": [
        "plt.imshow(train_digits[0],cmap='gray')\n",
        "plt.title(\"Digit \"+ str(train_labels[0]))"
      ],
      "execution_count": 13,
      "outputs": [
        {
          "output_type": "execute_result",
          "data": {
            "text/plain": [
              "Text(0.5, 1.0, 'Digit 5')"
            ]
          },
          "metadata": {
            "tags": []
          },
          "execution_count": 13
        },
        {
          "output_type": "display_data",
          "data": {
            "image/png": "[encoded data removed]",
            "text/plain": [
              "<Figure size 432x288 with 1 Axes>"
            ]
          },
          "metadata": {
            "tags": [],
            "needs_background": "light"
          }
        }
      ]
    },
    {
      "cell_type": "code",
      "metadata": {
        "id": "FTel8Ww2eQEH",
        "colab_type": "code",
        "colab": {
          "base_uri": "https://localhost:8080/",
          "height": 101
        },
        "outputId": "8bb3aeb4-a858-417a-8cf5-f5a5cdc928de"
      },
      "source": [
        "train_digits[0][5:10,22:25]"
      ],
      "execution_count": 14,
      "outputs": [
        {
          "output_type": "execute_result",
          "data": {
            "text/plain": [
              "array([[247, 127,   0],\n",
              "       [195,  64,   0],\n",
              "       [ 39,   0,   0],\n",
              "       [  0,   0,   0],\n",
              "       [  0,   0,   0]], dtype=uint8)"
            ]
          },
          "metadata": {
            "tags": []
          },
          "execution_count": 14
        }
      ]
    },
    {
      "cell_type": "code",
      "metadata": {
        "id": "X4yyt2BeeTCF",
        "colab_type": "code",
        "colab": {
          "base_uri": "https://localhost:8080/",
          "height": 34
        },
        "outputId": "16752414-756d-4453-b5ed-a0166cd9dc11"
      },
      "source": [
        "28*28"
      ],
      "execution_count": 15,
      "outputs": [
        {
          "output_type": "execute_result",
          "data": {
            "text/plain": [
              "784"
            ]
          },
          "metadata": {
            "tags": []
          },
          "execution_count": 15
        }
      ]
    },
    {
      "cell_type": "code",
      "metadata": {
        "id": "kpErROy0eWE1",
        "colab_type": "code",
        "colab": {
          "base_uri": "https://localhost:8080/",
          "height": 786
        },
        "outputId": "85d5e1e3-1773-4bab-a521-8ecd35349861"
      },
      "source": [
        "plt.hist(train_digits[0])"
      ],
      "execution_count": 16,
      "outputs": [
        {
          "output_type": "execute_result",
          "data": {
            "text/plain": [
              "(array([[28.,  0.,  0.,  0.,  0.,  0.,  0.,  0.,  0.,  0.],\n",
              "        [28.,  0.,  0.,  0.,  0.,  0.,  0.,  0.,  0.,  0.],\n",
              "        [28.,  0.,  0.,  0.,  0.,  0.,  0.,  0.,  0.,  0.],\n",
              "        [28.,  0.,  0.,  0.,  0.,  0.,  0.,  0.,  0.,  0.],\n",
              "        [26.,  0.,  1.,  0.,  0.,  1.,  0.,  0.,  0.,  0.],\n",
              "        [26.,  0.,  0.,  0.,  0.,  0.,  1.,  0.,  0.,  1.],\n",
              "        [26.,  0.,  0.,  0.,  0.,  0.,  0.,  0.,  1.,  1.],\n",
              "        [24.,  1.,  0.,  0.,  0.,  0.,  1.,  0.,  0.,  2.],\n",
              "        [21.,  1.,  0.,  1.,  0.,  0.,  0.,  0.,  3.,  2.],\n",
              "        [20.,  1.,  1.,  0.,  0.,  1.,  1.,  0.,  0.,  4.],\n",
              "        [20.,  0.,  0.,  1.,  1.,  1.,  0.,  0.,  1.,  4.],\n",
              "        [18.,  0.,  0.,  0.,  1.,  1.,  2.,  0.,  0.,  6.],\n",
              "        [15.,  2.,  0.,  0.,  0.,  1.,  1.,  1.,  1.,  7.],\n",
              "        [15.,  0.,  0.,  2.,  0.,  1.,  0.,  2.,  1.,  7.],\n",
              "        [16.,  2.,  1.,  1.,  0.,  0.,  0.,  1.,  2.,  5.],\n",
              "        [18.,  0.,  0.,  0.,  0.,  1.,  1.,  3.,  0.,  5.],\n",
              "        [15.,  1.,  0.,  2.,  2.,  0.,  0.,  1.,  0.,  7.],\n",
              "        [16.,  0.,  0.,  0.,  1.,  1.,  1.,  1.,  0.,  8.],\n",
              "        [19.,  0.,  0.,  2.,  0.,  1.,  1.,  0.,  1.,  4.],\n",
              "        [20.,  2.,  0.,  1.,  0.,  0.,  1.,  2.,  1.,  1.],\n",
              "        [24.,  0.,  1.,  1.,  0.,  0.,  1.,  0.,  0.,  1.],\n",
              "        [25.,  0.,  1.,  0.,  0.,  0.,  0.,  0.,  0.,  2.],\n",
              "        [25.,  1.,  0.,  0.,  0.,  0.,  0.,  1.,  0.,  1.],\n",
              "        [26.,  0.,  1.,  0.,  1.,  0.,  0.,  0.,  0.,  0.],\n",
              "        [28.,  0.,  0.,  0.,  0.,  0.,  0.,  0.,  0.,  0.],\n",
              "        [28.,  0.,  0.,  0.,  0.,  0.,  0.,  0.,  0.,  0.],\n",
              "        [28.,  0.,  0.,  0.,  0.,  0.,  0.,  0.,  0.,  0.],\n",
              "        [28.,  0.,  0.,  0.,  0.,  0.,  0.,  0.,  0.,  0.]]),\n",
              " array([  0. ,  25.5,  51. ,  76.5, 102. , 127.5, 153. , 178.5, 204. ,\n",
              "        229.5, 255. ]),\n",
              " <a list of 28 Lists of Patches objects>)"
            ]
          },
          "metadata": {
            "tags": []
          },
          "execution_count": 16
        },
        {
          "output_type": "display_data",
          "data": {
            "image/png": "[encoded data removed]",
            "text/plain": [
              "<Figure size 432x288 with 1 Axes>"
            ]
          },
          "metadata": {
            "tags": [],
            "needs_background": "light"
          }
        }
      ]
    },
    {
      "cell_type": "code",
      "metadata": {
        "id": "wGAzP8q2eZ-g",
        "colab_type": "code",
        "colab": {
          "base_uri": "https://localhost:8080/",
          "height": 332
        },
        "outputId": "b02cf7e5-4d96-4ae0-b369-918c96b2d6fb"
      },
      "source": [
        "plt.hist(train_digits[0].flat)"
      ],
      "execution_count": 17,
      "outputs": [
        {
          "output_type": "execute_result",
          "data": {
            "text/plain": [
              "(array([639.,  11.,   6.,  11.,   6.,   9.,  11.,  12.,  11.,  68.]),\n",
              " array([  0. ,  25.5,  51. ,  76.5, 102. , 127.5, 153. , 178.5, 204. ,\n",
              "        229.5, 255. ]),\n",
              " <a list of 10 Patch objects>)"
            ]
          },
          "metadata": {
            "tags": []
          },
          "execution_count": 17
        },
        {
          "output_type": "display_data",
          "data": {
            "image/png": "[encoded data removed]",
            "text/plain": [
              "<Figure size 432x288 with 1 Axes>"
            ]
          },
          "metadata": {
            "tags": [],
            "needs_background": "light"
          }
        }
      ]
    },
    {
      "cell_type": "code",
      "metadata": {
        "id": "cFrtMa7OekJX",
        "colab_type": "code",
        "colab": {
          "base_uri": "https://localhost:8080/",
          "height": 265
        },
        "outputId": "4a82d4f3-ac55-4080-ebdf-f74bb91c7658"
      },
      "source": [
        "plt.hist(train_digits[0].flat,bins=255)\n",
        "plt.show()"
      ],
      "execution_count": 18,
      "outputs": [
        {
          "output_type": "display_data",
          "data": {
            "image/png": "[encoded data removed]",
            "text/plain": [
              "<Figure size 432x288 with 1 Axes>"
            ]
          },
          "metadata": {
            "tags": [],
            "needs_background": "light"
          }
        }
      ]
    },
    {
      "cell_type": "code",
      "metadata": {
        "id": "rbUfOVYjeoEd",
        "colab_type": "code",
        "colab": {
          "base_uri": "https://localhost:8080/",
          "height": 282
        },
        "outputId": "97797c5d-1b2b-41ab-8096-4b0d7a075c64"
      },
      "source": [
        "plt.imshow(train_digits[14],cmap='gray')"
      ],
      "execution_count": 19,
      "outputs": [
        {
          "output_type": "execute_result",
          "data": {
            "text/plain": [
              "<matplotlib.image.AxesImage at 0x7f3bd36a3518>"
            ]
          },
          "metadata": {
            "tags": []
          },
          "execution_count": 19
        },
        {
          "output_type": "display_data",
          "data": {
            "image/png": "[encoded data removed]",
            "text/plain": [
              "<Figure size 432x288 with 1 Axes>"
            ]
          },
          "metadata": {
            "tags": [],
            "needs_background": "light"
          }
        }
      ]
    },
    {
      "cell_type": "code",
      "metadata": {
        "id": "nmljYweEerFs",
        "colab_type": "code",
        "colab": {
          "base_uri": "https://localhost:8080/",
          "height": 332
        },
        "outputId": "eaf0c1c4-3cc5-4045-e5c2-fe2947c8b9c5"
      },
      "source": [
        "## Pixel distribution for digit 1\n",
        "plt.hist(train_digits[14].flat)"
      ],
      "execution_count": 20,
      "outputs": [
        {
          "output_type": "execute_result",
          "data": {
            "text/plain": [
              "(array([713.,  17.,   1.,   2.,  10.,   0.,   4.,   4.,   2.,  31.]),\n",
              " array([  0. ,  25.5,  51. ,  76.5, 102. , 127.5, 153. , 178.5, 204. ,\n",
              "        229.5, 255. ]),\n",
              " <a list of 10 Patch objects>)"
            ]
          },
          "metadata": {
            "tags": []
          },
          "execution_count": 20
        },
        {
          "output_type": "display_data",
          "data": {
            "image/png": "[encoded data removed]",
            "text/plain": [
              "<Figure size 432x288 with 1 Axes>"
            ]
          },
          "metadata": {
            "tags": [],
            "needs_background": "light"
          }
        }
      ]
    },
    {
      "cell_type": "code",
      "metadata": {
        "id": "-F366P-eeuEL",
        "colab_type": "code",
        "colab": {
          "base_uri": "https://localhost:8080/",
          "height": 34
        },
        "outputId": "9ce24328-fd1a-424e-b398-c36d14c06934"
      },
      "source": [
        "train_labels[10:20]"
      ],
      "execution_count": 21,
      "outputs": [
        {
          "output_type": "execute_result",
          "data": {
            "text/plain": [
              "array([3, 5, 3, 6, 1, 7, 2, 8, 6, 9], dtype=uint8)"
            ]
          },
          "metadata": {
            "tags": []
          },
          "execution_count": 21
        }
      ]
    },
    {
      "cell_type": "code",
      "metadata": {
        "id": "vJG0lJu8exEK",
        "colab_type": "code",
        "colab": {
          "base_uri": "https://localhost:8080/",
          "height": 50
        },
        "outputId": "2c0618d8-2d52-4f6a-da57-0c4465d384e4"
      },
      "source": [
        "samples = np.random.randint(train_digits.shape[0],size=16)\n",
        "samples\n"
      ],
      "execution_count": 23,
      "outputs": [
        {
          "output_type": "execute_result",
          "data": {
            "text/plain": [
              "array([38058,   956,  1431, 25728,  1274,  8595, 48270, 46665, 40331,\n",
              "       41081, 36755, 49531, 25099, 42387, 42420, 29382])"
            ]
          },
          "metadata": {
            "tags": []
          },
          "execution_count": 23
        }
      ]
    },
    {
      "cell_type": "code",
      "metadata": {
        "id": "M-_LRkude3FA",
        "colab_type": "code",
        "colab": {
          "base_uri": "https://localhost:8080/",
          "height": 917
        },
        "outputId": "2c4e1c65-dea8-4c14-c169-1f70a248aa9a"
      },
      "source": [
        "plt.figure(figsize=(16,16))\n",
        "j = 1\n",
        "for i in samples:\n",
        "  plt.subplot(4,4,j)\n",
        "  plt.imshow(train_digits[i],cmap='gray')\n",
        "  plt.title(\"Digit: \"+str(train_labels[i]))\n",
        "  plt.axis('off')\n",
        "  j += 1"
      ],
      "execution_count": 24,
      "outputs": [
        {
          "output_type": "display_data",
          "data": {
            "image/png": "[encoded data removed]",
            "text/plain": [
              "<Figure size 1152x1152 with 16 Axes>"
            ]
          },
          "metadata": {
            "tags": [],
            "needs_background": "light"
          }
        }
      ]
    },
    {
      "cell_type": "code",
      "metadata": {
        "id": "_qsBgV47fB3J",
        "colab_type": "code",
        "colab": {
          "base_uri": "https://localhost:8080/",
          "height": 934
        },
        "outputId": "d102b831-860f-4590-dd60-b9132ed07c0f"
      },
      "source": [
        "plt.figure(figsize=(16,16))\n",
        "j = 1\n",
        "for i in samples:\n",
        "  plt.subplot(4,4,j)\n",
        "  plt.hist(train_digits[i].flat)\n",
        "  plt.title(\"Digit: \"+str(train_labels[i]))\n",
        "  #plt.axis('off')\n",
        "  j += 1"
      ],
      "execution_count": 25,
      "outputs": [
        {
          "output_type": "display_data",
          "data": {
            "image/png": "[encoded data removed]",
            "text/plain": [
              "<Figure size 1152x1152 with 16 Axes>"
            ]
          },
          "metadata": {
            "tags": [],
            "needs_background": "light"
          }
        }
      ]
    },
    {
      "cell_type": "markdown",
      "metadata": {
        "id": "Aa9A4XomfK22",
        "colab_type": "text"
      },
      "source": [
        "### Preprocessing\n",
        "Scaling"
      ]
    },
    {
      "cell_type": "code",
      "metadata": {
        "id": "mQryu-tzfGKY",
        "colab_type": "code",
        "colab": {}
      },
      "source": [
        "## pixel values are from 0 to 255\n",
        "train_digits_sc =  train_digits/255.0\n",
        "test_digits_sc = test_digits/255.0"
      ],
      "execution_count": 26,
      "outputs": []
    },
    {
      "cell_type": "markdown",
      "metadata": {
        "id": "w1XCC9h2fZ4c",
        "colab_type": "text"
      },
      "source": [
        "Convert labels into categorical values"
      ]
    },
    {
      "cell_type": "code",
      "metadata": {
        "id": "JuUCvNtqfPyE",
        "colab_type": "code",
        "colab": {
          "base_uri": "https://localhost:8080/",
          "height": 34
        },
        "outputId": "e183c8cf-8c42-4667-dc2f-b7e04722a8b9"
      },
      "source": [
        "train_labels"
      ],
      "execution_count": 28,
      "outputs": [
        {
          "output_type": "execute_result",
          "data": {
            "text/plain": [
              "array([5, 0, 4, ..., 5, 6, 8], dtype=uint8)"
            ]
          },
          "metadata": {
            "tags": []
          },
          "execution_count": 28
        }
      ]
    },
    {
      "cell_type": "code",
      "metadata": {
        "id": "Rb0GmLLPfkwA",
        "colab_type": "code",
        "colab": {
          "base_uri": "https://localhost:8080/",
          "height": 34
        },
        "outputId": "b4d08f6b-9ef7-44e7-ce26-e0d3e5efb0fb"
      },
      "source": [
        "from keras.utils import to_categorical\n",
        "train_labels_cat = to_categorical(train_labels)\n",
        "train_labels_cat[0]"
      ],
      "execution_count": 29,
      "outputs": [
        {
          "output_type": "execute_result",
          "data": {
            "text/plain": [
              "array([0., 0., 0., 0., 0., 1., 0., 0., 0., 0.], dtype=float32)"
            ]
          },
          "metadata": {
            "tags": []
          },
          "execution_count": 29
        }
      ]
    },
    {
      "cell_type": "code",
      "metadata": {
        "id": "LBXMAK7XfnKm",
        "colab_type": "code",
        "colab": {
          "base_uri": "https://localhost:8080/",
          "height": 34
        },
        "outputId": "4b12461f-a6dd-424c-b5d8-2f4bfe560852"
      },
      "source": [
        "test_labels_cat = to_categorical(test_labels)\n",
        "test_labels_cat[9]"
      ],
      "execution_count": 30,
      "outputs": [
        {
          "output_type": "execute_result",
          "data": {
            "text/plain": [
              "array([0., 0., 0., 0., 0., 0., 0., 0., 0., 1.], dtype=float32)"
            ]
          },
          "metadata": {
            "tags": []
          },
          "execution_count": 30
        }
      ]
    },
    {
      "cell_type": "markdown",
      "metadata": {
        "id": "n5jBQs_afY5A",
        "colab_type": "text"
      },
      "source": [
        "Split the train data to train and validation"
      ]
    },
    {
      "cell_type": "code",
      "metadata": {
        "id": "Y0K1a_VMfWmB",
        "colab_type": "code",
        "colab": {
          "base_uri": "https://localhost:8080/",
          "height": 67
        },
        "outputId": "42ddc5ed-2470-4f43-cd40-3dbb12c1d7b4"
      },
      "source": [
        "from sklearn.model_selection import train_test_split\n",
        "X_train,X_val,y_train,y_val = train_test_split(train_digits_sc,train_labels_cat,test_size=0.1,random_state=32)\n",
        "print(X_train.shape)\n",
        "print(X_val.shape)\n",
        "print(y_train.shape)"
      ],
      "execution_count": 31,
      "outputs": [
        {
          "output_type": "stream",
          "text": [
            "(54000, 28, 28)\n",
            "(6000, 28, 28)\n",
            "(54000, 10)\n"
          ],
          "name": "stdout"
        }
      ]
    },
    {
      "cell_type": "markdown",
      "metadata": {
        "id": "pz35WVPAf6KL",
        "colab_type": "text"
      },
      "source": [
        "### Build and Train the model\n",
        "Build the model\n",
        "\n",
        "We need to take 1d array as input for Dense layer.\n",
        "\n",
        "How many Hidden layers you want to add here?\n",
        "\n",
        "How many neurons in each hidden layer?\n",
        "\n",
        "What is activation function for the hidden layers?\n",
        "\n",
        "How many neurons we should take in the ouput layer?\n",
        "\n",
        "What is the activation function for the output layer?"
      ]
    },
    {
      "cell_type": "code",
      "metadata": {
        "id": "mHGyiwmRf2a2",
        "colab_type": "code",
        "colab": {}
      },
      "source": [
        "## import the methods required\n",
        "from keras.models import Sequential\n",
        "from keras.layers import Dense,Flatten"
      ],
      "execution_count": 32,
      "outputs": []
    },
    {
      "cell_type": "code",
      "metadata": {
        "id": "EP4OaRplgHQB",
        "colab_type": "code",
        "colab": {
          "base_uri": "https://localhost:8080/",
          "height": 34
        },
        "outputId": "eea60b3c-4483-4d33-fa98-6235b80bd4bf"
      },
      "source": [
        "784*128+ 128"
      ],
      "execution_count": 33,
      "outputs": [
        {
          "output_type": "execute_result",
          "data": {
            "text/plain": [
              "100480"
            ]
          },
          "metadata": {
            "tags": []
          },
          "execution_count": 33
        }
      ]
    },
    {
      "cell_type": "code",
      "metadata": {
        "id": "Qps_DryKgKAE",
        "colab_type": "code",
        "colab": {
          "base_uri": "https://localhost:8080/",
          "height": 353
        },
        "outputId": "40ebedc0-1d9a-4956-dae1-cd6d3553b5a8"
      },
      "source": [
        "## We are creating the base model\n",
        "model = Sequential()\n",
        "# first layer we need to mention the input shape\n",
        "model.add(Flatten(input_shape=(28,28))) \n",
        "## 784 pixel values as input to this Dense. 128 Neurons in the layers\n",
        "model.add(Dense(128,activation='relu')) # 784*128+ 128\n",
        "model.add(Dense(128,activation='relu')) #128*128 +128\n",
        "model.add(Dense(64,activation='relu'))\n",
        "model.add(Dense(256,activation='relu'))\n",
        "# Final layer there are 10 classes so use 10 neurons\n",
        "model.add(Dense(10,activation='softmax'))  # relu --> x or 0 for multiple node you will get 1\n",
        "model.summary()"
      ],
      "execution_count": 34,
      "outputs": [
        {
          "output_type": "stream",
          "text": [
            "Model: \"sequential_1\"\n",
            "_________________________________________________________________\n",
            "Layer (type)                 Output Shape              Param #   \n",
            "=================================================================\n",
            "flatten_1 (Flatten)          (None, 784)               0         \n",
            "_________________________________________________________________\n",
            "dense_1 (Dense)              (None, 128)               100480    \n",
            "_________________________________________________________________\n",
            "dense_2 (Dense)              (None, 128)               16512     \n",
            "_________________________________________________________________\n",
            "dense_3 (Dense)              (None, 64)                8256      \n",
            "_________________________________________________________________\n",
            "dense_4 (Dense)              (None, 256)               16640     \n",
            "_________________________________________________________________\n",
            "dense_5 (Dense)              (None, 10)                2570      \n",
            "=================================================================\n",
            "Total params: 144,458\n",
            "Trainable params: 144,458\n",
            "Non-trainable params: 0\n",
            "_________________________________________________________________\n"
          ],
          "name": "stdout"
        }
      ]
    },
    {
      "cell_type": "markdown",
      "metadata": {
        "id": "cQibTBpAgRgV",
        "colab_type": "text"
      },
      "source": [
        "### Compile the model\n",
        "What is the loss function?\n",
        "\n",
        "what is the optimizer?\n",
        "\n",
        "What are the metrics?"
      ]
    },
    {
      "cell_type": "code",
      "metadata": {
        "id": "DfgDX_aHgNWx",
        "colab_type": "code",
        "colab": {}
      },
      "source": [
        "model.compile(optimizer= 'adam',loss=tf.keras.losses.CategoricalCrossentropy(),metrics=['accuracy'])"
      ],
      "execution_count": 35,
      "outputs": []
    },
    {
      "cell_type": "markdown",
      "metadata": {
        "id": "H3WVWA3wgeg_",
        "colab_type": "text"
      },
      "source": [
        "### Training the model"
      ]
    },
    {
      "cell_type": "code",
      "metadata": {
        "id": "CLI4sA-sgX28",
        "colab_type": "code",
        "colab": {
          "base_uri": "https://localhost:8080/",
          "height": 370
        },
        "outputId": "ac0293ee-0554-4600-bb80-8ba862f8a9bc"
      },
      "source": [
        "history = model.fit(x=X_train,y=y_train,epochs=10,\\\n",
        "                    validation_data=(X_val,y_val),batch_size=32)"
      ],
      "execution_count": 36,
      "outputs": [
        {
          "output_type": "stream",
          "text": [
            "Train on 54000 samples, validate on 6000 samples\n",
            "Epoch 1/10\n",
            "54000/54000 [==============================] - 8s 156us/step - loss: 0.2477 - accuracy: 0.9248 - val_loss: 0.1578 - val_accuracy: 0.9537\n",
            "Epoch 2/10\n",
            "54000/54000 [==============================] - 8s 147us/step - loss: 0.1085 - accuracy: 0.9672 - val_loss: 0.1245 - val_accuracy: 0.9650\n",
            "Epoch 3/10\n",
            "54000/54000 [==============================] - 8s 142us/step - loss: 0.0802 - accuracy: 0.9743 - val_loss: 0.0973 - val_accuracy: 0.9725\n",
            "Epoch 4/10\n",
            "54000/54000 [==============================] - 8s 146us/step - loss: 0.0620 - accuracy: 0.9807 - val_loss: 0.0987 - val_accuracy: 0.9733\n",
            "Epoch 5/10\n",
            "54000/54000 [==============================] - 8s 148us/step - loss: 0.0535 - accuracy: 0.9830 - val_loss: 0.0953 - val_accuracy: 0.9732\n",
            "Epoch 6/10\n",
            "54000/54000 [==============================] - 9s 166us/step - loss: 0.0442 - accuracy: 0.9861 - val_loss: 0.1214 - val_accuracy: 0.9673\n",
            "Epoch 7/10\n",
            "54000/54000 [==============================] - 8s 148us/step - loss: 0.0391 - accuracy: 0.9878 - val_loss: 0.0977 - val_accuracy: 0.9755\n",
            "Epoch 8/10\n",
            "54000/54000 [==============================] - 8s 144us/step - loss: 0.0361 - accuracy: 0.9891 - val_loss: 0.0989 - val_accuracy: 0.9772\n",
            "Epoch 9/10\n",
            "54000/54000 [==============================] - 8s 143us/step - loss: 0.0288 - accuracy: 0.9911 - val_loss: 0.1267 - val_accuracy: 0.9720\n",
            "Epoch 10/10\n",
            "54000/54000 [==============================] - 8s 143us/step - loss: 0.0304 - accuracy: 0.9906 - val_loss: 0.1108 - val_accuracy: 0.9737\n"
          ],
          "name": "stdout"
        }
      ]
    },
    {
      "cell_type": "markdown",
      "metadata": {
        "id": "o9wEzBlgg_Sg",
        "colab_type": "text"
      },
      "source": [
        "Evaluating the model"
      ]
    },
    {
      "cell_type": "code",
      "metadata": {
        "id": "ZSjsnLK7gnbi",
        "colab_type": "code",
        "colab": {
          "base_uri": "https://localhost:8080/",
          "height": 50
        },
        "outputId": "0156c374-4854-4202-ef38-b6db90b7c2c3"
      },
      "source": [
        "model.evaluate(test_digits_sc,test_labels_cat)"
      ],
      "execution_count": 37,
      "outputs": [
        {
          "output_type": "stream",
          "text": [
            "10000/10000 [==============================] - 0s 33us/step\n"
          ],
          "name": "stdout"
        },
        {
          "output_type": "execute_result",
          "data": {
            "text/plain": [
              "[0.09833863019737764, 0.9754999876022339]"
            ]
          },
          "metadata": {
            "tags": []
          },
          "execution_count": 37
        }
      ]
    },
    {
      "cell_type": "code",
      "metadata": {
        "id": "JbQGj10ghDq9",
        "colab_type": "code",
        "colab": {
          "base_uri": "https://localhost:8080/",
          "height": 67
        },
        "outputId": "dfd4f542-7fe2-4a8f-e8cb-7d69170405bd"
      },
      "source": [
        "print(test_digits_sc.shape)\n",
        "print(test_digits_sc[0].shape)\n",
        "print(np.expand_dims(test_digits_sc[0],axis=0).shape)"
      ],
      "execution_count": 38,
      "outputs": [
        {
          "output_type": "stream",
          "text": [
            "(10000, 28, 28)\n",
            "(28, 28)\n",
            "(1, 28, 28)\n"
          ],
          "name": "stdout"
        }
      ]
    },
    {
      "cell_type": "code",
      "metadata": {
        "id": "MBc0oc6LhGo7",
        "colab_type": "code",
        "colab": {
          "base_uri": "https://localhost:8080/",
          "height": 34
        },
        "outputId": "7defe5c0-f819-4833-c844-23f34e6ac0f5"
      },
      "source": [
        "test_labels[0]"
      ],
      "execution_count": 39,
      "outputs": [
        {
          "output_type": "execute_result",
          "data": {
            "text/plain": [
              "7"
            ]
          },
          "metadata": {
            "tags": []
          },
          "execution_count": 39
        }
      ]
    },
    {
      "cell_type": "code",
      "metadata": {
        "id": "BXNKR6eIhJqr",
        "colab_type": "code",
        "colab": {
          "base_uri": "https://localhost:8080/",
          "height": 67
        },
        "outputId": "f7a6830c-6185-42a1-d3cc-3b5aac545674"
      },
      "source": [
        "model.predict(np.expand_dims(test_digits_sc[0],axis=0))"
      ],
      "execution_count": 40,
      "outputs": [
        {
          "output_type": "execute_result",
          "data": {
            "text/plain": [
              "array([[4.79755180e-10, 1.40395020e-08, 1.27207441e-05, 1.95301186e-06,\n",
              "        5.06825204e-09, 2.22623558e-10, 1.08038375e-14, 9.99961257e-01,\n",
              "        1.98018153e-08, 2.40268673e-05]], dtype=float32)"
            ]
          },
          "metadata": {
            "tags": []
          },
          "execution_count": 40
        }
      ]
    },
    {
      "cell_type": "code",
      "metadata": {
        "id": "-ShCaR30hMMg",
        "colab_type": "code",
        "colab": {
          "base_uri": "https://localhost:8080/",
          "height": 521
        },
        "outputId": "9d6d67eb-fb21-4db4-9212-5aeda7a07b1f"
      },
      "source": [
        "model.predict(test_digits_sc[:10])"
      ],
      "execution_count": 41,
      "outputs": [
        {
          "output_type": "execute_result",
          "data": {
            "text/plain": [
              "array([[4.7975335e-10, 1.4039475e-08, 1.2720708e-05, 1.9530082e-06,\n",
              "        5.0682520e-09, 2.2262399e-10, 1.0803878e-14, 9.9996126e-01,\n",
              "        1.9801741e-08, 2.4026845e-05],\n",
              "       [8.6951479e-12, 3.5049486e-10, 1.0000000e+00, 7.5799331e-09,\n",
              "        2.3589160e-11, 2.1551196e-13, 3.6070886e-13, 7.5068716e-09,\n",
              "        4.3493595e-10, 1.4811319e-16],\n",
              "       [5.5284697e-11, 9.9999952e-01, 7.0969058e-08, 1.0052179e-12,\n",
              "        4.5219650e-08, 1.6612619e-11, 1.3479356e-11, 1.5414034e-07,\n",
              "        2.8434036e-07, 4.6601292e-11],\n",
              "       [9.9999642e-01, 1.4245963e-10, 2.5831139e-06, 6.6850090e-09,\n",
              "        6.5084366e-10, 4.1495596e-08, 3.9299405e-07, 1.6648311e-08,\n",
              "        4.9041495e-07, 2.8258329e-08],\n",
              "       [3.4604484e-09, 2.0287577e-07, 2.8008043e-07, 5.7146898e-10,\n",
              "        9.9985039e-01, 3.0970492e-07, 1.4494813e-07, 4.9541183e-07,\n",
              "        3.0028723e-06, 1.4510962e-04],\n",
              "       [3.2888113e-13, 1.0000000e+00, 2.3235817e-10, 8.9282122e-16,\n",
              "        2.0441349e-09, 1.1321251e-14, 7.6786273e-15, 4.9240754e-09,\n",
              "        3.6772994e-09, 5.3027596e-13],\n",
              "       [1.0249224e-08, 3.1485647e-06, 2.4138660e-07, 2.1095274e-09,\n",
              "        9.9969578e-01, 4.8433674e-07, 9.3830209e-08, 1.2416627e-06,\n",
              "        1.6511891e-05, 2.8252637e-04],\n",
              "       [3.8271769e-06, 9.8751070e-09, 1.9711921e-07, 4.2188996e-05,\n",
              "        1.8035709e-05, 2.8303453e-05, 4.8906772e-09, 2.8159156e-06,\n",
              "        2.1406979e-06, 9.9990249e-01],\n",
              "       [9.9201040e-13, 2.0207429e-08, 6.6766925e-09, 9.9725845e-08,\n",
              "        2.7409559e-09, 9.9999142e-01, 3.3166600e-06, 5.7277636e-13,\n",
              "        5.1698071e-06, 3.7186967e-10],\n",
              "       [2.7534297e-09, 1.4088024e-10, 3.0526644e-11, 3.1573406e-09,\n",
              "        5.6840454e-06, 2.4460427e-09, 1.5951752e-12, 1.8117954e-06,\n",
              "        1.8243206e-08, 9.9999249e-01]], dtype=float32)"
            ]
          },
          "metadata": {
            "tags": []
          },
          "execution_count": 41
        }
      ]
    },
    {
      "cell_type": "code",
      "metadata": {
        "id": "OTT7bhsnhPpy",
        "colab_type": "code",
        "colab": {
          "base_uri": "https://localhost:8080/",
          "height": 34
        },
        "outputId": "bd99dd22-0193-4a9b-d24d-ea7481f0e6fc"
      },
      "source": [
        "model.predict_classes(np.expand_dims(test_digits_sc[0],axis=0))"
      ],
      "execution_count": 42,
      "outputs": [
        {
          "output_type": "execute_result",
          "data": {
            "text/plain": [
              "array([7])"
            ]
          },
          "metadata": {
            "tags": []
          },
          "execution_count": 42
        }
      ]
    },
    {
      "cell_type": "code",
      "metadata": {
        "id": "EkC0CFNBhTfw",
        "colab_type": "code",
        "colab": {
          "base_uri": "https://localhost:8080/",
          "height": 67
        },
        "outputId": "3351c736-739c-4ed8-e461-42f0e39537c6"
      },
      "source": [
        "model.predict_proba(np.expand_dims(test_digits_sc[0],axis=0))"
      ],
      "execution_count": 43,
      "outputs": [
        {
          "output_type": "execute_result",
          "data": {
            "text/plain": [
              "array([[4.79755180e-10, 1.40395020e-08, 1.27207441e-05, 1.95301186e-06,\n",
              "        5.06825204e-09, 2.22623558e-10, 1.08038375e-14, 9.99961257e-01,\n",
              "        1.98018153e-08, 2.40268673e-05]], dtype=float32)"
            ]
          },
          "metadata": {
            "tags": []
          },
          "execution_count": 43
        }
      ]
    },
    {
      "cell_type": "code",
      "metadata": {
        "id": "lHXrOAkYhYEp",
        "colab_type": "code",
        "colab": {
          "base_uri": "https://localhost:8080/",
          "height": 840
        },
        "outputId": "0e060b3e-4c8c-4c63-bc59-1f448ba9e582"
      },
      "source": [
        "\n",
        "dir(history)"
      ],
      "execution_count": 44,
      "outputs": [
        {
          "output_type": "execute_result",
          "data": {
            "text/plain": [
              "['__class__',\n",
              " '__delattr__',\n",
              " '__dict__',\n",
              " '__dir__',\n",
              " '__doc__',\n",
              " '__eq__',\n",
              " '__format__',\n",
              " '__ge__',\n",
              " '__getattribute__',\n",
              " '__gt__',\n",
              " '__hash__',\n",
              " '__init__',\n",
              " '__init_subclass__',\n",
              " '__le__',\n",
              " '__lt__',\n",
              " '__module__',\n",
              " '__ne__',\n",
              " '__new__',\n",
              " '__reduce__',\n",
              " '__reduce_ex__',\n",
              " '__repr__',\n",
              " '__setattr__',\n",
              " '__sizeof__',\n",
              " '__str__',\n",
              " '__subclasshook__',\n",
              " '__weakref__',\n",
              " 'epoch',\n",
              " 'history',\n",
              " 'model',\n",
              " 'on_batch_begin',\n",
              " 'on_batch_end',\n",
              " 'on_epoch_begin',\n",
              " 'on_epoch_end',\n",
              " 'on_predict_batch_begin',\n",
              " 'on_predict_batch_end',\n",
              " 'on_predict_begin',\n",
              " 'on_predict_end',\n",
              " 'on_test_batch_begin',\n",
              " 'on_test_batch_end',\n",
              " 'on_test_begin',\n",
              " 'on_test_end',\n",
              " 'on_train_batch_begin',\n",
              " 'on_train_batch_end',\n",
              " 'on_train_begin',\n",
              " 'on_train_end',\n",
              " 'params',\n",
              " 'set_model',\n",
              " 'set_params',\n",
              " 'validation_data']"
            ]
          },
          "metadata": {
            "tags": []
          },
          "execution_count": 44
        }
      ]
    },
    {
      "cell_type": "code",
      "metadata": {
        "id": "iCLTlOi-hddD",
        "colab_type": "code",
        "colab": {
          "base_uri": "https://localhost:8080/",
          "height": 689
        },
        "outputId": "48782aa0-f3e2-4f14-8a83-aaf5ce9a66cb"
      },
      "source": [
        "history.history"
      ],
      "execution_count": 45,
      "outputs": [
        {
          "output_type": "execute_result",
          "data": {
            "text/plain": [
              "{'accuracy': [0.9247778,\n",
              "  0.9672222,\n",
              "  0.9743148,\n",
              "  0.9807407,\n",
              "  0.983,\n",
              "  0.9861111,\n",
              "  0.9877963,\n",
              "  0.98907405,\n",
              "  0.9911482,\n",
              "  0.9905926],\n",
              " 'loss': [0.24774636929399438,\n",
              "  0.10849350588754923,\n",
              "  0.08023745330019544,\n",
              "  0.06198740239168897,\n",
              "  0.05354112581724163,\n",
              "  0.04422118231253612,\n",
              "  0.039067564617516905,\n",
              "  0.0361427385713517,\n",
              "  0.02883024911546144,\n",
              "  0.030417464638672956],\n",
              " 'val_accuracy': [0.9536666870117188,\n",
              "  0.9649999737739563,\n",
              "  0.9725000262260437,\n",
              "  0.9733333587646484,\n",
              "  0.9731666445732117,\n",
              "  0.9673333168029785,\n",
              "  0.9754999876022339,\n",
              "  0.9771666526794434,\n",
              "  0.972000002861023,\n",
              "  0.9736666679382324],\n",
              " 'val_loss': [0.15778402996559937,\n",
              "  0.12452531009043256,\n",
              "  0.09732590648345649,\n",
              "  0.09865119989092151,\n",
              "  0.09532404362627615,\n",
              "  0.12138068502132471,\n",
              "  0.09765450577414594,\n",
              "  0.09890136455853159,\n",
              "  0.12670434703150144,\n",
              "  0.11081509073528771]}"
            ]
          },
          "metadata": {
            "tags": []
          },
          "execution_count": 45
        }
      ]
    },
    {
      "cell_type": "code",
      "metadata": {
        "id": "pqNdwxJ8hhDz",
        "colab_type": "code",
        "colab": {
          "base_uri": "https://localhost:8080/",
          "height": 34
        },
        "outputId": "26700384-0f36-4558-ab27-bafe836c06d0"
      },
      "source": [
        "history.history.keys()"
      ],
      "execution_count": 46,
      "outputs": [
        {
          "output_type": "execute_result",
          "data": {
            "text/plain": [
              "dict_keys(['val_loss', 'val_accuracy', 'loss', 'accuracy'])"
            ]
          },
          "metadata": {
            "tags": []
          },
          "execution_count": 46
        }
      ]
    },
    {
      "cell_type": "code",
      "metadata": {
        "id": "eunhb28GhltY",
        "colab_type": "code",
        "colab": {
          "base_uri": "https://localhost:8080/",
          "height": 282
        },
        "outputId": "37b09be7-c3f4-4bf3-8f7b-6d38a7788369"
      },
      "source": [
        "plt.plot(range(1,11),history.history['accuracy'])\n",
        "plt.plot(range(1,11),history.history['val_accuracy'])"
      ],
      "execution_count": 47,
      "outputs": [
        {
          "output_type": "execute_result",
          "data": {
            "text/plain": [
              "[<matplotlib.lines.Line2D at 0x7f3bc4c70e80>]"
            ]
          },
          "metadata": {
            "tags": []
          },
          "execution_count": 47
        },
        {
          "output_type": "display_data",
          "data": {
            "image/png": "[encoded data removed]",
            "text/plain": [
              "<Figure size 432x288 with 1 Axes>"
            ]
          },
          "metadata": {
            "tags": [],
            "needs_background": "light"
          }
        }
      ]
    },
    {
      "cell_type": "code",
      "metadata": {
        "id": "zsxf35KThqn0",
        "colab_type": "code",
        "colab": {}
      },
      "source": [
        ""
      ],
      "execution_count": null,
      "outputs": []
    }
  ]
}