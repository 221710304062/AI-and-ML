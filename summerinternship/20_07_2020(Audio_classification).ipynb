{
  "nbformat": 4,
  "nbformat_minor": 0,
  "metadata": {
    "colab": {
      "name": "20-07-2020(Audio classification)",
      "provenance": [],
      "collapsed_sections": []
    },
    "kernelspec": {
      "name": "python3",
      "display_name": "Python 3"
    },
    "accelerator": "GPU"
  },
  "cells": [
    {
      "cell_type": "code",
      "metadata": {
        "id": "_q0UZ3HvSLqS",
        "colab_type": "code",
        "colab": {}
      },
      "source": [
        "#audio preprocessing\n",
        "import librosa\n",
        "\n",
        "import librosa.display\n",
        "import numpy as np\n",
        "import matplotlib.pyplot as plt\n",
        "import tensorflow as tf\n",
        "from matplotlib.pyplot import specgram\n",
        "import keras\n",
        "from keras.preprocessing import sequence\n",
        "from keras.models import Sequential\n",
        "from keras.layers import Dense, Embedding\n",
        "from keras.layers import LSTM\n",
        "from keras.preprocessing.text import Tokenizer\n",
        "from keras.preprocessing.sequence import pad_sequences\n",
        "from keras.utils import to_categorical\n",
        "from keras.layers import Input, Flatten, Dropout, Activation\n",
        "from keras.layers import Conv1D, MaxPooling1D, AveragePooling1D\n",
        "from keras.models import Model\n",
        "from keras.callbacks import ModelCheckpoint\n",
        "from sklearn.metrics import confusion_matrix"
      ],
      "execution_count": 65,
      "outputs": []
    },
    {
      "cell_type": "code",
      "metadata": {
        "id": "aVCDkJc0UyvX",
        "colab_type": "code",
        "colab": {
          "base_uri": "https://localhost:8080/",
          "height": 34
        },
        "outputId": "c956b807-decf-41d9-a507-363421c42019"
      },
      "source": [
        "import os\n",
        "os.listdir('/content/drive/My Drive/2020/courses taken/AI -ML/daywise worklog/day49(20-07-2020)/AudioData')"
      ],
      "execution_count": 66,
      "outputs": [
        {
          "output_type": "execute_result",
          "data": {
            "text/plain": [
              "['Info.txt', 'JE', 'DC', 'KL', 'JK']"
            ]
          },
          "metadata": {
            "tags": []
          },
          "execution_count": 66
        }
      ]
    },
    {
      "cell_type": "code",
      "metadata": {
        "id": "UUFSthb9VDSq",
        "colab_type": "code",
        "colab": {}
      },
      "source": [
        "sample_file =\"/content/drive/My Drive/2020/courses taken/AI -ML/daywise worklog/day49(20-07-2020)/AudioData/DC/a01.wav\""
      ],
      "execution_count": 67,
      "outputs": []
    },
    {
      "cell_type": "code",
      "metadata": {
        "id": "_LqaKfDDVUDM",
        "colab_type": "code",
        "colab": {}
      },
      "source": [
        "#load the audio data with librosa from .wav file\n",
        "#input path\n",
        "data, sampling_rate = librosa.load(sample_file)\n",
        "#output is data teh discrete values,sampling rate"
      ],
      "execution_count": 68,
      "outputs": []
    },
    {
      "cell_type": "code",
      "metadata": {
        "id": "QXIX_Z7-VZmD",
        "colab_type": "code",
        "colab": {
          "base_uri": "https://localhost:8080/",
          "height": 34
        },
        "outputId": "a65de9a4-604f-4d85-d8dc-b56a01c0815e"
      },
      "source": [
        "#audio sampled data output shape\n",
        "data.shape"
      ],
      "execution_count": 69,
      "outputs": [
        {
          "output_type": "execute_result",
          "data": {
            "text/plain": [
              "(80434,)"
            ]
          },
          "metadata": {
            "tags": []
          },
          "execution_count": 69
        }
      ]
    },
    {
      "cell_type": "code",
      "metadata": {
        "id": "CoCFxFrhaQC-",
        "colab_type": "code",
        "colab": {
          "base_uri": "https://localhost:8080/",
          "height": 34
        },
        "outputId": "7c5eb104-7361-45ad-c1d6-9fbfd92fb31a"
      },
      "source": [
        "sampling_rate"
      ],
      "execution_count": 70,
      "outputs": [
        {
          "output_type": "execute_result",
          "data": {
            "text/plain": [
              "22050"
            ]
          },
          "metadata": {
            "tags": []
          },
          "execution_count": 70
        }
      ]
    },
    {
      "cell_type": "code",
      "metadata": {
        "id": "1sSJw4czanS3",
        "colab_type": "code",
        "colab": {
          "base_uri": "https://localhost:8080/",
          "height": 67
        },
        "outputId": "609ffaeb-e5c3-4c70-de3e-4785276ccef1"
      },
      "source": [
        "##data\n",
        "data[:10]"
      ],
      "execution_count": 71,
      "outputs": [
        {
          "output_type": "execute_result",
          "data": {
            "text/plain": [
              "array([0.03537439, 0.05184603, 0.04569934, 0.04965753, 0.04663509,\n",
              "       0.04879001, 0.04705136, 0.04866577, 0.04766231, 0.04865323],\n",
              "      dtype=float32)"
            ]
          },
          "metadata": {
            "tags": []
          },
          "execution_count": 71
        }
      ]
    },
    {
      "cell_type": "code",
      "metadata": {
        "id": "GkZL8onza1JT",
        "colab_type": "code",
        "colab": {
          "base_uri": "https://localhost:8080/",
          "height": 34
        },
        "outputId": "c4c04d01-0b3e-4e97-83fc-3983febaaba8"
      },
      "source": [
        "print(type(data))"
      ],
      "execution_count": 72,
      "outputs": [
        {
          "output_type": "stream",
          "text": [
            "<class 'numpy.ndarray'>\n"
          ],
          "name": "stdout"
        }
      ]
    },
    {
      "cell_type": "code",
      "metadata": {
        "id": "N3nqJO8Ra6QM",
        "colab_type": "code",
        "colab": {
          "base_uri": "https://localhost:8080/",
          "height": 67
        },
        "outputId": "0c0c3dfd-f2e3-4f08-d44f-7c8c838cca1b"
      },
      "source": [
        "print(data.max())\n",
        "print(data.min())\n",
        "print(data.mean())"
      ],
      "execution_count": 73,
      "outputs": [
        {
          "output_type": "stream",
          "text": [
            "0.91246253\n",
            "-1.0036622\n",
            "0.04223855\n"
          ],
          "name": "stdout"
        }
      ]
    },
    {
      "cell_type": "code",
      "metadata": {
        "id": "FAMLrP2LXjBu",
        "colab_type": "code",
        "colab": {
          "base_uri": "https://localhost:8080/",
          "height": 370
        },
        "outputId": "d1ea94b0-efab-4354-8faa-054eeef13992"
      },
      "source": [
        "% pylab inline\n",
        "import os\n",
        "import pandas as pd\n",
        "import librosa\n",
        "import glob \n",
        "\n",
        "plt.figure(figsize=(15, 5))\n",
        "librosa.display.waveplot(data, sr=sampling_rate)"
      ],
      "execution_count": 74,
      "outputs": [
        {
          "output_type": "stream",
          "text": [
            "Populating the interactive namespace from numpy and matplotlib\n"
          ],
          "name": "stdout"
        },
        {
          "output_type": "execute_result",
          "data": {
            "text/plain": [
              "<matplotlib.collections.PolyCollection at 0x7f992321bda0>"
            ]
          },
          "metadata": {
            "tags": []
          },
          "execution_count": 74
        },
        {
          "output_type": "display_data",
          "data": {
            "image/png": "[encoded data removed]",
            "text/plain": [
              "<Figure size 1080x360 with 1 Axes>"
            ]
          },
          "metadata": {
            "tags": [],
            "needs_background": "light"
          }
        }
      ]
    },
    {
      "cell_type": "code",
      "metadata": {
        "id": "gAF5W_lddatM",
        "colab_type": "code",
        "colab": {}
      },
      "source": [
        "sample_file1 = '/content/drive/My Drive/2020/courses taken/AI -ML/daywise worklog/day49(20-07-2020)/AudioData/KL/a01.wav'"
      ],
      "execution_count": 75,
      "outputs": []
    },
    {
      "cell_type": "code",
      "metadata": {
        "id": "RP0qSruSd6th",
        "colab_type": "code",
        "colab": {}
      },
      "source": [
        "#load the audio data with librosa from .wav file\n",
        "#input path\n",
        "data1, sampling_rate1 = librosa.load(sample_file1)\n",
        "#output is data teh discrete values,sampling rate"
      ],
      "execution_count": 76,
      "outputs": []
    },
    {
      "cell_type": "code",
      "metadata": {
        "id": "HHO44AK5eFQy",
        "colab_type": "code",
        "colab": {
          "base_uri": "https://localhost:8080/",
          "height": 34
        },
        "outputId": "25f23115-fb74-48c2-ae07-915c5989dc42"
      },
      "source": [
        "#audio sampled data output shape\n",
        "data1.shape"
      ],
      "execution_count": 77,
      "outputs": [
        {
          "output_type": "execute_result",
          "data": {
            "text/plain": [
              "(87368,)"
            ]
          },
          "metadata": {
            "tags": []
          },
          "execution_count": 77
        }
      ]
    },
    {
      "cell_type": "code",
      "metadata": {
        "id": "_QNzAci-eKHY",
        "colab_type": "code",
        "colab": {
          "base_uri": "https://localhost:8080/",
          "height": 34
        },
        "outputId": "8609186b-745a-43ec-c811-73240a965fbc"
      },
      "source": [
        "sampling_rate1"
      ],
      "execution_count": 78,
      "outputs": [
        {
          "output_type": "execute_result",
          "data": {
            "text/plain": [
              "22050"
            ]
          },
          "metadata": {
            "tags": []
          },
          "execution_count": 78
        }
      ]
    },
    {
      "cell_type": "code",
      "metadata": {
        "id": "uhPSk8gVePrF",
        "colab_type": "code",
        "colab": {
          "base_uri": "https://localhost:8080/",
          "height": 67
        },
        "outputId": "defc5e1a-8e2e-4e7e-e82c-b53e9480c683"
      },
      "source": [
        "##data\n",
        "data1[:10]"
      ],
      "execution_count": 79,
      "outputs": [
        {
          "output_type": "execute_result",
          "data": {
            "text/plain": [
              "array([0.00304998, 0.00444849, 0.00389456, 0.00428622, 0.00404884,\n",
              "       0.00427337, 0.00417293, 0.00435197, 0.00426693, 0.00437466],\n",
              "      dtype=float32)"
            ]
          },
          "metadata": {
            "tags": []
          },
          "execution_count": 79
        }
      ]
    },
    {
      "cell_type": "code",
      "metadata": {
        "id": "7511ubRCebpS",
        "colab_type": "code",
        "colab": {
          "base_uri": "https://localhost:8080/",
          "height": 67
        },
        "outputId": "be673d2f-c578-4c4a-8ef0-dafa963a7151"
      },
      "source": [
        "print(data1.max())\n",
        "print(data1.min())\n",
        "print(data1.mean())"
      ],
      "execution_count": 80,
      "outputs": [
        {
          "output_type": "stream",
          "text": [
            "0.08344578\n",
            "-0.11337293\n",
            "0.0024897326\n"
          ],
          "name": "stdout"
        }
      ]
    },
    {
      "cell_type": "code",
      "metadata": {
        "id": "tvkDMRcueWEE",
        "colab_type": "code",
        "colab": {
          "base_uri": "https://localhost:8080/",
          "height": 368
        },
        "outputId": "f60fe5b6-b992-485c-e5a0-e8b3a4bf20b2"
      },
      "source": [
        "% pylab inline\n",
        "import os\n",
        "import pandas as pd\n",
        "import librosa\n",
        "import glob \n",
        "\n",
        "plt.figure(figsize=(15, 5))\n",
        "librosa.display.waveplot(data1, sr=sampling_rate1)"
      ],
      "execution_count": 81,
      "outputs": [
        {
          "output_type": "stream",
          "text": [
            "Populating the interactive namespace from numpy and matplotlib\n"
          ],
          "name": "stdout"
        },
        {
          "output_type": "execute_result",
          "data": {
            "text/plain": [
              "<matplotlib.collections.PolyCollection at 0x7f9923189c88>"
            ]
          },
          "metadata": {
            "tags": []
          },
          "execution_count": 81
        },
        {
          "output_type": "display_data",
          "data": {
            "image/png": "[encoded data removed]",
            "text/plain": [
              "<Figure size 1080x360 with 1 Axes>"
            ]
          },
          "metadata": {
            "tags": [],
            "needs_background": "light"
          }
        }
      ]
    },
    {
      "cell_type": "code",
      "metadata": {
        "id": "bSsK9_-vfvvp",
        "colab_type": "code",
        "colab": {
          "base_uri": "https://localhost:8080/",
          "height": 34
        },
        "outputId": "741d17c0-513f-4616-f3e7-c84467698b25"
      },
      "source": [
        "X, sample_rate = librosa.load(sample_file, res_type='kaiser_fast',duration=2.5,sr=22050*2,offset=0.5)\n",
        "X.shape"
      ],
      "execution_count": 82,
      "outputs": [
        {
          "output_type": "execute_result",
          "data": {
            "text/plain": [
              "(110250,)"
            ]
          },
          "metadata": {
            "tags": []
          },
          "execution_count": 82
        }
      ]
    },
    {
      "cell_type": "code",
      "metadata": {
        "id": "vmCRaya-gEnr",
        "colab_type": "code",
        "colab": {
          "base_uri": "https://localhost:8080/",
          "height": 34
        },
        "outputId": "c1c3c974-c729-426b-860b-f42183db20ab"
      },
      "source": [
        "1*22050*2*2.5"
      ],
      "execution_count": 83,
      "outputs": [
        {
          "output_type": "execute_result",
          "data": {
            "text/plain": [
              "110250.0"
            ]
          },
          "metadata": {
            "tags": []
          },
          "execution_count": 83
        }
      ]
    },
    {
      "cell_type": "code",
      "metadata": {
        "id": "xjpyvjprgRIf",
        "colab_type": "code",
        "colab": {
          "base_uri": "https://localhost:8080/",
          "height": 235
        },
        "outputId": "61c86b25-683f-4d7e-9e1c-c3bb28c2787f"
      },
      "source": [
        "librosa.feature.mfcc(y=X, sr=sample_rate, n_mfcc=13)"
      ],
      "execution_count": 84,
      "outputs": [
        {
          "output_type": "execute_result",
          "data": {
            "text/plain": [
              "array([[-318.34907634, -289.72019185, -269.75849637, ..., -219.42767604,\n",
              "        -209.46609287, -180.1187328 ],\n",
              "       [  83.44985313,  135.30527971,  182.35460902, ...,  229.88559252,\n",
              "         238.01667462,  248.71813002],\n",
              "       [ -54.12408135,   -7.18993656,   16.98681678, ...,   -4.90131715,\n",
              "          -0.33663499,   -1.15097019],\n",
              "       ...,\n",
              "       [ -11.183432  ,  -10.80955344,   -9.52499654, ...,  -32.88296871,\n",
              "         -32.24869379,  -24.09375983],\n",
              "       [ -10.36455051,  -15.87282497,  -20.11362012, ...,  -16.86774535,\n",
              "         -12.20967621,  -13.46425284],\n",
              "       [  -0.92029628,   -8.4874924 ,  -13.82025247, ...,    4.01767426,\n",
              "           8.50465788,   10.81932434]])"
            ]
          },
          "metadata": {
            "tags": []
          },
          "execution_count": 84
        }
      ]
    },
    {
      "cell_type": "code",
      "metadata": {
        "id": "7ROAdAYMg1cP",
        "colab_type": "code",
        "colab": {
          "base_uri": "https://localhost:8080/",
          "height": 34
        },
        "outputId": "746885f8-4d82-4e05-e02f-f56963c9b671"
      },
      "source": [
        "librosa.feature.mfcc(y=X, sr=sample_rate, n_mfcc=13).shape"
      ],
      "execution_count": 85,
      "outputs": [
        {
          "output_type": "execute_result",
          "data": {
            "text/plain": [
              "(13, 216)"
            ]
          },
          "metadata": {
            "tags": []
          },
          "execution_count": 85
        }
      ]
    },
    {
      "cell_type": "code",
      "metadata": {
        "id": "NfNMcKC6g89v",
        "colab_type": "code",
        "colab": {
          "base_uri": "https://localhost:8080/",
          "height": 34
        },
        "outputId": "798f4b0c-b3f4-4e5b-e93d-9c349b7ef3cf"
      },
      "source": [
        "np.mean(librosa.feature.mfcc(y=X, sr=sample_rate, n_mfcc=13),axis=0).shape"
      ],
      "execution_count": 86,
      "outputs": [
        {
          "output_type": "execute_result",
          "data": {
            "text/plain": [
              "(216,)"
            ]
          },
          "metadata": {
            "tags": []
          },
          "execution_count": 86
        }
      ]
    },
    {
      "cell_type": "code",
      "metadata": {
        "id": "E2y0G3DiXoSG",
        "colab_type": "code",
        "colab": {
          "base_uri": "https://localhost:8080/",
          "height": 34
        },
        "outputId": "fa31687e-39b2-4286-a059-babe753dd189"
      },
      "source": [
        "base_path = '/content/drive/My Drive/2020/courses taken/AI -ML/daywise worklog/day49(20-07-2020)/AudioData'\n",
        "folders = [fol  for fol in os.listdir(base_path) if os.path.isdir(base_path+'/'+fol)]\n",
        "folders"
      ],
      "execution_count": 87,
      "outputs": [
        {
          "output_type": "execute_result",
          "data": {
            "text/plain": [
              "['JE', 'DC', 'KL', 'JK']"
            ]
          },
          "metadata": {
            "tags": []
          },
          "execution_count": 87
        }
      ]
    },
    {
      "cell_type": "code",
      "metadata": {
        "id": "w405i_qDX7I-",
        "colab_type": "code",
        "colab": {
          "base_uri": "https://localhost:8080/",
          "height": 84
        },
        "outputId": "45685f5d-7f6a-4b07-b7dd-5b18d1d47ba8"
      },
      "source": [
        "df = pd.DataFrame(columns=['feature']) #empty dataframe with a single column feature\n",
        "bookmark=0 #row count\n",
        "for cls,per in enumerate(folders): #folder name with label\n",
        "#labels are from 0 to 3\n",
        "  print(cls,per)\n",
        "  for name in os.listdir(base_path+'/'+per):\n",
        "        X, sample_rate = librosa.load(base_path+'/'+per+'/'+name, res_type='kaiser_fast',duration=2.5,sr=22050*2,offset=0.5)\n",
        "        # shape of x is sr*duration\n",
        "        sample_rate = np.array(sample_rate)\n",
        "        mfccs = np.mean(librosa.feature.mfcc(y=X, \n",
        "                                            sr=sample_rate, \n",
        "                                            n_mfcc=13),\n",
        "                        axis=0)\n",
        "        #216 values\n",
        "        feature = mfccs\n",
        "        #appending class label to numpy array\n",
        "        feature = np.append(feature,cls)\n",
        "        #in each row we have single column\n",
        "        #in that column i have a numpy array as value\n",
        "\n",
        "        df.loc[bookmark] = [feature]\n",
        "        bookmark=bookmark+1"
      ],
      "execution_count": 88,
      "outputs": [
        {
          "output_type": "stream",
          "text": [
            "0 JE\n",
            "1 DC\n",
            "2 KL\n",
            "3 JK\n"
          ],
          "name": "stdout"
        }
      ]
    },
    {
      "cell_type": "code",
      "metadata": {
        "id": "wFTXxDkzX_oe",
        "colab_type": "code",
        "colab": {
          "base_uri": "https://localhost:8080/",
          "height": 195
        },
        "outputId": "e249a188-d9eb-4999-ea6c-7e3f8fb0e4ce"
      },
      "source": [
        "df.head()"
      ],
      "execution_count": 89,
      "outputs": [
        {
          "output_type": "execute_result",
          "data": {
            "text/html": [
              "<div>\n",
              "<style scoped>\n",
              "    .dataframe tbody tr th:only-of-type {\n",
              "        vertical-align: middle;\n",
              "    }\n",
              "\n",
              "    .dataframe tbody tr th {\n",
              "        vertical-align: top;\n",
              "    }\n",
              "\n",
              "    .dataframe thead th {\n",
              "        text-align: right;\n",
              "    }\n",
              "</style>\n",
              "<table border=\"1\" class=\"dataframe\">\n",
              "  <thead>\n",
              "    <tr style=\"text-align: right;\">\n",
              "      <th></th>\n",
              "      <th>feature</th>\n",
              "    </tr>\n",
              "  </thead>\n",
              "  <tbody>\n",
              "    <tr>\n",
              "      <th>0</th>\n",
              "      <td>[3.5299492965367945, 3.3935020076881957, 1.581...</td>\n",
              "    </tr>\n",
              "    <tr>\n",
              "      <th>1</th>\n",
              "      <td>[-24.170094383389944, -24.094661338599135, -9....</td>\n",
              "    </tr>\n",
              "    <tr>\n",
              "      <th>2</th>\n",
              "      <td>[-22.51550092789205, -15.531952206108965, -7.2...</td>\n",
              "    </tr>\n",
              "    <tr>\n",
              "      <th>3</th>\n",
              "      <td>[-25.458699252596645, -25.30736706564826, -26....</td>\n",
              "    </tr>\n",
              "    <tr>\n",
              "      <th>4</th>\n",
              "      <td>[-25.08270817402452, -25.211529130432726, -10....</td>\n",
              "    </tr>\n",
              "  </tbody>\n",
              "</table>\n",
              "</div>"
            ],
            "text/plain": [
              "                                             feature\n",
              "0  [3.5299492965367945, 3.3935020076881957, 1.581...\n",
              "1  [-24.170094383389944, -24.094661338599135, -9....\n",
              "2  [-22.51550092789205, -15.531952206108965, -7.2...\n",
              "3  [-25.458699252596645, -25.30736706564826, -26....\n",
              "4  [-25.08270817402452, -25.211529130432726, -10...."
            ]
          },
          "metadata": {
            "tags": []
          },
          "execution_count": 89
        }
      ]
    },
    {
      "cell_type": "code",
      "metadata": {
        "id": "VT8furw9jT0d",
        "colab_type": "code",
        "colab": {
          "base_uri": "https://localhost:8080/",
          "height": 34
        },
        "outputId": "e5f534bd-a51d-4a8a-ff81-7e987dd2e934"
      },
      "source": [
        "df['feature'][0].shape"
      ],
      "execution_count": 90,
      "outputs": [
        {
          "output_type": "execute_result",
          "data": {
            "text/plain": [
              "(217,)"
            ]
          },
          "metadata": {
            "tags": []
          },
          "execution_count": 90
        }
      ]
    },
    {
      "cell_type": "code",
      "metadata": {
        "id": "QILPZbBfjo9c",
        "colab_type": "code",
        "colab": {
          "base_uri": "https://localhost:8080/",
          "height": 34
        },
        "outputId": "e119a6ad-cb08-4aa7-d512-029ab2d71ae0"
      },
      "source": [
        "df['feature'][0][-1]"
      ],
      "execution_count": 91,
      "outputs": [
        {
          "output_type": "execute_result",
          "data": {
            "text/plain": [
              "0.0"
            ]
          },
          "metadata": {
            "tags": []
          },
          "execution_count": 91
        }
      ]
    },
    {
      "cell_type": "code",
      "metadata": {
        "id": "A2g8zKggjdg8",
        "colab_type": "code",
        "colab": {
          "base_uri": "https://localhost:8080/",
          "height": 34
        },
        "outputId": "2185f225-6d48-470d-a7de-3059c677e7da"
      },
      "source": [
        "df.shape"
      ],
      "execution_count": 92,
      "outputs": [
        {
          "output_type": "execute_result",
          "data": {
            "text/plain": [
              "(480, 1)"
            ]
          },
          "metadata": {
            "tags": []
          },
          "execution_count": 92
        }
      ]
    },
    {
      "cell_type": "code",
      "metadata": {
        "id": "ILQYmNotjkQG",
        "colab_type": "code",
        "colab": {
          "base_uri": "https://localhost:8080/",
          "height": 34
        },
        "outputId": "f83207fb-2294-4185-c9ba-0dc8503ad40a"
      },
      "source": [
        "df.iloc[0][0].shape"
      ],
      "execution_count": 93,
      "outputs": [
        {
          "output_type": "execute_result",
          "data": {
            "text/plain": [
              "(217,)"
            ]
          },
          "metadata": {
            "tags": []
          },
          "execution_count": 93
        }
      ]
    },
    {
      "cell_type": "code",
      "metadata": {
        "id": "ZU00Du1Ijy2B",
        "colab_type": "code",
        "colab": {
          "base_uri": "https://localhost:8080/",
          "height": 126
        },
        "outputId": "c557c9d2-493c-4005-ccb0-4b30d80ba87b"
      },
      "source": [
        "df2 = pd.DataFrame(df['feature'].values.tolist())\n",
        "df2.sample()"
      ],
      "execution_count": 94,
      "outputs": [
        {
          "output_type": "execute_result",
          "data": {
            "text/html": [
              "<div>\n",
              "<style scoped>\n",
              "    .dataframe tbody tr th:only-of-type {\n",
              "        vertical-align: middle;\n",
              "    }\n",
              "\n",
              "    .dataframe tbody tr th {\n",
              "        vertical-align: top;\n",
              "    }\n",
              "\n",
              "    .dataframe thead th {\n",
              "        text-align: right;\n",
              "    }\n",
              "</style>\n",
              "<table border=\"1\" class=\"dataframe\">\n",
              "  <thead>\n",
              "    <tr style=\"text-align: right;\">\n",
              "      <th></th>\n",
              "      <th>0</th>\n",
              "      <th>1</th>\n",
              "      <th>2</th>\n",
              "      <th>3</th>\n",
              "      <th>4</th>\n",
              "      <th>5</th>\n",
              "      <th>6</th>\n",
              "      <th>7</th>\n",
              "      <th>8</th>\n",
              "      <th>9</th>\n",
              "      <th>10</th>\n",
              "      <th>11</th>\n",
              "      <th>12</th>\n",
              "      <th>13</th>\n",
              "      <th>14</th>\n",
              "      <th>15</th>\n",
              "      <th>16</th>\n",
              "      <th>17</th>\n",
              "      <th>18</th>\n",
              "      <th>19</th>\n",
              "      <th>20</th>\n",
              "      <th>21</th>\n",
              "      <th>22</th>\n",
              "      <th>23</th>\n",
              "      <th>24</th>\n",
              "      <th>25</th>\n",
              "      <th>26</th>\n",
              "      <th>27</th>\n",
              "      <th>28</th>\n",
              "      <th>29</th>\n",
              "      <th>30</th>\n",
              "      <th>31</th>\n",
              "      <th>32</th>\n",
              "      <th>33</th>\n",
              "      <th>34</th>\n",
              "      <th>35</th>\n",
              "      <th>36</th>\n",
              "      <th>37</th>\n",
              "      <th>38</th>\n",
              "      <th>39</th>\n",
              "      <th>...</th>\n",
              "      <th>177</th>\n",
              "      <th>178</th>\n",
              "      <th>179</th>\n",
              "      <th>180</th>\n",
              "      <th>181</th>\n",
              "      <th>182</th>\n",
              "      <th>183</th>\n",
              "      <th>184</th>\n",
              "      <th>185</th>\n",
              "      <th>186</th>\n",
              "      <th>187</th>\n",
              "      <th>188</th>\n",
              "      <th>189</th>\n",
              "      <th>190</th>\n",
              "      <th>191</th>\n",
              "      <th>192</th>\n",
              "      <th>193</th>\n",
              "      <th>194</th>\n",
              "      <th>195</th>\n",
              "      <th>196</th>\n",
              "      <th>197</th>\n",
              "      <th>198</th>\n",
              "      <th>199</th>\n",
              "      <th>200</th>\n",
              "      <th>201</th>\n",
              "      <th>202</th>\n",
              "      <th>203</th>\n",
              "      <th>204</th>\n",
              "      <th>205</th>\n",
              "      <th>206</th>\n",
              "      <th>207</th>\n",
              "      <th>208</th>\n",
              "      <th>209</th>\n",
              "      <th>210</th>\n",
              "      <th>211</th>\n",
              "      <th>212</th>\n",
              "      <th>213</th>\n",
              "      <th>214</th>\n",
              "      <th>215</th>\n",
              "      <th>216</th>\n",
              "    </tr>\n",
              "  </thead>\n",
              "  <tbody>\n",
              "    <tr>\n",
              "      <th>259</th>\n",
              "      <td>-24.638085</td>\n",
              "      <td>-27.47645</td>\n",
              "      <td>-33.019917</td>\n",
              "      <td>-33.43736</td>\n",
              "      <td>-32.533447</td>\n",
              "      <td>-31.952662</td>\n",
              "      <td>-30.013664</td>\n",
              "      <td>-28.844837</td>\n",
              "      <td>-29.072688</td>\n",
              "      <td>-29.684561</td>\n",
              "      <td>-30.653703</td>\n",
              "      <td>-30.100919</td>\n",
              "      <td>-32.105627</td>\n",
              "      <td>-31.52444</td>\n",
              "      <td>-29.986599</td>\n",
              "      <td>-29.369767</td>\n",
              "      <td>-30.910814</td>\n",
              "      <td>-30.135596</td>\n",
              "      <td>-30.208181</td>\n",
              "      <td>-32.540591</td>\n",
              "      <td>-31.676994</td>\n",
              "      <td>-31.873207</td>\n",
              "      <td>-30.511337</td>\n",
              "      <td>-30.525006</td>\n",
              "      <td>-29.344686</td>\n",
              "      <td>-29.919643</td>\n",
              "      <td>-33.32804</td>\n",
              "      <td>-38.324954</td>\n",
              "      <td>-37.672181</td>\n",
              "      <td>-37.655446</td>\n",
              "      <td>-37.238469</td>\n",
              "      <td>-38.126816</td>\n",
              "      <td>-39.205895</td>\n",
              "      <td>-37.548053</td>\n",
              "      <td>-31.977339</td>\n",
              "      <td>-28.954296</td>\n",
              "      <td>-28.350046</td>\n",
              "      <td>-29.470822</td>\n",
              "      <td>-30.128635</td>\n",
              "      <td>-30.547714</td>\n",
              "      <td>...</td>\n",
              "      <td>-29.279559</td>\n",
              "      <td>-29.645808</td>\n",
              "      <td>-32.182447</td>\n",
              "      <td>-38.108442</td>\n",
              "      <td>-40.073636</td>\n",
              "      <td>-39.943288</td>\n",
              "      <td>-42.545865</td>\n",
              "      <td>-42.634245</td>\n",
              "      <td>-42.348809</td>\n",
              "      <td>-43.079219</td>\n",
              "      <td>-43.457142</td>\n",
              "      <td>-42.404189</td>\n",
              "      <td>-41.288002</td>\n",
              "      <td>-42.41965</td>\n",
              "      <td>-41.520048</td>\n",
              "      <td>-38.283995</td>\n",
              "      <td>-30.999042</td>\n",
              "      <td>-27.364596</td>\n",
              "      <td>-26.000155</td>\n",
              "      <td>-26.21568</td>\n",
              "      <td>-25.973345</td>\n",
              "      <td>-25.407873</td>\n",
              "      <td>-24.74373</td>\n",
              "      <td>-24.056557</td>\n",
              "      <td>-24.057114</td>\n",
              "      <td>-23.691694</td>\n",
              "      <td>-23.51574</td>\n",
              "      <td>-24.319909</td>\n",
              "      <td>-24.531488</td>\n",
              "      <td>-24.765529</td>\n",
              "      <td>-24.909128</td>\n",
              "      <td>-24.722704</td>\n",
              "      <td>-23.710731</td>\n",
              "      <td>-23.819327</td>\n",
              "      <td>-23.630479</td>\n",
              "      <td>-23.652985</td>\n",
              "      <td>-23.693719</td>\n",
              "      <td>-24.798914</td>\n",
              "      <td>-24.674817</td>\n",
              "      <td>2.0</td>\n",
              "    </tr>\n",
              "  </tbody>\n",
              "</table>\n",
              "<p>1 rows × 217 columns</p>\n",
              "</div>"
            ],
            "text/plain": [
              "           0         1          2    ...        214        215  216\n",
              "259 -24.638085 -27.47645 -33.019917  ... -24.798914 -24.674817  2.0\n",
              "\n",
              "[1 rows x 217 columns]"
            ]
          },
          "metadata": {
            "tags": []
          },
          "execution_count": 94
        }
      ]
    },
    {
      "cell_type": "code",
      "metadata": {
        "id": "PpRCg4yUkJaM",
        "colab_type": "code",
        "colab": {
          "base_uri": "https://localhost:8080/",
          "height": 218
        },
        "outputId": "4b56b623-c5e7-4b9d-c909-148953671a39"
      },
      "source": [
        "df2.isnull().sum(axis=1)"
      ],
      "execution_count": 95,
      "outputs": [
        {
          "output_type": "execute_result",
          "data": {
            "text/plain": [
              "0       0\n",
              "1       0\n",
              "2      69\n",
              "3       0\n",
              "4       0\n",
              "       ..\n",
              "475    10\n",
              "476    31\n",
              "477     0\n",
              "478     0\n",
              "479     0\n",
              "Length: 480, dtype: int64"
            ]
          },
          "metadata": {
            "tags": []
          },
          "execution_count": 95
        }
      ]
    },
    {
      "cell_type": "code",
      "metadata": {
        "id": "9w64rxN2kABi",
        "colab_type": "code",
        "colab": {
          "base_uri": "https://localhost:8080/",
          "height": 218
        },
        "outputId": "b2a88cbb-0b81-42b2-ee6e-166e956b932f"
      },
      "source": [
        "df2.isnull().sum()"
      ],
      "execution_count": 96,
      "outputs": [
        {
          "output_type": "execute_result",
          "data": {
            "text/plain": [
              "0        0\n",
              "1        0\n",
              "2        0\n",
              "3        0\n",
              "4        0\n",
              "      ... \n",
              "212    100\n",
              "213    101\n",
              "214    101\n",
              "215    102\n",
              "216    103\n",
              "Length: 217, dtype: int64"
            ]
          },
          "metadata": {
            "tags": []
          },
          "execution_count": 96
        }
      ]
    },
    {
      "cell_type": "code",
      "metadata": {
        "id": "WWwV8JYMj9O2",
        "colab_type": "code",
        "colab": {}
      },
      "source": [
        "df2 = df2.dropna()"
      ],
      "execution_count": 97,
      "outputs": []
    },
    {
      "cell_type": "code",
      "metadata": {
        "id": "vqv6209-kb8T",
        "colab_type": "code",
        "colab": {
          "base_uri": "https://localhost:8080/",
          "height": 34
        },
        "outputId": "bd9bed94-0e6f-4bb9-eb87-51cc7d2757a0"
      },
      "source": [
        "df2[216].value_counts().sum()"
      ],
      "execution_count": 98,
      "outputs": [
        {
          "output_type": "execute_result",
          "data": {
            "text/plain": [
              "377"
            ]
          },
          "metadata": {
            "tags": []
          },
          "execution_count": 98
        }
      ]
    },
    {
      "cell_type": "code",
      "metadata": {
        "id": "rsWO38xqkj95",
        "colab_type": "code",
        "colab": {
          "base_uri": "https://localhost:8080/",
          "height": 34
        },
        "outputId": "07c2c993-d5fb-4874-8fc9-b98abcd63703"
      },
      "source": [
        "df2[216].isnull().sum()"
      ],
      "execution_count": 99,
      "outputs": [
        {
          "output_type": "execute_result",
          "data": {
            "text/plain": [
              "0"
            ]
          },
          "metadata": {
            "tags": []
          },
          "execution_count": 99
        }
      ]
    },
    {
      "cell_type": "code",
      "metadata": {
        "id": "Qa0p2V3xkmt1",
        "colab_type": "code",
        "colab": {
          "base_uri": "https://localhost:8080/",
          "height": 34
        },
        "outputId": "bbf7bb84-db11-4924-8d8b-dfac8f52b8d9"
      },
      "source": [
        "df2.shape"
      ],
      "execution_count": 100,
      "outputs": [
        {
          "output_type": "execute_result",
          "data": {
            "text/plain": [
              "(377, 217)"
            ]
          },
          "metadata": {
            "tags": []
          },
          "execution_count": 100
        }
      ]
    },
    {
      "cell_type": "code",
      "metadata": {
        "id": "cEM7R0ZUkqIY",
        "colab_type": "code",
        "colab": {
          "base_uri": "https://localhost:8080/",
          "height": 244
        },
        "outputId": "1ef5ee0a-160d-4e2c-e06f-f17211205d08"
      },
      "source": [
        "new_df = df2.rename(columns={216: \"label\"})\n",
        "new_df.head()"
      ],
      "execution_count": 101,
      "outputs": [
        {
          "output_type": "execute_result",
          "data": {
            "text/html": [
              "<div>\n",
              "<style scoped>\n",
              "    .dataframe tbody tr th:only-of-type {\n",
              "        vertical-align: middle;\n",
              "    }\n",
              "\n",
              "    .dataframe tbody tr th {\n",
              "        vertical-align: top;\n",
              "    }\n",
              "\n",
              "    .dataframe thead th {\n",
              "        text-align: right;\n",
              "    }\n",
              "</style>\n",
              "<table border=\"1\" class=\"dataframe\">\n",
              "  <thead>\n",
              "    <tr style=\"text-align: right;\">\n",
              "      <th></th>\n",
              "      <th>0</th>\n",
              "      <th>1</th>\n",
              "      <th>2</th>\n",
              "      <th>3</th>\n",
              "      <th>4</th>\n",
              "      <th>5</th>\n",
              "      <th>6</th>\n",
              "      <th>7</th>\n",
              "      <th>8</th>\n",
              "      <th>9</th>\n",
              "      <th>10</th>\n",
              "      <th>11</th>\n",
              "      <th>12</th>\n",
              "      <th>13</th>\n",
              "      <th>14</th>\n",
              "      <th>15</th>\n",
              "      <th>16</th>\n",
              "      <th>17</th>\n",
              "      <th>18</th>\n",
              "      <th>19</th>\n",
              "      <th>20</th>\n",
              "      <th>21</th>\n",
              "      <th>22</th>\n",
              "      <th>23</th>\n",
              "      <th>24</th>\n",
              "      <th>25</th>\n",
              "      <th>26</th>\n",
              "      <th>27</th>\n",
              "      <th>28</th>\n",
              "      <th>29</th>\n",
              "      <th>30</th>\n",
              "      <th>31</th>\n",
              "      <th>32</th>\n",
              "      <th>33</th>\n",
              "      <th>34</th>\n",
              "      <th>35</th>\n",
              "      <th>36</th>\n",
              "      <th>37</th>\n",
              "      <th>38</th>\n",
              "      <th>39</th>\n",
              "      <th>...</th>\n",
              "      <th>177</th>\n",
              "      <th>178</th>\n",
              "      <th>179</th>\n",
              "      <th>180</th>\n",
              "      <th>181</th>\n",
              "      <th>182</th>\n",
              "      <th>183</th>\n",
              "      <th>184</th>\n",
              "      <th>185</th>\n",
              "      <th>186</th>\n",
              "      <th>187</th>\n",
              "      <th>188</th>\n",
              "      <th>189</th>\n",
              "      <th>190</th>\n",
              "      <th>191</th>\n",
              "      <th>192</th>\n",
              "      <th>193</th>\n",
              "      <th>194</th>\n",
              "      <th>195</th>\n",
              "      <th>196</th>\n",
              "      <th>197</th>\n",
              "      <th>198</th>\n",
              "      <th>199</th>\n",
              "      <th>200</th>\n",
              "      <th>201</th>\n",
              "      <th>202</th>\n",
              "      <th>203</th>\n",
              "      <th>204</th>\n",
              "      <th>205</th>\n",
              "      <th>206</th>\n",
              "      <th>207</th>\n",
              "      <th>208</th>\n",
              "      <th>209</th>\n",
              "      <th>210</th>\n",
              "      <th>211</th>\n",
              "      <th>212</th>\n",
              "      <th>213</th>\n",
              "      <th>214</th>\n",
              "      <th>215</th>\n",
              "      <th>label</th>\n",
              "    </tr>\n",
              "  </thead>\n",
              "  <tbody>\n",
              "    <tr>\n",
              "      <th>0</th>\n",
              "      <td>3.529949</td>\n",
              "      <td>3.393502</td>\n",
              "      <td>1.581122</td>\n",
              "      <td>0.117455</td>\n",
              "      <td>-2.944852</td>\n",
              "      <td>-3.056374</td>\n",
              "      <td>-1.175403</td>\n",
              "      <td>-2.136643</td>\n",
              "      <td>-4.292749</td>\n",
              "      <td>-5.937324</td>\n",
              "      <td>-8.973770</td>\n",
              "      <td>-12.228952</td>\n",
              "      <td>-6.162340</td>\n",
              "      <td>-2.286926</td>\n",
              "      <td>-1.037475</td>\n",
              "      <td>-1.951216</td>\n",
              "      <td>-2.222021</td>\n",
              "      <td>-1.371666</td>\n",
              "      <td>-1.078009</td>\n",
              "      <td>-0.176724</td>\n",
              "      <td>-0.226750</td>\n",
              "      <td>-1.527521</td>\n",
              "      <td>-1.988343</td>\n",
              "      <td>-4.377648</td>\n",
              "      <td>-6.453167</td>\n",
              "      <td>-9.793393</td>\n",
              "      <td>-13.693820</td>\n",
              "      <td>-16.433676</td>\n",
              "      <td>-18.825826</td>\n",
              "      <td>-18.045779</td>\n",
              "      <td>-14.304377</td>\n",
              "      <td>-4.622837</td>\n",
              "      <td>0.149225</td>\n",
              "      <td>-0.634171</td>\n",
              "      <td>-2.008656</td>\n",
              "      <td>-3.513512</td>\n",
              "      <td>-4.723314</td>\n",
              "      <td>-4.757633</td>\n",
              "      <td>-5.637652</td>\n",
              "      <td>-5.445764</td>\n",
              "      <td>...</td>\n",
              "      <td>-26.520170</td>\n",
              "      <td>-24.762242</td>\n",
              "      <td>-23.020624</td>\n",
              "      <td>-18.458028</td>\n",
              "      <td>-13.908728</td>\n",
              "      <td>-10.333147</td>\n",
              "      <td>-7.374277</td>\n",
              "      <td>-6.486392</td>\n",
              "      <td>-6.859358</td>\n",
              "      <td>-7.239401</td>\n",
              "      <td>-6.605263</td>\n",
              "      <td>-8.052280</td>\n",
              "      <td>-9.013007</td>\n",
              "      <td>-8.072264</td>\n",
              "      <td>-6.643629</td>\n",
              "      <td>-6.462305</td>\n",
              "      <td>-6.937569</td>\n",
              "      <td>-9.000449</td>\n",
              "      <td>-10.025121</td>\n",
              "      <td>-8.818044</td>\n",
              "      <td>-9.844581</td>\n",
              "      <td>-10.489114</td>\n",
              "      <td>-10.257322</td>\n",
              "      <td>-9.158682</td>\n",
              "      <td>-8.059568</td>\n",
              "      <td>-8.446144</td>\n",
              "      <td>-8.687167</td>\n",
              "      <td>-8.110723</td>\n",
              "      <td>-7.476902</td>\n",
              "      <td>-7.376308</td>\n",
              "      <td>-7.628752</td>\n",
              "      <td>-6.795522</td>\n",
              "      <td>-6.259950</td>\n",
              "      <td>-5.866019</td>\n",
              "      <td>-5.707147</td>\n",
              "      <td>-5.065527</td>\n",
              "      <td>-4.295856</td>\n",
              "      <td>2.169405</td>\n",
              "      <td>7.545353</td>\n",
              "      <td>0.0</td>\n",
              "    </tr>\n",
              "    <tr>\n",
              "      <th>1</th>\n",
              "      <td>-24.170094</td>\n",
              "      <td>-24.094661</td>\n",
              "      <td>-9.601142</td>\n",
              "      <td>-3.714322</td>\n",
              "      <td>0.797293</td>\n",
              "      <td>1.858434</td>\n",
              "      <td>-1.265900</td>\n",
              "      <td>-3.732545</td>\n",
              "      <td>-4.196689</td>\n",
              "      <td>-5.403189</td>\n",
              "      <td>-5.124485</td>\n",
              "      <td>-5.469441</td>\n",
              "      <td>-8.698426</td>\n",
              "      <td>-12.781067</td>\n",
              "      <td>-10.162155</td>\n",
              "      <td>-8.299360</td>\n",
              "      <td>-4.959671</td>\n",
              "      <td>-3.070056</td>\n",
              "      <td>-3.430014</td>\n",
              "      <td>-5.201535</td>\n",
              "      <td>-4.622440</td>\n",
              "      <td>-2.491305</td>\n",
              "      <td>-1.452581</td>\n",
              "      <td>-3.860088</td>\n",
              "      <td>-6.562961</td>\n",
              "      <td>-7.930981</td>\n",
              "      <td>-6.321495</td>\n",
              "      <td>-5.292420</td>\n",
              "      <td>-5.257919</td>\n",
              "      <td>-5.137785</td>\n",
              "      <td>-5.269797</td>\n",
              "      <td>-5.619560</td>\n",
              "      <td>-3.867031</td>\n",
              "      <td>-2.934800</td>\n",
              "      <td>-2.913081</td>\n",
              "      <td>-5.081114</td>\n",
              "      <td>-10.583761</td>\n",
              "      <td>-14.018868</td>\n",
              "      <td>-16.256629</td>\n",
              "      <td>-17.175667</td>\n",
              "      <td>...</td>\n",
              "      <td>-24.460299</td>\n",
              "      <td>-23.765543</td>\n",
              "      <td>-24.569724</td>\n",
              "      <td>-25.877028</td>\n",
              "      <td>-26.477489</td>\n",
              "      <td>-26.631025</td>\n",
              "      <td>-28.372223</td>\n",
              "      <td>-26.997070</td>\n",
              "      <td>-26.283700</td>\n",
              "      <td>-27.126463</td>\n",
              "      <td>-26.104533</td>\n",
              "      <td>-27.481027</td>\n",
              "      <td>-27.492673</td>\n",
              "      <td>-25.431814</td>\n",
              "      <td>-25.381361</td>\n",
              "      <td>-24.917548</td>\n",
              "      <td>-23.053988</td>\n",
              "      <td>-22.077476</td>\n",
              "      <td>-21.619407</td>\n",
              "      <td>-21.848994</td>\n",
              "      <td>-20.785571</td>\n",
              "      <td>-20.997079</td>\n",
              "      <td>-24.328142</td>\n",
              "      <td>-24.275333</td>\n",
              "      <td>-25.353506</td>\n",
              "      <td>-22.977321</td>\n",
              "      <td>-23.786736</td>\n",
              "      <td>-24.796406</td>\n",
              "      <td>-24.237703</td>\n",
              "      <td>-22.844766</td>\n",
              "      <td>-23.453355</td>\n",
              "      <td>-26.091680</td>\n",
              "      <td>-24.624404</td>\n",
              "      <td>-23.409434</td>\n",
              "      <td>-23.891389</td>\n",
              "      <td>-23.145431</td>\n",
              "      <td>-23.774141</td>\n",
              "      <td>-24.094874</td>\n",
              "      <td>-22.963107</td>\n",
              "      <td>0.0</td>\n",
              "    </tr>\n",
              "    <tr>\n",
              "      <th>3</th>\n",
              "      <td>-25.458699</td>\n",
              "      <td>-25.307367</td>\n",
              "      <td>-26.562066</td>\n",
              "      <td>-25.635848</td>\n",
              "      <td>-24.413176</td>\n",
              "      <td>-24.330746</td>\n",
              "      <td>-25.231881</td>\n",
              "      <td>-24.310298</td>\n",
              "      <td>-24.332099</td>\n",
              "      <td>-20.944345</td>\n",
              "      <td>-15.979261</td>\n",
              "      <td>-5.539458</td>\n",
              "      <td>-1.756211</td>\n",
              "      <td>-0.161437</td>\n",
              "      <td>-0.274833</td>\n",
              "      <td>-2.412469</td>\n",
              "      <td>-5.660424</td>\n",
              "      <td>-8.970177</td>\n",
              "      <td>-10.744764</td>\n",
              "      <td>-12.576181</td>\n",
              "      <td>-12.843405</td>\n",
              "      <td>-13.609522</td>\n",
              "      <td>-13.780352</td>\n",
              "      <td>-14.411007</td>\n",
              "      <td>-13.463338</td>\n",
              "      <td>-10.353508</td>\n",
              "      <td>-8.922226</td>\n",
              "      <td>-9.859529</td>\n",
              "      <td>-6.433242</td>\n",
              "      <td>-4.854305</td>\n",
              "      <td>-8.181603</td>\n",
              "      <td>-11.434088</td>\n",
              "      <td>-11.670716</td>\n",
              "      <td>-8.565809</td>\n",
              "      <td>-7.373743</td>\n",
              "      <td>-7.185267</td>\n",
              "      <td>-4.975200</td>\n",
              "      <td>-3.933481</td>\n",
              "      <td>-3.654960</td>\n",
              "      <td>-4.448780</td>\n",
              "      <td>...</td>\n",
              "      <td>0.367393</td>\n",
              "      <td>-0.158724</td>\n",
              "      <td>-0.616696</td>\n",
              "      <td>-1.267337</td>\n",
              "      <td>-2.047972</td>\n",
              "      <td>-2.826475</td>\n",
              "      <td>-4.094759</td>\n",
              "      <td>-5.985270</td>\n",
              "      <td>-8.207567</td>\n",
              "      <td>-9.457543</td>\n",
              "      <td>-10.795895</td>\n",
              "      <td>-11.896204</td>\n",
              "      <td>-11.147610</td>\n",
              "      <td>-11.859442</td>\n",
              "      <td>-17.699827</td>\n",
              "      <td>-20.339299</td>\n",
              "      <td>-21.564096</td>\n",
              "      <td>-22.112553</td>\n",
              "      <td>-22.755406</td>\n",
              "      <td>-24.880546</td>\n",
              "      <td>-25.788028</td>\n",
              "      <td>-26.505943</td>\n",
              "      <td>-26.111740</td>\n",
              "      <td>-26.400599</td>\n",
              "      <td>-27.348649</td>\n",
              "      <td>-27.729517</td>\n",
              "      <td>-28.141801</td>\n",
              "      <td>-26.481350</td>\n",
              "      <td>-27.682820</td>\n",
              "      <td>-28.726685</td>\n",
              "      <td>-27.912122</td>\n",
              "      <td>-28.625142</td>\n",
              "      <td>-27.510296</td>\n",
              "      <td>-26.547950</td>\n",
              "      <td>-26.880675</td>\n",
              "      <td>-25.819318</td>\n",
              "      <td>-27.104844</td>\n",
              "      <td>-27.745132</td>\n",
              "      <td>-25.859411</td>\n",
              "      <td>0.0</td>\n",
              "    </tr>\n",
              "    <tr>\n",
              "      <th>4</th>\n",
              "      <td>-25.082708</td>\n",
              "      <td>-25.211529</td>\n",
              "      <td>-10.960526</td>\n",
              "      <td>-2.494657</td>\n",
              "      <td>-0.711743</td>\n",
              "      <td>-0.107495</td>\n",
              "      <td>1.349230</td>\n",
              "      <td>2.382443</td>\n",
              "      <td>2.559838</td>\n",
              "      <td>-1.681059</td>\n",
              "      <td>-7.731854</td>\n",
              "      <td>-13.696166</td>\n",
              "      <td>-13.500442</td>\n",
              "      <td>-13.598779</td>\n",
              "      <td>-14.571177</td>\n",
              "      <td>-15.117069</td>\n",
              "      <td>-18.433275</td>\n",
              "      <td>-20.404400</td>\n",
              "      <td>-20.638127</td>\n",
              "      <td>-21.622236</td>\n",
              "      <td>-23.330882</td>\n",
              "      <td>-23.508355</td>\n",
              "      <td>-21.635039</td>\n",
              "      <td>-21.065160</td>\n",
              "      <td>-12.081862</td>\n",
              "      <td>-5.228182</td>\n",
              "      <td>-1.319949</td>\n",
              "      <td>-1.447118</td>\n",
              "      <td>-5.244732</td>\n",
              "      <td>-5.935609</td>\n",
              "      <td>-3.983313</td>\n",
              "      <td>-4.677837</td>\n",
              "      <td>-6.355636</td>\n",
              "      <td>-4.663865</td>\n",
              "      <td>-0.224138</td>\n",
              "      <td>2.877790</td>\n",
              "      <td>0.539785</td>\n",
              "      <td>-5.361162</td>\n",
              "      <td>-5.508417</td>\n",
              "      <td>-3.996268</td>\n",
              "      <td>...</td>\n",
              "      <td>-0.702761</td>\n",
              "      <td>-1.914688</td>\n",
              "      <td>-2.737974</td>\n",
              "      <td>-0.978604</td>\n",
              "      <td>-0.945886</td>\n",
              "      <td>-0.462286</td>\n",
              "      <td>-0.192789</td>\n",
              "      <td>-0.918264</td>\n",
              "      <td>-3.140287</td>\n",
              "      <td>-4.228290</td>\n",
              "      <td>-5.543325</td>\n",
              "      <td>-7.504154</td>\n",
              "      <td>-9.443468</td>\n",
              "      <td>-15.092895</td>\n",
              "      <td>-18.300844</td>\n",
              "      <td>-20.470281</td>\n",
              "      <td>-22.440068</td>\n",
              "      <td>-23.762655</td>\n",
              "      <td>-24.293551</td>\n",
              "      <td>-24.787956</td>\n",
              "      <td>-24.515277</td>\n",
              "      <td>-24.634491</td>\n",
              "      <td>-26.463796</td>\n",
              "      <td>-28.088424</td>\n",
              "      <td>-26.549329</td>\n",
              "      <td>-25.644560</td>\n",
              "      <td>-26.490921</td>\n",
              "      <td>-26.936973</td>\n",
              "      <td>-25.805706</td>\n",
              "      <td>-25.769703</td>\n",
              "      <td>-25.222925</td>\n",
              "      <td>-22.785147</td>\n",
              "      <td>-23.360131</td>\n",
              "      <td>-22.886477</td>\n",
              "      <td>-21.424888</td>\n",
              "      <td>-22.595119</td>\n",
              "      <td>-23.384199</td>\n",
              "      <td>-23.606464</td>\n",
              "      <td>-25.523274</td>\n",
              "      <td>0.0</td>\n",
              "    </tr>\n",
              "    <tr>\n",
              "      <th>5</th>\n",
              "      <td>-23.049968</td>\n",
              "      <td>-24.298283</td>\n",
              "      <td>-24.185276</td>\n",
              "      <td>-24.487664</td>\n",
              "      <td>-25.568799</td>\n",
              "      <td>-25.687105</td>\n",
              "      <td>-26.123712</td>\n",
              "      <td>-24.602636</td>\n",
              "      <td>-25.202267</td>\n",
              "      <td>-26.601837</td>\n",
              "      <td>-26.052129</td>\n",
              "      <td>-25.760680</td>\n",
              "      <td>-23.779370</td>\n",
              "      <td>-24.826245</td>\n",
              "      <td>-21.656409</td>\n",
              "      <td>-10.903756</td>\n",
              "      <td>-4.612804</td>\n",
              "      <td>-0.905796</td>\n",
              "      <td>-0.489042</td>\n",
              "      <td>-3.510225</td>\n",
              "      <td>-4.843920</td>\n",
              "      <td>-4.776575</td>\n",
              "      <td>-3.896817</td>\n",
              "      <td>-1.118703</td>\n",
              "      <td>1.415768</td>\n",
              "      <td>3.258394</td>\n",
              "      <td>3.865701</td>\n",
              "      <td>2.837688</td>\n",
              "      <td>1.499175</td>\n",
              "      <td>-0.194277</td>\n",
              "      <td>-0.042299</td>\n",
              "      <td>1.628584</td>\n",
              "      <td>1.758420</td>\n",
              "      <td>1.480264</td>\n",
              "      <td>0.018137</td>\n",
              "      <td>-0.757888</td>\n",
              "      <td>-4.692052</td>\n",
              "      <td>-7.712433</td>\n",
              "      <td>-9.336185</td>\n",
              "      <td>-8.384862</td>\n",
              "      <td>...</td>\n",
              "      <td>-27.375927</td>\n",
              "      <td>-27.087344</td>\n",
              "      <td>-26.469028</td>\n",
              "      <td>-25.504972</td>\n",
              "      <td>-25.783763</td>\n",
              "      <td>-26.752507</td>\n",
              "      <td>-28.576862</td>\n",
              "      <td>-26.418393</td>\n",
              "      <td>-23.404754</td>\n",
              "      <td>-22.578277</td>\n",
              "      <td>-23.582924</td>\n",
              "      <td>-23.703609</td>\n",
              "      <td>-24.314102</td>\n",
              "      <td>-23.892382</td>\n",
              "      <td>-22.459217</td>\n",
              "      <td>-22.658796</td>\n",
              "      <td>-22.217412</td>\n",
              "      <td>-23.160272</td>\n",
              "      <td>-23.441745</td>\n",
              "      <td>-23.218764</td>\n",
              "      <td>-22.870157</td>\n",
              "      <td>-23.837919</td>\n",
              "      <td>-23.260596</td>\n",
              "      <td>-24.535108</td>\n",
              "      <td>-25.359171</td>\n",
              "      <td>-24.588881</td>\n",
              "      <td>-24.519231</td>\n",
              "      <td>-24.202710</td>\n",
              "      <td>-24.573931</td>\n",
              "      <td>-24.965921</td>\n",
              "      <td>-24.096915</td>\n",
              "      <td>-24.228190</td>\n",
              "      <td>-26.121644</td>\n",
              "      <td>-25.542942</td>\n",
              "      <td>-25.426656</td>\n",
              "      <td>-26.528731</td>\n",
              "      <td>-25.089244</td>\n",
              "      <td>-26.521565</td>\n",
              "      <td>-29.673118</td>\n",
              "      <td>0.0</td>\n",
              "    </tr>\n",
              "  </tbody>\n",
              "</table>\n",
              "<p>5 rows × 217 columns</p>\n",
              "</div>"
            ],
            "text/plain": [
              "           0          1          2  ...        214        215  label\n",
              "0   3.529949   3.393502   1.581122  ...   2.169405   7.545353    0.0\n",
              "1 -24.170094 -24.094661  -9.601142  ... -24.094874 -22.963107    0.0\n",
              "3 -25.458699 -25.307367 -26.562066  ... -27.745132 -25.859411    0.0\n",
              "4 -25.082708 -25.211529 -10.960526  ... -23.606464 -25.523274    0.0\n",
              "5 -23.049968 -24.298283 -24.185276  ... -26.521565 -29.673118    0.0\n",
              "\n",
              "[5 rows x 217 columns]"
            ]
          },
          "metadata": {
            "tags": []
          },
          "execution_count": 101
        }
      ]
    },
    {
      "cell_type": "code",
      "metadata": {
        "id": "b81EF6F4ks4R",
        "colab_type": "code",
        "colab": {
          "base_uri": "https://localhost:8080/",
          "height": 34
        },
        "outputId": "b6a34aa2-e4da-43b3-f9b1-0eb4e3e6c81c"
      },
      "source": [
        "from sklearn.model_selection import train_test_split\n",
        "X_train,X_test,y_train,y_test = train_test_split(new_df.drop('label',axis=1),new_df['label'],random_state=5)\n",
        "print(X_train.shape)"
      ],
      "execution_count": 125,
      "outputs": [
        {
          "output_type": "stream",
          "text": [
            "(282, 216)\n"
          ],
          "name": "stdout"
        }
      ]
    },
    {
      "cell_type": "code",
      "metadata": {
        "id": "CWCdORFRk_q4",
        "colab_type": "code",
        "colab": {
          "base_uri": "https://localhost:8080/",
          "height": 101
        },
        "outputId": "6279b71c-a6f2-4bd9-986f-29fa6d138702"
      },
      "source": [
        "y_train.value_counts(normalize=True)"
      ],
      "execution_count": 126,
      "outputs": [
        {
          "output_type": "execute_result",
          "data": {
            "text/plain": [
              "0.0    0.283688\n",
              "3.0    0.262411\n",
              "1.0    0.255319\n",
              "2.0    0.198582\n",
              "Name: label, dtype: float64"
            ]
          },
          "metadata": {
            "tags": []
          },
          "execution_count": 126
        }
      ]
    },
    {
      "cell_type": "code",
      "metadata": {
        "id": "aRhIz5selc8-",
        "colab_type": "code",
        "colab": {
          "base_uri": "https://localhost:8080/",
          "height": 101
        },
        "outputId": "875b2cc8-a9ef-4a99-9cf2-43d0e704af9e"
      },
      "source": [
        "y_test.value_counts(normalize=True)"
      ],
      "execution_count": 127,
      "outputs": [
        {
          "output_type": "execute_result",
          "data": {
            "text/plain": [
              "3.0    0.315789\n",
              "0.0    0.294737\n",
              "1.0    0.242105\n",
              "2.0    0.147368\n",
              "Name: label, dtype: float64"
            ]
          },
          "metadata": {
            "tags": []
          },
          "execution_count": 127
        }
      ]
    },
    {
      "cell_type": "code",
      "metadata": {
        "id": "a4p_NTO0oTLK",
        "colab_type": "code",
        "colab": {
          "base_uri": "https://localhost:8080/",
          "height": 67
        },
        "outputId": "2e125a10-5d5f-41d4-b68b-e9df4b77d4b1"
      },
      "source": [
        "# Import the model\n",
        "from sklearn.neighbors import KNeighborsClassifier\n",
        "# Creating an instance\n",
        "knn = KNeighborsClassifier()\n",
        "#training\n",
        "knn.fit(X_train,y_train)"
      ],
      "execution_count": 105,
      "outputs": [
        {
          "output_type": "execute_result",
          "data": {
            "text/plain": [
              "KNeighborsClassifier(algorithm='auto', leaf_size=30, metric='minkowski',\n",
              "                     metric_params=None, n_jobs=None, n_neighbors=5, p=2,\n",
              "                     weights='uniform')"
            ]
          },
          "metadata": {
            "tags": []
          },
          "execution_count": 105
        }
      ]
    },
    {
      "cell_type": "code",
      "metadata": {
        "id": "RuuZmPAXo-45",
        "colab_type": "code",
        "colab": {
          "base_uri": "https://localhost:8080/",
          "height": 34
        },
        "outputId": "1c665350-5245-40ad-f8f5-c0962cfd6795"
      },
      "source": [
        "from sklearn.metrics import accuracy_score\n",
        "y_train_pred = knn.predict(X_train)\n",
        "accuracy_score(y_train,y_train_pred)"
      ],
      "execution_count": 106,
      "outputs": [
        {
          "output_type": "execute_result",
          "data": {
            "text/plain": [
              "0.7021276595744681"
            ]
          },
          "metadata": {
            "tags": []
          },
          "execution_count": 106
        }
      ]
    },
    {
      "cell_type": "code",
      "metadata": {
        "id": "bvK83POIpRp3",
        "colab_type": "code",
        "colab": {
          "base_uri": "https://localhost:8080/",
          "height": 34
        },
        "outputId": "60afb9f4-ebd7-4783-c75d-017861546e59"
      },
      "source": [
        "from sklearn.metrics import accuracy_score\n",
        "y_test_pred = knn.predict(X_test)\n",
        "accuracy_score(y_test,y_test_pred)"
      ],
      "execution_count": 107,
      "outputs": [
        {
          "output_type": "execute_result",
          "data": {
            "text/plain": [
              "0.5684210526315789"
            ]
          },
          "metadata": {
            "tags": []
          },
          "execution_count": 107
        }
      ]
    },
    {
      "cell_type": "code",
      "metadata": {
        "id": "xcnfTAFcpcHS",
        "colab_type": "code",
        "colab": {}
      },
      "source": [
        "#import initialize and fit\n",
        "#import the RFC from sklearn\n",
        "from sklearn.ensemble import RandomForestClassifier\n",
        "\n",
        "#initialize the object for RFC\n",
        "rfc = RandomForestClassifier()\n",
        "\n",
        "#fit RFC to dataset\n",
        "final_model2 = rfc.fit(X_train,y_train)"
      ],
      "execution_count": 108,
      "outputs": []
    },
    {
      "cell_type": "code",
      "metadata": {
        "id": "pyyRd30YqjFJ",
        "colab_type": "code",
        "colab": {
          "base_uri": "https://localhost:8080/",
          "height": 34
        },
        "outputId": "914c12c5-5962-40cf-ddbb-e154f8955044"
      },
      "source": [
        "from sklearn.metrics import accuracy_score\n",
        "y_train_pred1 = rfc.predict(X_train)\n",
        "accuracy_score(y_train,y_train_pred1)"
      ],
      "execution_count": 109,
      "outputs": [
        {
          "output_type": "execute_result",
          "data": {
            "text/plain": [
              "1.0"
            ]
          },
          "metadata": {
            "tags": []
          },
          "execution_count": 109
        }
      ]
    },
    {
      "cell_type": "code",
      "metadata": {
        "id": "uijuqWGcqqXB",
        "colab_type": "code",
        "colab": {
          "base_uri": "https://localhost:8080/",
          "height": 34
        },
        "outputId": "ddca87bd-8408-4572-fc91-c005c03f6039"
      },
      "source": [
        "from sklearn.metrics import accuracy_score\n",
        "y_test_pred1 = rfc.predict(X_test)\n",
        "accuracy_score(y_test,y_test_pred1)"
      ],
      "execution_count": 110,
      "outputs": [
        {
          "output_type": "execute_result",
          "data": {
            "text/plain": [
              "0.6736842105263158"
            ]
          },
          "metadata": {
            "tags": []
          },
          "execution_count": 110
        }
      ]
    },
    {
      "cell_type": "markdown",
      "metadata": {
        "id": "f36n-Ri0rZCk",
        "colab_type": "text"
      },
      "source": [
        "ANN"
      ]
    },
    {
      "cell_type": "code",
      "metadata": {
        "id": "rTKV8eAQl2nM",
        "colab_type": "code",
        "colab": {}
      },
      "source": [
        "from keras.utils import to_categorical\n",
        "from sklearn.preprocessing import LabelEncoder\n",
        "\n",
        "y_train_cat = to_categorical(y_train)\n",
        "y_test_cat = to_categorical(y_test)"
      ],
      "execution_count": 128,
      "outputs": []
    },
    {
      "cell_type": "code",
      "metadata": {
        "id": "ajN3KTr8l8iZ",
        "colab_type": "code",
        "colab": {
          "base_uri": "https://localhost:8080/",
          "height": 134
        },
        "outputId": "082cac75-a3c6-4f66-95cb-53d8d6364177"
      },
      "source": [
        "y_train_cat"
      ],
      "execution_count": 129,
      "outputs": [
        {
          "output_type": "execute_result",
          "data": {
            "text/plain": [
              "array([[0., 0., 1., 0.],\n",
              "       [0., 0., 1., 0.],\n",
              "       [0., 0., 0., 1.],\n",
              "       ...,\n",
              "       [0., 1., 0., 0.],\n",
              "       [0., 0., 1., 0.],\n",
              "       [0., 0., 0., 1.]], dtype=float32)"
            ]
          },
          "metadata": {
            "tags": []
          },
          "execution_count": 129
        }
      ]
    },
    {
      "cell_type": "code",
      "metadata": {
        "id": "lg3ZrB9osHSN",
        "colab_type": "code",
        "colab": {
          "base_uri": "https://localhost:8080/",
          "height": 118
        },
        "outputId": "8b967852-2e9f-4bec-f4ae-c153dc0f1ae1"
      },
      "source": [
        "y_train[:5]"
      ],
      "execution_count": 130,
      "outputs": [
        {
          "output_type": "execute_result",
          "data": {
            "text/plain": [
              "313    2.0\n",
              "280    2.0\n",
              "474    3.0\n",
              "382    3.0\n",
              "336    2.0\n",
              "Name: label, dtype: float64"
            ]
          },
          "metadata": {
            "tags": []
          },
          "execution_count": 130
        }
      ]
    },
    {
      "cell_type": "code",
      "metadata": {
        "id": "LJqcpd_HtEkj",
        "colab_type": "code",
        "colab": {
          "base_uri": "https://localhost:8080/",
          "height": 252
        },
        "outputId": "232ecf51-ff12-449a-d61f-1484ad5f6c8b"
      },
      "source": [
        "## Bulding the model\n",
        "model_ann = Sequential()\n",
        "model_ann.add(Dense(512,input_shape=(216,),activation='relu'))\n",
        "model_ann.add(Dense(64,activation='relu'))\n",
        "model_ann.add(Dense(4,activation='softmax'))\n",
        "model_ann.summary()"
      ],
      "execution_count": 131,
      "outputs": [
        {
          "output_type": "stream",
          "text": [
            "Model: \"sequential_3\"\n",
            "_________________________________________________________________\n",
            "Layer (type)                 Output Shape              Param #   \n",
            "=================================================================\n",
            "dense_3 (Dense)              (None, 512)               111104    \n",
            "_________________________________________________________________\n",
            "dense_4 (Dense)              (None, 64)                32832     \n",
            "_________________________________________________________________\n",
            "dense_5 (Dense)              (None, 4)                 260       \n",
            "=================================================================\n",
            "Total params: 144,196\n",
            "Trainable params: 144,196\n",
            "Non-trainable params: 0\n",
            "_________________________________________________________________\n"
          ],
          "name": "stdout"
        }
      ]
    },
    {
      "cell_type": "code",
      "metadata": {
        "id": "9ILcNvWnuCBQ",
        "colab_type": "code",
        "colab": {}
      },
      "source": [
        "# Compiling the model\n",
        "model_ann.compile(optimizer='adam',loss='categorical_crossentropy',metrics=['accuracy'])"
      ],
      "execution_count": 132,
      "outputs": []
    },
    {
      "cell_type": "code",
      "metadata": {
        "id": "ax0ms1L-uGQI",
        "colab_type": "code",
        "colab": {
          "base_uri": "https://localhost:8080/",
          "height": 722
        },
        "outputId": "d66bdfe7-e642-4ba7-8d2f-7ac94b5898d2"
      },
      "source": [
        "## Train the model\n",
        "model_ann.fit(X_train,y_train_cat,epochs=20,validation_data=(X_test,y_test_cat))"
      ],
      "execution_count": 133,
      "outputs": [
        {
          "output_type": "stream",
          "text": [
            "Train on 282 samples, validate on 95 samples\n",
            "Epoch 1/20\n",
            "282/282 [==============================] - 0s 564us/step - loss: 10.6721 - accuracy: 0.2589 - val_loss: 3.2747 - val_accuracy: 0.4316\n",
            "Epoch 2/20\n",
            "282/282 [==============================] - 0s 148us/step - loss: 3.1200 - accuracy: 0.4255 - val_loss: 3.9397 - val_accuracy: 0.3263\n",
            "Epoch 3/20\n",
            "282/282 [==============================] - 0s 166us/step - loss: 3.2284 - accuracy: 0.4113 - val_loss: 2.2280 - val_accuracy: 0.3789\n",
            "Epoch 4/20\n",
            "282/282 [==============================] - 0s 139us/step - loss: 1.6457 - accuracy: 0.5355 - val_loss: 1.3722 - val_accuracy: 0.5053\n",
            "Epoch 5/20\n",
            "282/282 [==============================] - 0s 142us/step - loss: 1.0697 - accuracy: 0.6206 - val_loss: 1.3183 - val_accuracy: 0.5263\n",
            "Epoch 6/20\n",
            "282/282 [==============================] - 0s 146us/step - loss: 0.9301 - accuracy: 0.6489 - val_loss: 1.4498 - val_accuracy: 0.5474\n",
            "Epoch 7/20\n",
            "282/282 [==============================] - 0s 137us/step - loss: 0.7645 - accuracy: 0.6915 - val_loss: 1.1096 - val_accuracy: 0.5053\n",
            "Epoch 8/20\n",
            "282/282 [==============================] - 0s 136us/step - loss: 0.6768 - accuracy: 0.7163 - val_loss: 1.3379 - val_accuracy: 0.4947\n",
            "Epoch 9/20\n",
            "282/282 [==============================] - 0s 146us/step - loss: 0.8014 - accuracy: 0.7021 - val_loss: 1.3091 - val_accuracy: 0.4842\n",
            "Epoch 10/20\n",
            "282/282 [==============================] - 0s 146us/step - loss: 0.6072 - accuracy: 0.7447 - val_loss: 1.2813 - val_accuracy: 0.5579\n",
            "Epoch 11/20\n",
            "282/282 [==============================] - 0s 154us/step - loss: 0.5771 - accuracy: 0.7766 - val_loss: 1.2694 - val_accuracy: 0.5474\n",
            "Epoch 12/20\n",
            "282/282 [==============================] - 0s 158us/step - loss: 0.5099 - accuracy: 0.7730 - val_loss: 1.0531 - val_accuracy: 0.6000\n",
            "Epoch 13/20\n",
            "282/282 [==============================] - 0s 159us/step - loss: 0.5095 - accuracy: 0.7837 - val_loss: 1.2872 - val_accuracy: 0.5368\n",
            "Epoch 14/20\n",
            "282/282 [==============================] - 0s 150us/step - loss: 0.4234 - accuracy: 0.8298 - val_loss: 1.0980 - val_accuracy: 0.5579\n",
            "Epoch 15/20\n",
            "282/282 [==============================] - 0s 138us/step - loss: 0.3544 - accuracy: 0.8830 - val_loss: 1.0966 - val_accuracy: 0.5789\n",
            "Epoch 16/20\n",
            "282/282 [==============================] - 0s 145us/step - loss: 0.3565 - accuracy: 0.8688 - val_loss: 1.1767 - val_accuracy: 0.6000\n",
            "Epoch 17/20\n",
            "282/282 [==============================] - 0s 142us/step - loss: 0.2656 - accuracy: 0.9220 - val_loss: 0.9935 - val_accuracy: 0.5579\n",
            "Epoch 18/20\n",
            "282/282 [==============================] - 0s 136us/step - loss: 0.2414 - accuracy: 0.9397 - val_loss: 0.9703 - val_accuracy: 0.6105\n",
            "Epoch 19/20\n",
            "282/282 [==============================] - 0s 146us/step - loss: 0.1960 - accuracy: 0.9645 - val_loss: 0.9971 - val_accuracy: 0.6211\n",
            "Epoch 20/20\n",
            "282/282 [==============================] - 0s 135us/step - loss: 0.1866 - accuracy: 0.9681 - val_loss: 1.0026 - val_accuracy: 0.6105\n"
          ],
          "name": "stdout"
        },
        {
          "output_type": "execute_result",
          "data": {
            "text/plain": [
              "<keras.callbacks.callbacks.History at 0x7f9999f92390>"
            ]
          },
          "metadata": {
            "tags": []
          },
          "execution_count": 133
        }
      ]
    },
    {
      "cell_type": "markdown",
      "metadata": {
        "id": "UKNY6o9_wVMy",
        "colab_type": "text"
      },
      "source": [
        "CNN"
      ]
    },
    {
      "cell_type": "code",
      "metadata": {
        "id": "o8CyzmkIwYAX",
        "colab_type": "code",
        "colab": {
          "base_uri": "https://localhost:8080/",
          "height": 34
        },
        "outputId": "8ef8524d-d0ff-485d-d596-0bdd77701d72"
      },
      "source": [
        "X_train.shape"
      ],
      "execution_count": 134,
      "outputs": [
        {
          "output_type": "execute_result",
          "data": {
            "text/plain": [
              "(282, 216)"
            ]
          },
          "metadata": {
            "tags": []
          },
          "execution_count": 134
        }
      ]
    },
    {
      "cell_type": "code",
      "metadata": {
        "id": "YR4IDLXemATn",
        "colab_type": "code",
        "colab": {}
      },
      "source": [
        "x_traincnn =np.expand_dims(X_train, axis=2)\n",
        "x_testcnn= np.expand_dims(X_test, axis=2)"
      ],
      "execution_count": 114,
      "outputs": []
    },
    {
      "cell_type": "code",
      "metadata": {
        "id": "Too-W9gumD9s",
        "colab_type": "code",
        "colab": {
          "base_uri": "https://localhost:8080/",
          "height": 34
        },
        "outputId": "cfd27793-1149-4e82-9e94-786cc67bab1e"
      },
      "source": [
        "x_traincnn.shape"
      ],
      "execution_count": 115,
      "outputs": [
        {
          "output_type": "execute_result",
          "data": {
            "text/plain": [
              "(282, 216, 1)"
            ]
          },
          "metadata": {
            "tags": []
          },
          "execution_count": 115
        }
      ]
    },
    {
      "cell_type": "code",
      "metadata": {
        "id": "Q_ohceNvmGt4",
        "colab_type": "code",
        "colab": {}
      },
      "source": [
        "model = Sequential()\n",
        "\n",
        "model.add(Conv1D(256, 5,padding='same',\n",
        "                 input_shape=(216,1)))\n",
        "model.add(Activation('relu'))\n",
        "model.add(Conv1D(128, 5,padding='same'))\n",
        "model.add(Activation('relu'))\n",
        "model.add(Dropout(0.1))\n",
        "model.add(MaxPooling1D(pool_size=(8)))\n",
        "model.add(Conv1D(128, 5,padding='same',))\n",
        "model.add(Activation('relu'))\n",
        "#model.add(Conv1D(128, 5,padding='same',))\n",
        "#model.add(Activation('relu'))\n",
        "#model.add(Conv1D(128, 5,padding='same',))\n",
        "#model.add(Activation('relu'))\n",
        "#model.add(Dropout(0.2))\n",
        "model.add(Conv1D(128, 5,padding='same',))\n",
        "model.add(Activation('relu'))\n",
        "model.add(Flatten())\n",
        "model.add(Dense(4,activation='softmax'))\n",
        "opt = keras.optimizers.rmsprop(lr=0.00001, decay=1e-6)"
      ],
      "execution_count": 116,
      "outputs": []
    },
    {
      "cell_type": "code",
      "metadata": {
        "id": "8S5pMebBmMpS",
        "colab_type": "code",
        "colab": {
          "base_uri": "https://localhost:8080/",
          "height": 554
        },
        "outputId": "d1d4112c-4de1-4cad-a765-0d2b4fd18d8c"
      },
      "source": [
        "model.summary()"
      ],
      "execution_count": 117,
      "outputs": [
        {
          "output_type": "stream",
          "text": [
            "Model: \"sequential_2\"\n",
            "_________________________________________________________________\n",
            "Layer (type)                 Output Shape              Param #   \n",
            "=================================================================\n",
            "conv1d_5 (Conv1D)            (None, 216, 256)          1536      \n",
            "_________________________________________________________________\n",
            "activation_5 (Activation)    (None, 216, 256)          0         \n",
            "_________________________________________________________________\n",
            "conv1d_6 (Conv1D)            (None, 216, 128)          163968    \n",
            "_________________________________________________________________\n",
            "activation_6 (Activation)    (None, 216, 128)          0         \n",
            "_________________________________________________________________\n",
            "dropout_2 (Dropout)          (None, 216, 128)          0         \n",
            "_________________________________________________________________\n",
            "max_pooling1d_2 (MaxPooling1 (None, 27, 128)           0         \n",
            "_________________________________________________________________\n",
            "conv1d_7 (Conv1D)            (None, 27, 128)           82048     \n",
            "_________________________________________________________________\n",
            "activation_7 (Activation)    (None, 27, 128)           0         \n",
            "_________________________________________________________________\n",
            "conv1d_8 (Conv1D)            (None, 27, 128)           82048     \n",
            "_________________________________________________________________\n",
            "activation_8 (Activation)    (None, 27, 128)           0         \n",
            "_________________________________________________________________\n",
            "flatten_2 (Flatten)          (None, 3456)              0         \n",
            "_________________________________________________________________\n",
            "dense_2 (Dense)              (None, 4)                 13828     \n",
            "=================================================================\n",
            "Total params: 343,428\n",
            "Trainable params: 343,428\n",
            "Non-trainable params: 0\n",
            "_________________________________________________________________\n"
          ],
          "name": "stdout"
        }
      ]
    },
    {
      "cell_type": "code",
      "metadata": {
        "id": "l5aaxvr_mSNb",
        "colab_type": "code",
        "colab": {}
      },
      "source": [
        "model.compile(loss='categorical_crossentropy', optimizer=opt,metrics=['accuracy'])"
      ],
      "execution_count": 118,
      "outputs": []
    },
    {
      "cell_type": "code",
      "metadata": {
        "id": "EOlQvw9omV0W",
        "colab_type": "code",
        "colab": {
          "base_uri": "https://localhost:8080/",
          "height": 1000
        },
        "outputId": "52c270ca-a9ff-459c-a699-3da92a9139b0"
      },
      "source": [
        "cnnhistory=model.fit(x_traincnn, y_train_cat, batch_size=16, epochs=100, validation_data=(x_testcnn, y_test_cat))"
      ],
      "execution_count": 135,
      "outputs": [
        {
          "output_type": "stream",
          "text": [
            "Train on 282 samples, validate on 95 samples\n",
            "Epoch 1/100\n",
            "282/282 [==============================] - 0s 478us/step - loss: 0.4548 - accuracy: 0.8652 - val_loss: 0.7485 - val_accuracy: 0.6947\n",
            "Epoch 2/100\n",
            "282/282 [==============================] - 0s 493us/step - loss: 0.4534 - accuracy: 0.8475 - val_loss: 0.7537 - val_accuracy: 0.6737\n",
            "Epoch 3/100\n",
            "282/282 [==============================] - 0s 461us/step - loss: 0.4433 - accuracy: 0.8440 - val_loss: 0.7575 - val_accuracy: 0.6842\n",
            "Epoch 4/100\n",
            "282/282 [==============================] - 0s 480us/step - loss: 0.4435 - accuracy: 0.8652 - val_loss: 0.7637 - val_accuracy: 0.6737\n",
            "Epoch 5/100\n",
            "282/282 [==============================] - 0s 455us/step - loss: 0.4433 - accuracy: 0.8617 - val_loss: 0.7524 - val_accuracy: 0.6842\n",
            "Epoch 6/100\n",
            "282/282 [==============================] - 0s 471us/step - loss: 0.4368 - accuracy: 0.8582 - val_loss: 0.7447 - val_accuracy: 0.6842\n",
            "Epoch 7/100\n",
            "282/282 [==============================] - 0s 461us/step - loss: 0.4345 - accuracy: 0.8582 - val_loss: 0.7444 - val_accuracy: 0.6737\n",
            "Epoch 8/100\n",
            "282/282 [==============================] - 0s 477us/step - loss: 0.4346 - accuracy: 0.8759 - val_loss: 0.7583 - val_accuracy: 0.6526\n",
            "Epoch 9/100\n",
            "282/282 [==============================] - 0s 481us/step - loss: 0.4254 - accuracy: 0.8688 - val_loss: 0.7534 - val_accuracy: 0.6632\n",
            "Epoch 10/100\n",
            "282/282 [==============================] - 0s 469us/step - loss: 0.4299 - accuracy: 0.8546 - val_loss: 0.7542 - val_accuracy: 0.6842\n",
            "Epoch 11/100\n",
            "282/282 [==============================] - 0s 461us/step - loss: 0.4227 - accuracy: 0.8688 - val_loss: 0.7489 - val_accuracy: 0.6737\n",
            "Epoch 12/100\n",
            "282/282 [==============================] - 0s 500us/step - loss: 0.4232 - accuracy: 0.8688 - val_loss: 0.7514 - val_accuracy: 0.6737\n",
            "Epoch 13/100\n",
            "282/282 [==============================] - 0s 470us/step - loss: 0.4187 - accuracy: 0.8652 - val_loss: 0.7467 - val_accuracy: 0.6737\n",
            "Epoch 14/100\n",
            "282/282 [==============================] - 0s 452us/step - loss: 0.4199 - accuracy: 0.8511 - val_loss: 0.7383 - val_accuracy: 0.6737\n",
            "Epoch 15/100\n",
            "282/282 [==============================] - 0s 469us/step - loss: 0.4076 - accuracy: 0.8723 - val_loss: 0.7400 - val_accuracy: 0.6737\n",
            "Epoch 16/100\n",
            "282/282 [==============================] - 0s 468us/step - loss: 0.4070 - accuracy: 0.8865 - val_loss: 0.7443 - val_accuracy: 0.6947\n",
            "Epoch 17/100\n",
            "282/282 [==============================] - 0s 502us/step - loss: 0.4101 - accuracy: 0.8652 - val_loss: 0.7468 - val_accuracy: 0.6737\n",
            "Epoch 18/100\n",
            "282/282 [==============================] - 0s 460us/step - loss: 0.4044 - accuracy: 0.8652 - val_loss: 0.7489 - val_accuracy: 0.6632\n",
            "Epoch 19/100\n",
            "282/282 [==============================] - 0s 495us/step - loss: 0.4038 - accuracy: 0.8794 - val_loss: 0.7406 - val_accuracy: 0.6737\n",
            "Epoch 20/100\n",
            "282/282 [==============================] - 0s 460us/step - loss: 0.3990 - accuracy: 0.8759 - val_loss: 0.7409 - val_accuracy: 0.6632\n",
            "Epoch 21/100\n",
            "282/282 [==============================] - 0s 460us/step - loss: 0.3986 - accuracy: 0.8794 - val_loss: 0.7327 - val_accuracy: 0.6842\n",
            "Epoch 22/100\n",
            "282/282 [==============================] - 0s 457us/step - loss: 0.3873 - accuracy: 0.8759 - val_loss: 0.7484 - val_accuracy: 0.6526\n",
            "Epoch 23/100\n",
            "282/282 [==============================] - 0s 469us/step - loss: 0.3877 - accuracy: 0.8936 - val_loss: 0.7381 - val_accuracy: 0.6737\n",
            "Epoch 24/100\n",
            "282/282 [==============================] - 0s 465us/step - loss: 0.3915 - accuracy: 0.8830 - val_loss: 0.7351 - val_accuracy: 0.6842\n",
            "Epoch 25/100\n",
            "282/282 [==============================] - 0s 491us/step - loss: 0.3835 - accuracy: 0.8865 - val_loss: 0.7348 - val_accuracy: 0.6737\n",
            "Epoch 26/100\n",
            "282/282 [==============================] - 0s 457us/step - loss: 0.3901 - accuracy: 0.8723 - val_loss: 0.7368 - val_accuracy: 0.6632\n",
            "Epoch 27/100\n",
            "282/282 [==============================] - 0s 479us/step - loss: 0.3796 - accuracy: 0.8830 - val_loss: 0.7331 - val_accuracy: 0.6842\n",
            "Epoch 28/100\n",
            "282/282 [==============================] - 0s 452us/step - loss: 0.3770 - accuracy: 0.8794 - val_loss: 0.7441 - val_accuracy: 0.6737\n",
            "Epoch 29/100\n",
            "282/282 [==============================] - 0s 453us/step - loss: 0.3566 - accuracy: 0.9007 - val_loss: 0.7363 - val_accuracy: 0.6947\n",
            "Epoch 30/100\n",
            "282/282 [==============================] - 0s 467us/step - loss: 0.3731 - accuracy: 0.8901 - val_loss: 0.7332 - val_accuracy: 0.6526\n",
            "Epoch 31/100\n",
            "282/282 [==============================] - 0s 452us/step - loss: 0.3659 - accuracy: 0.8972 - val_loss: 0.7601 - val_accuracy: 0.6632\n",
            "Epoch 32/100\n",
            "282/282 [==============================] - 0s 495us/step - loss: 0.3707 - accuracy: 0.8794 - val_loss: 0.7359 - val_accuracy: 0.6737\n",
            "Epoch 33/100\n",
            "282/282 [==============================] - 0s 471us/step - loss: 0.3598 - accuracy: 0.8972 - val_loss: 0.7479 - val_accuracy: 0.6737\n",
            "Epoch 34/100\n",
            "282/282 [==============================] - 0s 487us/step - loss: 0.3647 - accuracy: 0.8972 - val_loss: 0.7335 - val_accuracy: 0.6737\n",
            "Epoch 35/100\n",
            "282/282 [==============================] - 0s 449us/step - loss: 0.3559 - accuracy: 0.9078 - val_loss: 0.7406 - val_accuracy: 0.6842\n",
            "Epoch 36/100\n",
            "282/282 [==============================] - 0s 450us/step - loss: 0.3602 - accuracy: 0.9007 - val_loss: 0.7257 - val_accuracy: 0.6632\n",
            "Epoch 37/100\n",
            "282/282 [==============================] - 0s 451us/step - loss: 0.3493 - accuracy: 0.9043 - val_loss: 0.7241 - val_accuracy: 0.6737\n",
            "Epoch 38/100\n",
            "282/282 [==============================] - 0s 509us/step - loss: 0.3574 - accuracy: 0.8972 - val_loss: 0.7287 - val_accuracy: 0.6526\n",
            "Epoch 39/100\n",
            "282/282 [==============================] - 0s 454us/step - loss: 0.3493 - accuracy: 0.9043 - val_loss: 0.7349 - val_accuracy: 0.6632\n",
            "Epoch 40/100\n",
            "282/282 [==============================] - 0s 495us/step - loss: 0.3427 - accuracy: 0.8936 - val_loss: 0.7351 - val_accuracy: 0.6737\n",
            "Epoch 41/100\n",
            "282/282 [==============================] - 0s 462us/step - loss: 0.3423 - accuracy: 0.9184 - val_loss: 0.7303 - val_accuracy: 0.6842\n",
            "Epoch 42/100\n",
            "282/282 [==============================] - 0s 518us/step - loss: 0.3462 - accuracy: 0.9113 - val_loss: 0.7257 - val_accuracy: 0.6737\n",
            "Epoch 43/100\n",
            "282/282 [==============================] - 0s 463us/step - loss: 0.3363 - accuracy: 0.9113 - val_loss: 0.7308 - val_accuracy: 0.6842\n",
            "Epoch 44/100\n",
            "282/282 [==============================] - 0s 456us/step - loss: 0.3349 - accuracy: 0.8972 - val_loss: 0.7263 - val_accuracy: 0.6526\n",
            "Epoch 45/100\n",
            "282/282 [==============================] - 0s 444us/step - loss: 0.3330 - accuracy: 0.9255 - val_loss: 0.7387 - val_accuracy: 0.6737\n",
            "Epoch 46/100\n",
            "282/282 [==============================] - 0s 475us/step - loss: 0.3238 - accuracy: 0.9220 - val_loss: 0.7444 - val_accuracy: 0.6947\n",
            "Epoch 47/100\n",
            "282/282 [==============================] - 0s 516us/step - loss: 0.3374 - accuracy: 0.9078 - val_loss: 0.7180 - val_accuracy: 0.6526\n",
            "Epoch 48/100\n",
            "282/282 [==============================] - 0s 456us/step - loss: 0.3280 - accuracy: 0.9149 - val_loss: 0.7303 - val_accuracy: 0.6737\n",
            "Epoch 49/100\n",
            "282/282 [==============================] - 0s 477us/step - loss: 0.3173 - accuracy: 0.9113 - val_loss: 0.7761 - val_accuracy: 0.6526\n",
            "Epoch 50/100\n",
            "282/282 [==============================] - 0s 476us/step - loss: 0.3252 - accuracy: 0.9255 - val_loss: 0.7565 - val_accuracy: 0.6632\n",
            "Epoch 51/100\n",
            "282/282 [==============================] - 0s 459us/step - loss: 0.3176 - accuracy: 0.9255 - val_loss: 0.7270 - val_accuracy: 0.6632\n",
            "Epoch 52/100\n",
            "282/282 [==============================] - 0s 440us/step - loss: 0.3186 - accuracy: 0.9220 - val_loss: 0.7211 - val_accuracy: 0.6632\n",
            "Epoch 53/100\n",
            "282/282 [==============================] - 0s 455us/step - loss: 0.3164 - accuracy: 0.9255 - val_loss: 0.7384 - val_accuracy: 0.6526\n",
            "Epoch 54/100\n",
            "282/282 [==============================] - 0s 477us/step - loss: 0.3125 - accuracy: 0.9149 - val_loss: 0.7321 - val_accuracy: 0.6632\n",
            "Epoch 55/100\n",
            "282/282 [==============================] - 0s 486us/step - loss: 0.3074 - accuracy: 0.9291 - val_loss: 0.7301 - val_accuracy: 0.6737\n",
            "Epoch 56/100\n",
            "282/282 [==============================] - 0s 473us/step - loss: 0.3040 - accuracy: 0.9184 - val_loss: 0.7301 - val_accuracy: 0.6737\n",
            "Epoch 57/100\n",
            "282/282 [==============================] - 0s 474us/step - loss: 0.3053 - accuracy: 0.9362 - val_loss: 0.7265 - val_accuracy: 0.6526\n",
            "Epoch 58/100\n",
            "282/282 [==============================] - 0s 462us/step - loss: 0.3081 - accuracy: 0.9149 - val_loss: 0.7204 - val_accuracy: 0.6526\n",
            "Epoch 59/100\n",
            "282/282 [==============================] - 0s 456us/step - loss: 0.3028 - accuracy: 0.9255 - val_loss: 0.7314 - val_accuracy: 0.6632\n",
            "Epoch 60/100\n",
            "282/282 [==============================] - 0s 454us/step - loss: 0.2984 - accuracy: 0.9255 - val_loss: 0.7390 - val_accuracy: 0.6737\n",
            "Epoch 61/100\n",
            "282/282 [==============================] - 0s 484us/step - loss: 0.2975 - accuracy: 0.9291 - val_loss: 0.7204 - val_accuracy: 0.6737\n",
            "Epoch 62/100\n",
            "282/282 [==============================] - 0s 486us/step - loss: 0.2898 - accuracy: 0.9255 - val_loss: 0.7384 - val_accuracy: 0.6737\n",
            "Epoch 63/100\n",
            "282/282 [==============================] - 0s 457us/step - loss: 0.2955 - accuracy: 0.9291 - val_loss: 0.7241 - val_accuracy: 0.6632\n",
            "Epoch 64/100\n",
            "282/282 [==============================] - 0s 488us/step - loss: 0.2898 - accuracy: 0.9255 - val_loss: 0.7507 - val_accuracy: 0.6737\n",
            "Epoch 65/100\n",
            "282/282 [==============================] - 0s 457us/step - loss: 0.2901 - accuracy: 0.9362 - val_loss: 0.7292 - val_accuracy: 0.6632\n",
            "Epoch 66/100\n",
            "282/282 [==============================] - 0s 500us/step - loss: 0.2866 - accuracy: 0.9397 - val_loss: 0.7229 - val_accuracy: 0.6632\n",
            "Epoch 67/100\n",
            "282/282 [==============================] - 0s 457us/step - loss: 0.2818 - accuracy: 0.9468 - val_loss: 0.7427 - val_accuracy: 0.6632\n",
            "Epoch 68/100\n",
            "282/282 [==============================] - 0s 478us/step - loss: 0.2823 - accuracy: 0.9362 - val_loss: 0.7247 - val_accuracy: 0.6421\n",
            "Epoch 69/100\n",
            "282/282 [==============================] - 0s 498us/step - loss: 0.2763 - accuracy: 0.9433 - val_loss: 0.7282 - val_accuracy: 0.6737\n",
            "Epoch 70/100\n",
            "282/282 [==============================] - 0s 496us/step - loss: 0.2762 - accuracy: 0.9433 - val_loss: 0.7398 - val_accuracy: 0.6632\n",
            "Epoch 71/100\n",
            "282/282 [==============================] - 0s 462us/step - loss: 0.2763 - accuracy: 0.9362 - val_loss: 0.7339 - val_accuracy: 0.6526\n",
            "Epoch 72/100\n",
            "282/282 [==============================] - 0s 481us/step - loss: 0.2713 - accuracy: 0.9397 - val_loss: 0.7288 - val_accuracy: 0.6737\n",
            "Epoch 73/100\n",
            "282/282 [==============================] - 0s 459us/step - loss: 0.2673 - accuracy: 0.9326 - val_loss: 0.7263 - val_accuracy: 0.6526\n",
            "Epoch 74/100\n",
            "282/282 [==============================] - 0s 460us/step - loss: 0.2675 - accuracy: 0.9468 - val_loss: 0.7297 - val_accuracy: 0.6632\n",
            "Epoch 75/100\n",
            "282/282 [==============================] - 0s 462us/step - loss: 0.2692 - accuracy: 0.9362 - val_loss: 0.7258 - val_accuracy: 0.6632\n",
            "Epoch 76/100\n",
            "282/282 [==============================] - 0s 459us/step - loss: 0.2573 - accuracy: 0.9610 - val_loss: 0.7173 - val_accuracy: 0.6632\n",
            "Epoch 77/100\n",
            "282/282 [==============================] - 0s 514us/step - loss: 0.2614 - accuracy: 0.9362 - val_loss: 0.7347 - val_accuracy: 0.6526\n",
            "Epoch 78/100\n",
            "282/282 [==============================] - 0s 453us/step - loss: 0.2570 - accuracy: 0.9504 - val_loss: 0.7237 - val_accuracy: 0.6526\n",
            "Epoch 79/100\n",
            "282/282 [==============================] - 0s 474us/step - loss: 0.2592 - accuracy: 0.9397 - val_loss: 0.7275 - val_accuracy: 0.6737\n",
            "Epoch 80/100\n",
            "282/282 [==============================] - 0s 461us/step - loss: 0.2554 - accuracy: 0.9539 - val_loss: 0.7311 - val_accuracy: 0.6632\n",
            "Epoch 81/100\n",
            "282/282 [==============================] - 0s 445us/step - loss: 0.2519 - accuracy: 0.9504 - val_loss: 0.7357 - val_accuracy: 0.6632\n",
            "Epoch 82/100\n",
            "282/282 [==============================] - 0s 437us/step - loss: 0.2490 - accuracy: 0.9504 - val_loss: 0.7318 - val_accuracy: 0.6421\n",
            "Epoch 83/100\n",
            "282/282 [==============================] - 0s 472us/step - loss: 0.2414 - accuracy: 0.9610 - val_loss: 0.7330 - val_accuracy: 0.6632\n",
            "Epoch 84/100\n",
            "282/282 [==============================] - 0s 450us/step - loss: 0.2446 - accuracy: 0.9539 - val_loss: 0.7282 - val_accuracy: 0.6316\n",
            "Epoch 85/100\n",
            "282/282 [==============================] - 0s 498us/step - loss: 0.2478 - accuracy: 0.9468 - val_loss: 0.7412 - val_accuracy: 0.6526\n",
            "Epoch 86/100\n",
            "282/282 [==============================] - 0s 460us/step - loss: 0.2416 - accuracy: 0.9574 - val_loss: 0.7409 - val_accuracy: 0.6526\n",
            "Epoch 87/100\n",
            "282/282 [==============================] - 0s 477us/step - loss: 0.2381 - accuracy: 0.9645 - val_loss: 0.7479 - val_accuracy: 0.6737\n",
            "Epoch 88/100\n",
            "282/282 [==============================] - 0s 467us/step - loss: 0.2448 - accuracy: 0.9326 - val_loss: 0.7288 - val_accuracy: 0.6632\n",
            "Epoch 89/100\n",
            "282/282 [==============================] - 0s 492us/step - loss: 0.2351 - accuracy: 0.9574 - val_loss: 0.7628 - val_accuracy: 0.6632\n",
            "Epoch 90/100\n",
            "282/282 [==============================] - 0s 458us/step - loss: 0.2395 - accuracy: 0.9610 - val_loss: 0.7369 - val_accuracy: 0.6421\n",
            "Epoch 91/100\n",
            "282/282 [==============================] - 0s 466us/step - loss: 0.2279 - accuracy: 0.9574 - val_loss: 0.7383 - val_accuracy: 0.6842\n",
            "Epoch 92/100\n",
            "282/282 [==============================] - 0s 451us/step - loss: 0.2344 - accuracy: 0.9610 - val_loss: 0.7551 - val_accuracy: 0.6737\n",
            "Epoch 93/100\n",
            "282/282 [==============================] - 0s 495us/step - loss: 0.2305 - accuracy: 0.9539 - val_loss: 0.7383 - val_accuracy: 0.6632\n",
            "Epoch 94/100\n",
            "282/282 [==============================] - 0s 466us/step - loss: 0.2225 - accuracy: 0.9504 - val_loss: 0.7340 - val_accuracy: 0.6632\n",
            "Epoch 95/100\n",
            "282/282 [==============================] - 0s 448us/step - loss: 0.2246 - accuracy: 0.9681 - val_loss: 0.7367 - val_accuracy: 0.6526\n",
            "Epoch 96/100\n",
            "282/282 [==============================] - 0s 446us/step - loss: 0.2201 - accuracy: 0.9681 - val_loss: 0.7405 - val_accuracy: 0.6526\n",
            "Epoch 97/100\n",
            "282/282 [==============================] - 0s 466us/step - loss: 0.2234 - accuracy: 0.9504 - val_loss: 0.7457 - val_accuracy: 0.6632\n",
            "Epoch 98/100\n",
            "282/282 [==============================] - 0s 460us/step - loss: 0.2156 - accuracy: 0.9610 - val_loss: 0.7356 - val_accuracy: 0.6526\n",
            "Epoch 99/100\n",
            "282/282 [==============================] - 0s 449us/step - loss: 0.2135 - accuracy: 0.9610 - val_loss: 0.7505 - val_accuracy: 0.6737\n",
            "Epoch 100/100\n",
            "282/282 [==============================] - 0s 471us/step - loss: 0.2177 - accuracy: 0.9645 - val_loss: 0.7332 - val_accuracy: 0.6632\n"
          ],
          "name": "stdout"
        }
      ]
    },
    {
      "cell_type": "code",
      "metadata": {
        "id": "-CARvsKZmafp",
        "colab_type": "code",
        "colab": {}
      },
      "source": [
        "### Read\n",
        "test_path = \"/content/drive/My Drive/2020/courses taken/AI -ML/daywise worklog/day49(20-07-2020)/AudioData/JK/a09.wav\""
      ],
      "execution_count": 137,
      "outputs": []
    },
    {
      "cell_type": "code",
      "metadata": {
        "id": "rROhoX6C0ru1",
        "colab_type": "code",
        "colab": {
          "base_uri": "https://localhost:8080/",
          "height": 924
        },
        "outputId": "8c7260ee-7c98-47ae-f1c0-be91c1f0718a"
      },
      "source": [
        "X, sample_rate = librosa.load(test_path, res_type='kaiser_fast',duration=2.5,sr=22050*2,offset=0.5)\n",
        "# shape of x is sr*duration\n",
        "sample_rate = np.array(sample_rate)\n",
        "mfccs = np.mean(librosa.feature.mfcc(y=X,sr=sample_rate,n_mfcc=13),axis=0)\n",
        "mfccs"
      ],
      "execution_count": 138,
      "outputs": [
        {
          "output_type": "execute_result",
          "data": {
            "text/plain": [
              "array([ 1.62411072e-01, -4.85493582e-01,  2.70025942e-01,  1.10022050e+00,\n",
              "        3.30421731e+00,  2.44054675e+00, -1.33177334e+00, -2.11240397e+00,\n",
              "       -2.52460048e+00, -3.54046423e+00, -2.89325909e+00, -3.57695482e+00,\n",
              "       -3.22369067e+00, -6.09003504e+00, -9.02253025e+00, -9.65386104e+00,\n",
              "       -1.16928809e+01, -1.22227337e+01, -1.22481141e+01, -1.17000389e+01,\n",
              "       -1.11057419e+01, -1.06824580e+01, -1.14395274e+01, -1.29920827e+01,\n",
              "       -1.09694122e+01, -9.46338637e+00, -5.05697140e+00, -4.32409900e+00,\n",
              "       -8.49821951e+00, -8.49386135e+00, -9.17855534e+00, -9.75737742e+00,\n",
              "       -9.70068688e+00, -7.79217319e+00, -7.97679177e+00, -6.94509526e+00,\n",
              "       -5.47205864e+00, -4.79037709e+00, -4.18806771e+00, -2.02562605e+00,\n",
              "       -1.46703509e+00, -1.38500981e-01,  5.91394024e-01,  1.11204307e+00,\n",
              "        5.74460340e-02, -1.13716797e+00, -4.24657144e+00, -4.23475932e+00,\n",
              "       -3.76589442e+00, -5.20056754e+00, -3.72877065e+00, -3.20844261e+00,\n",
              "       -3.80126373e+00, -6.67440848e+00, -8.68730319e+00, -7.39036906e+00,\n",
              "       -7.73976011e+00, -6.74833811e+00, -6.04262058e+00, -6.92403316e+00,\n",
              "       -5.84686509e+00, -5.58848442e+00, -6.10540430e+00, -7.36640718e+00,\n",
              "       -7.34444442e+00, -5.87867635e+00, -2.63959991e+00, -4.51130461e+00,\n",
              "       -2.11304700e+00,  1.99892882e-03, -9.86485333e-01, -3.05639950e+00,\n",
              "       -2.76599085e+00, -5.57459496e+00, -9.95478855e+00, -1.42836371e+01,\n",
              "       -1.63295884e+01, -1.57462610e+01, -1.87803277e+01, -1.86534835e+01,\n",
              "       -1.37765363e+01, -1.06947059e+01, -1.03699835e+01, -1.04812005e+01,\n",
              "       -5.47732364e+00, -2.88186802e+00, -3.72267645e+00, -8.35121416e+00,\n",
              "       -9.68507992e+00, -8.69447174e+00, -8.11672060e+00, -7.46279890e+00,\n",
              "       -8.25615898e+00, -9.55152924e+00, -9.89895975e+00, -6.77889180e+00,\n",
              "       -4.69162661e+00, -4.62732649e+00, -3.36169746e+00, -5.85020715e+00,\n",
              "       -8.97613267e+00, -9.82441341e+00, -8.73829575e+00, -9.44841145e+00,\n",
              "       -1.37609736e+01, -1.95367068e+01, -1.72567570e+01, -5.53258320e+00,\n",
              "       -6.53037563e-01, -1.27084715e+00, -2.91953742e+00, -1.90747219e+00,\n",
              "       -1.75810976e+00, -2.69159144e+00, -2.53673889e+00, -5.23271543e-01,\n",
              "        1.08867441e+00,  2.31434585e+00, -5.90133550e-01, -5.58960338e+00,\n",
              "       -1.07863707e+01, -1.40116247e+01, -1.58780391e+01, -1.87565910e+01,\n",
              "       -2.08868053e+01, -2.17171269e+01, -2.36218077e+01, -2.34150854e+01,\n",
              "       -2.39901555e+01, -2.71472307e+01, -2.23166710e+01, -1.59507515e+01,\n",
              "       -1.17210348e+01, -6.36218203e+00, -4.31934394e+00, -5.51832122e+00,\n",
              "       -8.25956225e+00, -8.46361104e+00, -8.96617566e+00, -8.45971042e+00,\n",
              "       -9.23569176e+00, -1.00622448e+01, -8.61854947e+00, -7.34737431e+00,\n",
              "       -5.99077372e+00, -4.70225336e+00, -4.19273225e+00, -3.76365646e+00,\n",
              "       -3.46082206e+00, -2.06667920e+00, -1.46442722e+00, -1.69825887e+00,\n",
              "       -1.10565126e+00, -7.97165016e-01, -5.47998406e-02,  6.59217529e-01,\n",
              "       -4.13045898e+00, -8.43762916e+00, -1.09114573e+01, -1.36122424e+01,\n",
              "       -1.05054892e+01, -4.55306275e+00, -4.06382300e+00, -4.48922781e+00,\n",
              "       -1.86420652e+00, -1.45638394e+00, -2.12621021e+00, -3.40867225e+00,\n",
              "       -3.70863031e+00, -5.09825529e+00, -8.36869920e+00, -1.22678630e+01,\n",
              "       -1.50056871e+01, -1.76430242e+01, -2.06287050e+01, -2.23183405e+01,\n",
              "       -2.32801084e+01, -2.32301626e+01, -1.09672366e+01, -1.34521754e+00,\n",
              "        1.43139768e+00, -1.27649735e+00, -4.20817911e+00, -3.94591183e+00,\n",
              "       -3.46992498e+00, -3.55541828e+00, -2.82104083e+00, -3.38446383e+00,\n",
              "       -3.41262702e+00, -6.05377826e+00, -7.87723768e+00, -1.06370263e+01,\n",
              "       -8.39533338e+00, -8.42284126e+00, -5.82695705e+00, -4.83377118e+00,\n",
              "       -4.91869306e+00, -1.92510832e+00, -1.75484796e+00, -1.90427577e+00,\n",
              "       -9.10290624e-01,  1.94499628e-01,  4.70578212e-01,  1.28569127e+00,\n",
              "        1.27317581e+00, -1.01695967e+00, -6.58651568e+00, -1.42971674e+01,\n",
              "       -1.56869890e+01, -1.72957719e+01, -1.71993689e+01, -7.76960696e+00,\n",
              "       -3.82010042e+00, -3.90029012e+00, -3.36069848e+00, -2.96518994e+00])"
            ]
          },
          "metadata": {
            "tags": []
          },
          "execution_count": 138
        }
      ]
    },
    {
      "cell_type": "code",
      "metadata": {
        "id": "3kPdbii41OG4",
        "colab_type": "code",
        "colab": {
          "base_uri": "https://localhost:8080/",
          "height": 34
        },
        "outputId": "4a24514e-5b5e-49d3-df0b-e1f1df2d81d0"
      },
      "source": [
        "mfccs.shape"
      ],
      "execution_count": 139,
      "outputs": [
        {
          "output_type": "execute_result",
          "data": {
            "text/plain": [
              "(216,)"
            ]
          },
          "metadata": {
            "tags": []
          },
          "execution_count": 139
        }
      ]
    },
    {
      "cell_type": "code",
      "metadata": {
        "id": "3eMqE0xs1YEV",
        "colab_type": "code",
        "colab": {
          "base_uri": "https://localhost:8080/",
          "height": 34
        },
        "outputId": "3651f72b-a6ce-4a15-d07a-853af4306f1e"
      },
      "source": [
        "## Knn prediction\n",
        "## input shape 2d Array(sample_size*216)\n",
        "#knn.predict(np.expand_dims(mfccs,0))\n",
        "knn.predict([mfccs.tolist()])"
      ],
      "execution_count": 143,
      "outputs": [
        {
          "output_type": "execute_result",
          "data": {
            "text/plain": [
              "array([3.])"
            ]
          },
          "metadata": {
            "tags": []
          },
          "execution_count": 143
        }
      ]
    },
    {
      "cell_type": "code",
      "metadata": {
        "id": "_8RZt4fA1cMt",
        "colab_type": "code",
        "colab": {
          "base_uri": "https://localhost:8080/",
          "height": 34
        },
        "outputId": "785a9770-1099-4bea-d677-ab1d42690c81"
      },
      "source": [
        "model_ann.predict(np.expand_dims(mfccs,0))"
      ],
      "execution_count": 144,
      "outputs": [
        {
          "output_type": "execute_result",
          "data": {
            "text/plain": [
              "array([[0.06892281, 0.13093866, 0.00715735, 0.79298115]], dtype=float32)"
            ]
          },
          "metadata": {
            "tags": []
          },
          "execution_count": 144
        }
      ]
    },
    {
      "cell_type": "code",
      "metadata": {
        "id": "AYhlJ9Ek2Hbl",
        "colab_type": "code",
        "colab": {
          "base_uri": "https://localhost:8080/",
          "height": 34
        },
        "outputId": "ff5018bd-f018-473f-f5c2-84766cbb283c"
      },
      "source": [
        "model_ann.predict_classes(np.expand_dims(mfccs,0))"
      ],
      "execution_count": 145,
      "outputs": [
        {
          "output_type": "execute_result",
          "data": {
            "text/plain": [
              "array([3])"
            ]
          },
          "metadata": {
            "tags": []
          },
          "execution_count": 145
        }
      ]
    },
    {
      "cell_type": "code",
      "metadata": {
        "id": "6pOEsI_V2PLd",
        "colab_type": "code",
        "colab": {
          "base_uri": "https://localhost:8080/",
          "height": 50
        },
        "outputId": "778c72ba-f4ef-472b-854f-50240b1cffff"
      },
      "source": [
        "model.predict(np.expand_dims(np.expand_dims(mfccs,axis=1),0))"
      ],
      "execution_count": 147,
      "outputs": [
        {
          "output_type": "execute_result",
          "data": {
            "text/plain": [
              "array([[1.5186578e-01, 7.6421291e-02, 1.5310200e-09, 7.7171290e-01]],\n",
              "      dtype=float32)"
            ]
          },
          "metadata": {
            "tags": []
          },
          "execution_count": 147
        }
      ]
    },
    {
      "cell_type": "code",
      "metadata": {
        "id": "DTqFrU1T2xPU",
        "colab_type": "code",
        "colab": {
          "base_uri": "https://localhost:8080/",
          "height": 34
        },
        "outputId": "8cd49373-62e6-4f0e-ecdc-01b53b436d2e"
      },
      "source": [
        "model.predict_classes(np.expand_dims(np.expand_dims(mfccs,axis=1),0))"
      ],
      "execution_count": 148,
      "outputs": [
        {
          "output_type": "execute_result",
          "data": {
            "text/plain": [
              "array([3])"
            ]
          },
          "metadata": {
            "tags": []
          },
          "execution_count": 148
        }
      ]
    },
    {
      "cell_type": "code",
      "metadata": {
        "id": "Gaw6avI-3Ep7",
        "colab_type": "code",
        "colab": {}
      },
      "source": [
        "label_map = {0:'JE',1:'DC',2:'KL',3:'JK'}\n",
        "#['JE', 'DC', 'KL', 'JK']"
      ],
      "execution_count": 149,
      "outputs": []
    },
    {
      "cell_type": "markdown",
      "metadata": {
        "id": "0ftH67sE5C5V",
        "colab_type": "text"
      },
      "source": [
        "### Outline\n",
        "- Data Format\n",
        "- Read the data\n",
        "- How many classes are there\n",
        "- Checking with a sampel\n",
        "- Converting the entire dataset(Add labels in the data)\n",
        "- label_map\n",
        "- Waveplot for randomsampples in each class\n",
        "- balnaced data or imablaned\n",
        "- barplot or count plot for the label\n",
        "- Choose the algorithms\n",
        "- Based on that preprocessing\n",
        "- Train those modles\n",
        "- check both trainig and tessting score(metric you have selected)\n",
        "- metrics visulaizatio\n",
        "- choose the best\n",
        "- Test with raw data"
      ]
    },
    {
      "cell_type": "code",
      "metadata": {
        "id": "WTfbwC2K5BeQ",
        "colab_type": "code",
        "colab": {}
      },
      "source": [
        ""
      ],
      "execution_count": null,
      "outputs": []
    }
  ]
}