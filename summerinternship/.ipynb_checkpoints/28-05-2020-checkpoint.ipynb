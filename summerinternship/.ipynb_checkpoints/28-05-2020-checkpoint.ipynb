{
 "cells": [
  {
   "cell_type": "code",
   "execution_count": 3,
   "metadata": {},
   "outputs": [
    {
     "name": "stdout",
     "output_type": "stream",
     "text": [
      "enter stringhi\n",
      "<class 'str'> <class 'str'>\n"
     ]
    }
   ],
   "source": [
    "s1 = input(\"enter string\")\n",
    "s2 = 'Good Afternoon'\n",
    "print(type(s1),type(s2))"
   ]
  },
  {
   "cell_type": "code",
   "execution_count": 7,
   "metadata": {},
   "outputs": [
    {
     "name": "stdout",
     "output_type": "stream",
     "text": [
      "hiGood Afternoon\n",
      "hihihi\n",
      " \n",
      "n\n",
      "od Afternoon\n"
     ]
    }
   ],
   "source": [
    "# operators : +\n",
    "print(s1 + s2) #concatenation\n",
    "print(s1 * 3)#repeatation\n",
    "print(s2[4])#slicing\n",
    "print(s2[-1])#slicing\n",
    "print(s2[2:])#start=0,stop=length of string,step=1\n"
   ]
  },
  {
   "cell_type": "code",
   "execution_count": 8,
   "metadata": {},
   "outputs": [
    {
     "name": "stdout",
     "output_type": "stream",
     "text": [
      "Good Afternoon\n",
      "Good Afternoon\n"
     ]
    }
   ],
   "source": [
    "print(s2[0:14])\n",
    "print(s2[:])"
   ]
  },
  {
   "cell_type": "code",
   "execution_count": 14,
   "metadata": {},
   "outputs": [
    {
     "name": "stdout",
     "output_type": "stream",
     "text": [
      "Go feno\n"
     ]
    }
   ],
   "source": [
    "#alternate characters of string\n",
    "print(s2[::2])"
   ]
  },
  {
   "cell_type": "code",
   "execution_count": 16,
   "metadata": {},
   "outputs": [
    {
     "name": "stdout",
     "output_type": "stream",
     "text": [
      "enter stringmadam\n",
      "palindrome\n"
     ]
    }
   ],
   "source": [
    "#string palindrome\n",
    "s3=input(\"enter string\")\n",
    "if s3 == s3[::-1]:\n",
    "    print(\"palindrome\")\n",
    "else:\n",
    "    print(\"not palindrome\")\n"
   ]
  },
  {
   "cell_type": "code",
   "execution_count": 19,
   "metadata": {},
   "outputs": [
    {
     "name": "stdout",
     "output_type": "stream",
     "text": [
      "enter number121\n",
      "palindrome\n"
     ]
    }
   ],
   "source": [
    "#integer palindrome\n",
    "n=int(input(\"enter number\"))\n",
    "if str(n) == str(n)[::-1]:\n",
    "    print(\"palindrome\")\n",
    "else:\n",
    "    print(\"not palindrome\")"
   ]
  },
  {
   "cell_type": "code",
   "execution_count": 20,
   "metadata": {},
   "outputs": [
    {
     "name": "stdout",
     "output_type": "stream",
     "text": [
      "True\n",
      "False\n",
      "False\n",
      "True\n"
     ]
    }
   ],
   "source": [
    "s4 = \"python\"\n",
    "print(\"on\" in s4)\n",
    "print(\"xyz\" in s4)\n",
    "print(\"on\" not in s4)\n",
    "print(\"xyz\" not in s4)"
   ]
  },
  {
   "cell_type": "markdown",
   "metadata": {},
   "source": [
    "## built-in functions:\n",
    "1. len()\n",
    "2. max()\n",
    "3. min()\n",
    "4. str()"
   ]
  },
  {
   "cell_type": "code",
   "execution_count": 22,
   "metadata": {},
   "outputs": [
    {
     "name": "stdout",
     "output_type": "stream",
     "text": [
      "5\n",
      "o\n",
      "e\n",
      "c\n",
      "1\n"
     ]
    }
   ],
   "source": [
    "s = \"hello\"\n",
    "s1 = \"abc123\"\n",
    "print(len(s))\n",
    "print(max(s))\n",
    "print(min(s))\n",
    "print(max(s1))\n",
    "print(min(s1))"
   ]
  },
  {
   "cell_type": "code",
   "execution_count": 23,
   "metadata": {},
   "outputs": [
    {
     "data": {
      "text/plain": [
       "97"
      ]
     },
     "execution_count": 23,
     "metadata": {},
     "output_type": "execute_result"
    }
   ],
   "source": [
    "ord('a')"
   ]
  },
  {
   "cell_type": "code",
   "execution_count": 24,
   "metadata": {},
   "outputs": [
    {
     "data": {
      "text/plain": [
       "'a'"
      ]
     },
     "execution_count": 24,
     "metadata": {},
     "output_type": "execute_result"
    }
   ],
   "source": [
    "chr(97)"
   ]
  },
  {
   "cell_type": "markdown",
   "metadata": {},
   "source": [
    "### built-in methods:\n",
    "1. capitalize()\n",
    "2. isalpha()\n",
    "3. isdigit()\n",
    "4. isalnum()\n",
    "5. isupper()\n",
    "6. islower()\n",
    "7. upper()\n",
    "8. lower()\n",
    "9. swapcase()"
   ]
  },
  {
   "cell_type": "code",
   "execution_count": 28,
   "metadata": {},
   "outputs": [
    {
     "name": "stdout",
     "output_type": "stream",
     "text": [
      "5\n",
      "Hello\n"
     ]
    }
   ],
   "source": [
    "s = \"hello\"\n",
    "print(len(s))#function name(object name)\n",
    "s = s.capitalize()#objectname.methodname()\n",
    "print(s)"
   ]
  },
  {
   "cell_type": "code",
   "execution_count": 30,
   "metadata": {},
   "outputs": [
    {
     "name": "stdout",
     "output_type": "stream",
     "text": [
      "True\n",
      "False\n",
      "True\n",
      "False\n",
      "False\n",
      "True\n",
      "False\n",
      "True\n",
      "True\n"
     ]
    }
   ],
   "source": [
    "s1 = \"hello\"\n",
    "s2 = \"abc123\"\n",
    "s3 = \"123\"\n",
    "print(s1.isalpha())\n",
    "print(s1.isdigit())\n",
    "print(s1.isalnum())\n",
    "print(s2.isalpha())\n",
    "print(s2.isdigit())\n",
    "print(s2.isalnum())\n",
    "print(s3.isalpha())\n",
    "print(s3.isdigit())\n",
    "print(s3.isalnum())"
   ]
  },
  {
   "cell_type": "code",
   "execution_count": 34,
   "metadata": {},
   "outputs": [
    {
     "name": "stdout",
     "output_type": "stream",
     "text": [
      "False\n",
      "True\n",
      "True\n",
      "False\n",
      "PYTHON\n",
      "python\n",
      "PYTHON\n"
     ]
    }
   ],
   "source": [
    "s1 = \"python\"\n",
    "s2 = \"PYTHON\"\n",
    "print(s1.isupper())\n",
    "print(s2.isupper())\n",
    "print(s1.islower())\n",
    "print(s2.islower())\n",
    "print(s1.upper())\n",
    "print(s2.lower())\n",
    "print(s1.swapcase())"
   ]
  },
  {
   "cell_type": "code",
   "execution_count": 35,
   "metadata": {},
   "outputs": [
    {
     "data": {
      "text/plain": [
       "3"
      ]
     },
     "execution_count": 35,
     "metadata": {},
     "output_type": "execute_result"
    }
   ],
   "source": [
    "s = \"abc abc abc\"\n",
    "s.count(\"abc\")"
   ]
  },
  {
   "cell_type": "code",
   "execution_count": 37,
   "metadata": {},
   "outputs": [
    {
     "name": "stdout",
     "output_type": "stream",
     "text": [
      "['abc', 'abc', 'abc']\n",
      "['a', 'b', 'c', 'd']\n"
     ]
    }
   ],
   "source": [
    "#split-->return type is list\n",
    "print(s.split())\n",
    "s1 = \"a,b,c,d\"\n",
    "print(s1.split(\",\"))"
   ]
  },
  {
   "cell_type": "code",
   "execution_count": 41,
   "metadata": {},
   "outputs": [
    {
     "name": "stdout",
     "output_type": "stream",
     "text": [
      "azzc\n"
     ]
    }
   ],
   "source": [
    "#replace --> replaces old character with new character\n",
    "s = \"abbc\"\n",
    "s =s.replace('b','z')\n",
    "print(s)\n"
   ]
  },
  {
   "cell_type": "code",
   "execution_count": 45,
   "metadata": {},
   "outputs": [
    {
     "name": "stdout",
     "output_type": "stream",
     "text": [
      "enter n value3\n",
      "enter stringhello\n",
      "helo\n"
     ]
    }
   ],
   "source": [
    "#accept a number and remove nth position character from string\n",
    "n=int(input(\"enter n value\"))\n",
    "s = input(\"enter string\")\n",
    "print(s.replace(s[n-1],\"\",1))"
   ]
  },
  {
   "cell_type": "markdown",
   "metadata": {},
   "source": [
    "## for loop:\n",
    "1. with range()\n",
    "2. with iterable object"
   ]
  },
  {
   "cell_type": "code",
   "execution_count": 47,
   "metadata": {},
   "outputs": [
    {
     "name": "stdout",
     "output_type": "stream",
     "text": [
      "1 2 3 4 5 6 7 8 9 10 \n",
      "1 2 3 4 5 6 7 8 9 10 "
     ]
    }
   ],
   "source": [
    "# print 1-n numbers on screen\n",
    "n=10\n",
    "for i in range(1,n+1):\n",
    "    print(i,end=\" \")\n",
    "    \n",
    "    \n",
    "print()\n",
    "\n",
    "i=1\n",
    "while i<=n:\n",
    "    print(i,end=\" \")\n",
    "    i += 1"
   ]
  },
  {
   "cell_type": "code",
   "execution_count": 4,
   "metadata": {},
   "outputs": [
    {
     "name": "stdout",
     "output_type": "stream",
     "text": [
      "p\n",
      "y\n",
      "t\n",
      "h\n",
      "o\n",
      "n\n",
      "p\n",
      "y\n",
      "t\n",
      "h\n",
      "o\n",
      "n\n",
      "p\n",
      "y\n",
      "t\n",
      "h\n",
      "o\n",
      "n\n"
     ]
    }
   ],
   "source": [
    "s = \"python\"\n",
    "for i in s:\n",
    "    print(i)\n",
    "    \n",
    "#using while loop print all characters of your string vertically\n",
    "i=0\n",
    "while i<len(s):\n",
    "    print(s[i])\n",
    "    i += 1\n",
    "    \n",
    "#using for loop but you should not use iterable object \n",
    "for j in range(0,len(s)):\n",
    "    print(s[j])"
   ]
  },
  {
   "cell_type": "code",
   "execution_count": null,
   "metadata": {},
   "outputs": [],
   "source": []
  },
  {
   "cell_type": "code",
   "execution_count": null,
   "metadata": {},
   "outputs": [],
   "source": []
  }
 ],
 "metadata": {
  "kernelspec": {
   "display_name": "Python 3",
   "language": "python",
   "name": "python3"
  },
  "language_info": {
   "codemirror_mode": {
    "name": "ipython",
    "version": 3
   },
   "file_extension": ".py",
   "mimetype": "text/x-python",
   "name": "python",
   "nbconvert_exporter": "python",
   "pygments_lexer": "ipython3",
   "version": "3.7.4"
  }
 },
 "nbformat": 4,
 "nbformat_minor": 2
}
