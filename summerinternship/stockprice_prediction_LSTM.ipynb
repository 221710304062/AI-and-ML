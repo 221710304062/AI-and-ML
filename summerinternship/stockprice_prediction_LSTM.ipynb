{
  "nbformat": 4,
  "nbformat_minor": 0,
  "metadata": {
    "colab": {
      "name": "stockprice prediction-LSTM",
      "provenance": [],
      "collapsed_sections": []
    },
    "kernelspec": {
      "name": "python3",
      "display_name": "Python 3"
    },
    "accelerator": "GPU"
  },
  "cells": [
    {
      "cell_type": "code",
      "metadata": {
        "id": "KG6xBoC66gJ9",
        "colab_type": "code",
        "colab": {
          "base_uri": "https://localhost:8080/",
          "height": 138
        },
        "outputId": "77ef8a64-0ebc-49e7-f340-b2e656177af7"
      },
      "source": [
        "from google.colab import drive\n",
        "drive.mount('/gdrive')\n",
        "%cd /gdrive"
      ],
      "execution_count": 1,
      "outputs": [
        {
          "output_type": "stream",
          "text": [
            "Go to this URL in a browser: https://accounts.google.com/o/oauth2/auth?client_id=947318989803-6bn6qk8qdgf4n4g3pfee6491hc0brc4i.apps.googleusercontent.com&redirect_uri=urn%3aietf%3awg%3aoauth%3a2.0%3aoob&response_type=code&scope=email%20https%3a%2f%2fwww.googleapis.com%2fauth%2fdocs.test%20https%3a%2f%2fwww.googleapis.com%2fauth%2fdrive%20https%3a%2f%2fwww.googleapis.com%2fauth%2fdrive.photos.readonly%20https%3a%2f%2fwww.googleapis.com%2fauth%2fpeopleapi.readonly\n",
            "\n",
            "Enter your authorization code:\n",
            "··········\n",
            "Mounted at /gdrive\n",
            "/gdrive\n"
          ],
          "name": "stdout"
        }
      ]
    },
    {
      "cell_type": "code",
      "metadata": {
        "id": "zM0I2zmp8G0G",
        "colab_type": "code",
        "colab": {
          "base_uri": "https://localhost:8080/",
          "height": 54
        },
        "outputId": "3c393490-fe65-4189-ab64-f4b454793cfc"
      },
      "source": [
        "!ls '/content/drive/My Drive/2020/courses taken/AI -ML/daywise worklog/day46(16-07-2020)/all_stocks_5yr (1).csv'"
      ],
      "execution_count": 8,
      "outputs": [
        {
          "output_type": "stream",
          "text": [
            "'/content/drive/My Drive/2020/courses taken/AI -ML/daywise worklog/day46(16-07-2020)/all_stocks_5yr (1).csv'\n"
          ],
          "name": "stdout"
        }
      ]
    },
    {
      "cell_type": "code",
      "metadata": {
        "id": "ITNR9_viBNKp",
        "colab_type": "code",
        "colab": {
          "base_uri": "https://localhost:8080/",
          "height": 34
        },
        "outputId": "48829b14-d9d6-4026-a97d-3e08850ed56d"
      },
      "source": [
        "# all_stocks_5yr.csv\n",
        "import pandas as pd\n",
        "data = pd.read_csv('/content/drive/My Drive/2020/courses taken/AI -ML/daywise worklog/day46(16-07-2020)/all_stocks_5yr (1).csv')\n",
        "data.shape"
      ],
      "execution_count": 9,
      "outputs": [
        {
          "output_type": "execute_result",
          "data": {
            "text/plain": [
              "(619040, 7)"
            ]
          },
          "metadata": {
            "tags": []
          },
          "execution_count": 9
        }
      ]
    },
    {
      "cell_type": "code",
      "metadata": {
        "id": "0u7AVmjg8XXb",
        "colab_type": "code",
        "colab": {
          "base_uri": "https://localhost:8080/",
          "height": 195
        },
        "outputId": "d6d2e035-3ee4-44e8-9780-0e5cace33562"
      },
      "source": [
        "# Top Five rows\n",
        "data.head()"
      ],
      "execution_count": 10,
      "outputs": [
        {
          "output_type": "execute_result",
          "data": {
            "text/html": [
              "<div>\n",
              "<style scoped>\n",
              "    .dataframe tbody tr th:only-of-type {\n",
              "        vertical-align: middle;\n",
              "    }\n",
              "\n",
              "    .dataframe tbody tr th {\n",
              "        vertical-align: top;\n",
              "    }\n",
              "\n",
              "    .dataframe thead th {\n",
              "        text-align: right;\n",
              "    }\n",
              "</style>\n",
              "<table border=\"1\" class=\"dataframe\">\n",
              "  <thead>\n",
              "    <tr style=\"text-align: right;\">\n",
              "      <th></th>\n",
              "      <th>date</th>\n",
              "      <th>open</th>\n",
              "      <th>high</th>\n",
              "      <th>low</th>\n",
              "      <th>close</th>\n",
              "      <th>volume</th>\n",
              "      <th>Name</th>\n",
              "    </tr>\n",
              "  </thead>\n",
              "  <tbody>\n",
              "    <tr>\n",
              "      <th>0</th>\n",
              "      <td>2013-02-08</td>\n",
              "      <td>15.07</td>\n",
              "      <td>15.12</td>\n",
              "      <td>14.63</td>\n",
              "      <td>14.75</td>\n",
              "      <td>8407500</td>\n",
              "      <td>AAL</td>\n",
              "    </tr>\n",
              "    <tr>\n",
              "      <th>1</th>\n",
              "      <td>2013-02-11</td>\n",
              "      <td>14.89</td>\n",
              "      <td>15.01</td>\n",
              "      <td>14.26</td>\n",
              "      <td>14.46</td>\n",
              "      <td>8882000</td>\n",
              "      <td>AAL</td>\n",
              "    </tr>\n",
              "    <tr>\n",
              "      <th>2</th>\n",
              "      <td>2013-02-12</td>\n",
              "      <td>14.45</td>\n",
              "      <td>14.51</td>\n",
              "      <td>14.10</td>\n",
              "      <td>14.27</td>\n",
              "      <td>8126000</td>\n",
              "      <td>AAL</td>\n",
              "    </tr>\n",
              "    <tr>\n",
              "      <th>3</th>\n",
              "      <td>2013-02-13</td>\n",
              "      <td>14.30</td>\n",
              "      <td>14.94</td>\n",
              "      <td>14.25</td>\n",
              "      <td>14.66</td>\n",
              "      <td>10259500</td>\n",
              "      <td>AAL</td>\n",
              "    </tr>\n",
              "    <tr>\n",
              "      <th>4</th>\n",
              "      <td>2013-02-14</td>\n",
              "      <td>14.94</td>\n",
              "      <td>14.96</td>\n",
              "      <td>13.16</td>\n",
              "      <td>13.99</td>\n",
              "      <td>31879900</td>\n",
              "      <td>AAL</td>\n",
              "    </tr>\n",
              "  </tbody>\n",
              "</table>\n",
              "</div>"
            ],
            "text/plain": [
              "         date   open   high    low  close    volume Name\n",
              "0  2013-02-08  15.07  15.12  14.63  14.75   8407500  AAL\n",
              "1  2013-02-11  14.89  15.01  14.26  14.46   8882000  AAL\n",
              "2  2013-02-12  14.45  14.51  14.10  14.27   8126000  AAL\n",
              "3  2013-02-13  14.30  14.94  14.25  14.66  10259500  AAL\n",
              "4  2013-02-14  14.94  14.96  13.16  13.99  31879900  AAL"
            ]
          },
          "metadata": {
            "tags": []
          },
          "execution_count": 10
        }
      ]
    },
    {
      "cell_type": "code",
      "metadata": {
        "id": "mLL1tZ0-L4L_",
        "colab_type": "code",
        "colab": {
          "base_uri": "https://localhost:8080/",
          "height": 34
        },
        "outputId": "10637ed0-4946-42c4-f269-114010f31959"
      },
      "source": [
        "data.columns"
      ],
      "execution_count": 11,
      "outputs": [
        {
          "output_type": "execute_result",
          "data": {
            "text/plain": [
              "Index(['date', 'open', 'high', 'low', 'close', 'volume', 'Name'], dtype='object')"
            ]
          },
          "metadata": {
            "tags": []
          },
          "execution_count": 11
        }
      ]
    },
    {
      "cell_type": "code",
      "metadata": {
        "id": "B-2N-UPvL8zK",
        "colab_type": "code",
        "colab": {
          "base_uri": "https://localhost:8080/",
          "height": 34
        },
        "outputId": "14a4ef24-08dd-428f-881d-d44483758dde"
      },
      "source": [
        "### How many company's data we have here?\n",
        "data.Name.nunique()"
      ],
      "execution_count": 12,
      "outputs": [
        {
          "output_type": "execute_result",
          "data": {
            "text/plain": [
              "505"
            ]
          },
          "metadata": {
            "tags": []
          },
          "execution_count": 12
        }
      ]
    },
    {
      "cell_type": "code",
      "metadata": {
        "id": "l2pTlymDMAOD",
        "colab_type": "code",
        "colab": {
          "base_uri": "https://localhost:8080/",
          "height": 34
        },
        "outputId": "d540be2a-184e-499b-a9c8-321a861a7e4a"
      },
      "source": [
        "## Selecting the data AAL\n",
        "df = data[data['Name']=='AAL']\n",
        "df.shape"
      ],
      "execution_count": 13,
      "outputs": [
        {
          "output_type": "execute_result",
          "data": {
            "text/plain": [
              "(1259, 7)"
            ]
          },
          "metadata": {
            "tags": []
          },
          "execution_count": 13
        }
      ]
    },
    {
      "cell_type": "code",
      "metadata": {
        "id": "VFDeesDSMDN8",
        "colab_type": "code",
        "colab": {
          "base_uri": "https://localhost:8080/",
          "height": 34
        },
        "outputId": "84687e45-a4fa-45eb-c5db-7a7a37b13e4e"
      },
      "source": [
        "df.columns"
      ],
      "execution_count": 14,
      "outputs": [
        {
          "output_type": "execute_result",
          "data": {
            "text/plain": [
              "Index(['date', 'open', 'high', 'low', 'close', 'volume', 'Name'], dtype='object')"
            ]
          },
          "metadata": {
            "tags": []
          },
          "execution_count": 14
        }
      ]
    },
    {
      "cell_type": "code",
      "metadata": {
        "id": "ZKjUUCKPMJM1",
        "colab_type": "code",
        "colab": {
          "base_uri": "https://localhost:8080/",
          "height": 402
        },
        "outputId": "7a48ede3-d533-41cb-c40e-452b78ca3b43"
      },
      "source": [
        "#select the columns date and close price\n",
        "df = df[['date','close']]\n",
        "df"
      ],
      "execution_count": 15,
      "outputs": [
        {
          "output_type": "execute_result",
          "data": {
            "text/html": [
              "<div>\n",
              "<style scoped>\n",
              "    .dataframe tbody tr th:only-of-type {\n",
              "        vertical-align: middle;\n",
              "    }\n",
              "\n",
              "    .dataframe tbody tr th {\n",
              "        vertical-align: top;\n",
              "    }\n",
              "\n",
              "    .dataframe thead th {\n",
              "        text-align: right;\n",
              "    }\n",
              "</style>\n",
              "<table border=\"1\" class=\"dataframe\">\n",
              "  <thead>\n",
              "    <tr style=\"text-align: right;\">\n",
              "      <th></th>\n",
              "      <th>date</th>\n",
              "      <th>close</th>\n",
              "    </tr>\n",
              "  </thead>\n",
              "  <tbody>\n",
              "    <tr>\n",
              "      <th>0</th>\n",
              "      <td>2013-02-08</td>\n",
              "      <td>14.75</td>\n",
              "    </tr>\n",
              "    <tr>\n",
              "      <th>1</th>\n",
              "      <td>2013-02-11</td>\n",
              "      <td>14.46</td>\n",
              "    </tr>\n",
              "    <tr>\n",
              "      <th>2</th>\n",
              "      <td>2013-02-12</td>\n",
              "      <td>14.27</td>\n",
              "    </tr>\n",
              "    <tr>\n",
              "      <th>3</th>\n",
              "      <td>2013-02-13</td>\n",
              "      <td>14.66</td>\n",
              "    </tr>\n",
              "    <tr>\n",
              "      <th>4</th>\n",
              "      <td>2013-02-14</td>\n",
              "      <td>13.99</td>\n",
              "    </tr>\n",
              "    <tr>\n",
              "      <th>...</th>\n",
              "      <td>...</td>\n",
              "      <td>...</td>\n",
              "    </tr>\n",
              "    <tr>\n",
              "      <th>1254</th>\n",
              "      <td>2018-02-01</td>\n",
              "      <td>53.88</td>\n",
              "    </tr>\n",
              "    <tr>\n",
              "      <th>1255</th>\n",
              "      <td>2018-02-02</td>\n",
              "      <td>52.10</td>\n",
              "    </tr>\n",
              "    <tr>\n",
              "      <th>1256</th>\n",
              "      <td>2018-02-05</td>\n",
              "      <td>49.76</td>\n",
              "    </tr>\n",
              "    <tr>\n",
              "      <th>1257</th>\n",
              "      <td>2018-02-06</td>\n",
              "      <td>51.18</td>\n",
              "    </tr>\n",
              "    <tr>\n",
              "      <th>1258</th>\n",
              "      <td>2018-02-07</td>\n",
              "      <td>51.40</td>\n",
              "    </tr>\n",
              "  </tbody>\n",
              "</table>\n",
              "<p>1259 rows × 2 columns</p>\n",
              "</div>"
            ],
            "text/plain": [
              "            date  close\n",
              "0     2013-02-08  14.75\n",
              "1     2013-02-11  14.46\n",
              "2     2013-02-12  14.27\n",
              "3     2013-02-13  14.66\n",
              "4     2013-02-14  13.99\n",
              "...          ...    ...\n",
              "1254  2018-02-01  53.88\n",
              "1255  2018-02-02  52.10\n",
              "1256  2018-02-05  49.76\n",
              "1257  2018-02-06  51.18\n",
              "1258  2018-02-07  51.40\n",
              "\n",
              "[1259 rows x 2 columns]"
            ]
          },
          "metadata": {
            "tags": []
          },
          "execution_count": 15
        }
      ]
    },
    {
      "cell_type": "code",
      "metadata": {
        "id": "FEN26567MPEX",
        "colab_type": "code",
        "colab": {
          "base_uri": "https://localhost:8080/",
          "height": 283
        },
        "outputId": "b894a0f6-dbd5-48fe-dd1f-29edb9ebe00f"
      },
      "source": [
        "# Line plot\n",
        "import matplotlib.pyplot as plt\n",
        "plt.plot(df['date'],df['close'])"
      ],
      "execution_count": 16,
      "outputs": [
        {
          "output_type": "execute_result",
          "data": {
            "text/plain": [
              "[<matplotlib.lines.Line2D at 0x7f04be74bfd0>]"
            ]
          },
          "metadata": {
            "tags": []
          },
          "execution_count": 16
        },
        {
          "output_type": "display_data",
          "data": {
            "image/png": "[encoded data removed]",
            "text/plain": [
              "<Figure size 432x288 with 1 Axes>"
            ]
          },
          "metadata": {
            "tags": [],
            "needs_background": "light"
          }
        }
      ]
    },
    {
      "cell_type": "code",
      "metadata": {
        "id": "--dIYZDHMR4n",
        "colab_type": "code",
        "colab": {
          "base_uri": "https://localhost:8080/",
          "height": 202
        },
        "outputId": "b3ec089f-b74f-4807-f7d0-e9b52a7bd1de"
      },
      "source": [
        "df.date[:10]"
      ],
      "execution_count": 17,
      "outputs": [
        {
          "output_type": "execute_result",
          "data": {
            "text/plain": [
              "0    2013-02-08\n",
              "1    2013-02-11\n",
              "2    2013-02-12\n",
              "3    2013-02-13\n",
              "4    2013-02-14\n",
              "5    2013-02-15\n",
              "6    2013-02-19\n",
              "7    2013-02-20\n",
              "8    2013-02-21\n",
              "9    2013-02-22\n",
              "Name: date, dtype: object"
            ]
          },
          "metadata": {
            "tags": []
          },
          "execution_count": 17
        }
      ]
    },
    {
      "cell_type": "code",
      "metadata": {
        "id": "R1qW1GQTMWm3",
        "colab_type": "code",
        "colab": {
          "base_uri": "https://localhost:8080/",
          "height": 67
        },
        "outputId": "384777a8-8f1a-4cf2-d9f5-ccf3603706df"
      },
      "source": [
        "### Missing values in the data\n",
        "df.isnull().sum()"
      ],
      "execution_count": 18,
      "outputs": [
        {
          "output_type": "execute_result",
          "data": {
            "text/plain": [
              "date     0\n",
              "close    0\n",
              "dtype: int64"
            ]
          },
          "metadata": {
            "tags": []
          },
          "execution_count": 18
        }
      ]
    },
    {
      "cell_type": "code",
      "metadata": {
        "id": "kIM1wj04MZmm",
        "colab_type": "code",
        "colab": {
          "base_uri": "https://localhost:8080/",
          "height": 269
        },
        "outputId": "369ca29a-afd1-4289-9001-3d721ce8002e"
      },
      "source": [
        "# Preparing the data\n",
        "## Features and target\n",
        "## Input and output\n",
        "## last 7 days data as input\n",
        "## X -- [[d1-d7],[d9,d15],[d17,23]....]\n",
        "## y -- [d8,d16,d24,...]\n",
        "\n",
        "## X = [[d1-d7],[d2-d8],]\n",
        "## y = [d8,d9]\n",
        "X = [] ## input\n",
        "y = [] ## ouput\n",
        "for i  in range(df.shape[0]-7-1):   \n",
        "  X.append(df['close'][i:i+7])# 0 -->[0:7], 1-->[1:8]\n",
        "  y.append(df['close'][i+7])# 7,8,9\n",
        "print(X[:2])\n"
      ],
      "execution_count": 20,
      "outputs": [
        {
          "output_type": "stream",
          "text": [
            "[0    14.75\n",
            "1    14.46\n",
            "2    14.27\n",
            "3    14.66\n",
            "4    13.99\n",
            "5    14.50\n",
            "6    14.26\n",
            "Name: close, dtype: float64, 1    14.46\n",
            "2    14.27\n",
            "3    14.66\n",
            "4    13.99\n",
            "5    14.50\n",
            "6    14.26\n",
            "7    13.33\n",
            "Name: close, dtype: float64]\n"
          ],
          "name": "stdout"
        }
      ]
    },
    {
      "cell_type": "code",
      "metadata": {
        "id": "IBsKz-yUMcTg",
        "colab_type": "code",
        "colab": {}
      },
      "source": [
        "import numpy as np\n",
        "X = np.array(X)"
      ],
      "execution_count": 21,
      "outputs": []
    },
    {
      "cell_type": "code",
      "metadata": {
        "id": "OapnY85qQozJ",
        "colab_type": "code",
        "colab": {
          "base_uri": "https://localhost:8080/",
          "height": 195
        },
        "outputId": "aebfd8b9-9922-47f1-aa09-1cdd8927aeb2"
      },
      "source": [
        "df1  = pd.DataFrame(X,columns=['d1','d2','d3','d4','d5','d6','d7'])\n",
        "df1.head()"
      ],
      "execution_count": 22,
      "outputs": [
        {
          "output_type": "execute_result",
          "data": {
            "text/html": [
              "<div>\n",
              "<style scoped>\n",
              "    .dataframe tbody tr th:only-of-type {\n",
              "        vertical-align: middle;\n",
              "    }\n",
              "\n",
              "    .dataframe tbody tr th {\n",
              "        vertical-align: top;\n",
              "    }\n",
              "\n",
              "    .dataframe thead th {\n",
              "        text-align: right;\n",
              "    }\n",
              "</style>\n",
              "<table border=\"1\" class=\"dataframe\">\n",
              "  <thead>\n",
              "    <tr style=\"text-align: right;\">\n",
              "      <th></th>\n",
              "      <th>d1</th>\n",
              "      <th>d2</th>\n",
              "      <th>d3</th>\n",
              "      <th>d4</th>\n",
              "      <th>d5</th>\n",
              "      <th>d6</th>\n",
              "      <th>d7</th>\n",
              "    </tr>\n",
              "  </thead>\n",
              "  <tbody>\n",
              "    <tr>\n",
              "      <th>0</th>\n",
              "      <td>14.75</td>\n",
              "      <td>14.46</td>\n",
              "      <td>14.27</td>\n",
              "      <td>14.66</td>\n",
              "      <td>13.99</td>\n",
              "      <td>14.50</td>\n",
              "      <td>14.26</td>\n",
              "    </tr>\n",
              "    <tr>\n",
              "      <th>1</th>\n",
              "      <td>14.46</td>\n",
              "      <td>14.27</td>\n",
              "      <td>14.66</td>\n",
              "      <td>13.99</td>\n",
              "      <td>14.50</td>\n",
              "      <td>14.26</td>\n",
              "      <td>13.33</td>\n",
              "    </tr>\n",
              "    <tr>\n",
              "      <th>2</th>\n",
              "      <td>14.27</td>\n",
              "      <td>14.66</td>\n",
              "      <td>13.99</td>\n",
              "      <td>14.50</td>\n",
              "      <td>14.26</td>\n",
              "      <td>13.33</td>\n",
              "      <td>13.37</td>\n",
              "    </tr>\n",
              "    <tr>\n",
              "      <th>3</th>\n",
              "      <td>14.66</td>\n",
              "      <td>13.99</td>\n",
              "      <td>14.50</td>\n",
              "      <td>14.26</td>\n",
              "      <td>13.33</td>\n",
              "      <td>13.37</td>\n",
              "      <td>13.57</td>\n",
              "    </tr>\n",
              "    <tr>\n",
              "      <th>4</th>\n",
              "      <td>13.99</td>\n",
              "      <td>14.50</td>\n",
              "      <td>14.26</td>\n",
              "      <td>13.33</td>\n",
              "      <td>13.37</td>\n",
              "      <td>13.57</td>\n",
              "      <td>13.02</td>\n",
              "    </tr>\n",
              "  </tbody>\n",
              "</table>\n",
              "</div>"
            ],
            "text/plain": [
              "      d1     d2     d3     d4     d5     d6     d7\n",
              "0  14.75  14.46  14.27  14.66  13.99  14.50  14.26\n",
              "1  14.46  14.27  14.66  13.99  14.50  14.26  13.33\n",
              "2  14.27  14.66  13.99  14.50  14.26  13.33  13.37\n",
              "3  14.66  13.99  14.50  14.26  13.33  13.37  13.57\n",
              "4  13.99  14.50  14.26  13.33  13.37  13.57  13.02"
            ]
          },
          "metadata": {
            "tags": []
          },
          "execution_count": 22
        }
      ]
    },
    {
      "cell_type": "code",
      "metadata": {
        "id": "_u-f0pX8QrsT",
        "colab_type": "code",
        "colab": {
          "base_uri": "https://localhost:8080/",
          "height": 195
        },
        "outputId": "c06b414c-a443-4593-f704-83f71cd9151c"
      },
      "source": [
        "df1['d8'] = y\n",
        "df1.head()"
      ],
      "execution_count": 23,
      "outputs": [
        {
          "output_type": "execute_result",
          "data": {
            "text/html": [
              "<div>\n",
              "<style scoped>\n",
              "    .dataframe tbody tr th:only-of-type {\n",
              "        vertical-align: middle;\n",
              "    }\n",
              "\n",
              "    .dataframe tbody tr th {\n",
              "        vertical-align: top;\n",
              "    }\n",
              "\n",
              "    .dataframe thead th {\n",
              "        text-align: right;\n",
              "    }\n",
              "</style>\n",
              "<table border=\"1\" class=\"dataframe\">\n",
              "  <thead>\n",
              "    <tr style=\"text-align: right;\">\n",
              "      <th></th>\n",
              "      <th>d1</th>\n",
              "      <th>d2</th>\n",
              "      <th>d3</th>\n",
              "      <th>d4</th>\n",
              "      <th>d5</th>\n",
              "      <th>d6</th>\n",
              "      <th>d7</th>\n",
              "      <th>d8</th>\n",
              "    </tr>\n",
              "  </thead>\n",
              "  <tbody>\n",
              "    <tr>\n",
              "      <th>0</th>\n",
              "      <td>14.75</td>\n",
              "      <td>14.46</td>\n",
              "      <td>14.27</td>\n",
              "      <td>14.66</td>\n",
              "      <td>13.99</td>\n",
              "      <td>14.50</td>\n",
              "      <td>14.26</td>\n",
              "      <td>13.33</td>\n",
              "    </tr>\n",
              "    <tr>\n",
              "      <th>1</th>\n",
              "      <td>14.46</td>\n",
              "      <td>14.27</td>\n",
              "      <td>14.66</td>\n",
              "      <td>13.99</td>\n",
              "      <td>14.50</td>\n",
              "      <td>14.26</td>\n",
              "      <td>13.33</td>\n",
              "      <td>13.37</td>\n",
              "    </tr>\n",
              "    <tr>\n",
              "      <th>2</th>\n",
              "      <td>14.27</td>\n",
              "      <td>14.66</td>\n",
              "      <td>13.99</td>\n",
              "      <td>14.50</td>\n",
              "      <td>14.26</td>\n",
              "      <td>13.33</td>\n",
              "      <td>13.37</td>\n",
              "      <td>13.57</td>\n",
              "    </tr>\n",
              "    <tr>\n",
              "      <th>3</th>\n",
              "      <td>14.66</td>\n",
              "      <td>13.99</td>\n",
              "      <td>14.50</td>\n",
              "      <td>14.26</td>\n",
              "      <td>13.33</td>\n",
              "      <td>13.37</td>\n",
              "      <td>13.57</td>\n",
              "      <td>13.02</td>\n",
              "    </tr>\n",
              "    <tr>\n",
              "      <th>4</th>\n",
              "      <td>13.99</td>\n",
              "      <td>14.50</td>\n",
              "      <td>14.26</td>\n",
              "      <td>13.33</td>\n",
              "      <td>13.37</td>\n",
              "      <td>13.57</td>\n",
              "      <td>13.02</td>\n",
              "      <td>13.26</td>\n",
              "    </tr>\n",
              "  </tbody>\n",
              "</table>\n",
              "</div>"
            ],
            "text/plain": [
              "      d1     d2     d3     d4     d5     d6     d7     d8\n",
              "0  14.75  14.46  14.27  14.66  13.99  14.50  14.26  13.33\n",
              "1  14.46  14.27  14.66  13.99  14.50  14.26  13.33  13.37\n",
              "2  14.27  14.66  13.99  14.50  14.26  13.33  13.37  13.57\n",
              "3  14.66  13.99  14.50  14.26  13.33  13.37  13.57  13.02\n",
              "4  13.99  14.50  14.26  13.33  13.37  13.57  13.02  13.26"
            ]
          },
          "metadata": {
            "tags": []
          },
          "execution_count": 23
        }
      ]
    },
    {
      "cell_type": "code",
      "metadata": {
        "id": "8V3yPhISQub4",
        "colab_type": "code",
        "colab": {
          "base_uri": "https://localhost:8080/",
          "height": 34
        },
        "outputId": "73e87a50-5874-47c4-a839-6d615c90fa00"
      },
      "source": [
        "df1.shape"
      ],
      "execution_count": 24,
      "outputs": [
        {
          "output_type": "execute_result",
          "data": {
            "text/plain": [
              "(1251, 8)"
            ]
          },
          "metadata": {
            "tags": []
          },
          "execution_count": 24
        }
      ]
    },
    {
      "cell_type": "code",
      "metadata": {
        "id": "MPq5NgMrQxcr",
        "colab_type": "code",
        "colab": {
          "base_uri": "https://localhost:8080/",
          "height": 34
        },
        "outputId": "ae89d35d-e88e-4769-9b13-ad264b29ec62"
      },
      "source": [
        "1251 * 0.8"
      ],
      "execution_count": 25,
      "outputs": [
        {
          "output_type": "execute_result",
          "data": {
            "text/plain": [
              "1000.8000000000001"
            ]
          },
          "metadata": {
            "tags": []
          },
          "execution_count": 25
        }
      ]
    },
    {
      "cell_type": "code",
      "metadata": {
        "id": "j1_lHX2IQ0Hd",
        "colab_type": "code",
        "colab": {
          "base_uri": "https://localhost:8080/",
          "height": 84
        },
        "outputId": "2917f819-9c92-43c4-8807-8e52cccd797c"
      },
      "source": [
        "## Train test split\n",
        "X_train = df1.iloc[0:1000,0:7]\n",
        "X_test = df1.iloc[1000:,0:7]\n",
        "y_train =  df1['d8'][:1000]\n",
        "y_test  = df1['d8'][1000:]\n",
        "print(X_train.shape)\n",
        "print(y_train.shape)\n",
        "print(X_test.shape)\n",
        "print(y_test.shape)"
      ],
      "execution_count": 26,
      "outputs": [
        {
          "output_type": "stream",
          "text": [
            "(1000, 7)\n",
            "(1000,)\n",
            "(251, 7)\n",
            "(251,)\n"
          ],
          "name": "stdout"
        }
      ]
    },
    {
      "cell_type": "code",
      "metadata": {
        "id": "evqGNkw_Q3Nm",
        "colab_type": "code",
        "colab": {
          "base_uri": "https://localhost:8080/",
          "height": 304
        },
        "outputId": "eae917ee-6807-4194-ebaa-ac228b4a91e5"
      },
      "source": [
        "## Sacling the data\n",
        "from sklearn.preprocessing import StandardScaler\n",
        "sc = StandardScaler()\n",
        "sc.fit(X_train)\n",
        "X_train_sc = pd.DataFrame(sc.transform(X_train),columns = X_train.columns)\n",
        "X_test_sc = pd.DataFrame(sc.transform(X_test),columns = X_train.columns)\n",
        "X_train_sc.describe()"
      ],
      "execution_count": 27,
      "outputs": [
        {
          "output_type": "execute_result",
          "data": {
            "text/html": [
              "<div>\n",
              "<style scoped>\n",
              "    .dataframe tbody tr th:only-of-type {\n",
              "        vertical-align: middle;\n",
              "    }\n",
              "\n",
              "    .dataframe tbody tr th {\n",
              "        vertical-align: top;\n",
              "    }\n",
              "\n",
              "    .dataframe thead th {\n",
              "        text-align: right;\n",
              "    }\n",
              "</style>\n",
              "<table border=\"1\" class=\"dataframe\">\n",
              "  <thead>\n",
              "    <tr style=\"text-align: right;\">\n",
              "      <th></th>\n",
              "      <th>d1</th>\n",
              "      <th>d2</th>\n",
              "      <th>d3</th>\n",
              "      <th>d4</th>\n",
              "      <th>d5</th>\n",
              "      <th>d6</th>\n",
              "      <th>d7</th>\n",
              "    </tr>\n",
              "  </thead>\n",
              "  <tbody>\n",
              "    <tr>\n",
              "      <th>count</th>\n",
              "      <td>1.000000e+03</td>\n",
              "      <td>1.000000e+03</td>\n",
              "      <td>1.000000e+03</td>\n",
              "      <td>1.000000e+03</td>\n",
              "      <td>1.000000e+03</td>\n",
              "      <td>1.000000e+03</td>\n",
              "      <td>1.000000e+03</td>\n",
              "    </tr>\n",
              "    <tr>\n",
              "      <th>mean</th>\n",
              "      <td>5.107026e-17</td>\n",
              "      <td>1.179057e-16</td>\n",
              "      <td>3.196332e-16</td>\n",
              "      <td>8.437695e-18</td>\n",
              "      <td>-2.058353e-16</td>\n",
              "      <td>6.408207e-16</td>\n",
              "      <td>3.573808e-16</td>\n",
              "    </tr>\n",
              "    <tr>\n",
              "      <th>std</th>\n",
              "      <td>1.000500e+00</td>\n",
              "      <td>1.000500e+00</td>\n",
              "      <td>1.000500e+00</td>\n",
              "      <td>1.000500e+00</td>\n",
              "      <td>1.000500e+00</td>\n",
              "      <td>1.000500e+00</td>\n",
              "      <td>1.000500e+00</td>\n",
              "    </tr>\n",
              "    <tr>\n",
              "      <th>min</th>\n",
              "      <td>-2.119798e+00</td>\n",
              "      <td>-2.125939e+00</td>\n",
              "      <td>-2.132307e+00</td>\n",
              "      <td>-2.138824e+00</td>\n",
              "      <td>-2.145197e+00</td>\n",
              "      <td>-2.151939e+00</td>\n",
              "      <td>-2.158392e+00</td>\n",
              "    </tr>\n",
              "    <tr>\n",
              "      <th>25%</th>\n",
              "      <td>-5.582080e-01</td>\n",
              "      <td>-5.486430e-01</td>\n",
              "      <td>-5.493180e-01</td>\n",
              "      <td>-5.516601e-01</td>\n",
              "      <td>-5.450605e-01</td>\n",
              "      <td>-5.350756e-01</td>\n",
              "      <td>-5.332242e-01</td>\n",
              "    </tr>\n",
              "    <tr>\n",
              "      <th>50%</th>\n",
              "      <td>2.659776e-01</td>\n",
              "      <td>2.649882e-01</td>\n",
              "      <td>2.640589e-01</td>\n",
              "      <td>2.640761e-01</td>\n",
              "      <td>2.641178e-01</td>\n",
              "      <td>2.631759e-01</td>\n",
              "      <td>2.621305e-01</td>\n",
              "    </tr>\n",
              "    <tr>\n",
              "      <th>75%</th>\n",
              "      <td>6.620601e-01</td>\n",
              "      <td>6.644832e-01</td>\n",
              "      <td>6.649275e-01</td>\n",
              "      <td>6.633158e-01</td>\n",
              "      <td>6.633343e-01</td>\n",
              "      <td>6.668651e-01</td>\n",
              "      <td>6.666995e-01</td>\n",
              "    </tr>\n",
              "    <tr>\n",
              "      <th>max</th>\n",
              "      <td>1.847059e+00</td>\n",
              "      <td>1.847165e+00</td>\n",
              "      <td>1.847513e+00</td>\n",
              "      <td>1.847976e+00</td>\n",
              "      <td>1.848369e+00</td>\n",
              "      <td>1.848914e+00</td>\n",
              "      <td>1.849089e+00</td>\n",
              "    </tr>\n",
              "  </tbody>\n",
              "</table>\n",
              "</div>"
            ],
            "text/plain": [
              "                 d1            d2  ...            d6            d7\n",
              "count  1.000000e+03  1.000000e+03  ...  1.000000e+03  1.000000e+03\n",
              "mean   5.107026e-17  1.179057e-16  ...  6.408207e-16  3.573808e-16\n",
              "std    1.000500e+00  1.000500e+00  ...  1.000500e+00  1.000500e+00\n",
              "min   -2.119798e+00 -2.125939e+00  ... -2.151939e+00 -2.158392e+00\n",
              "25%   -5.582080e-01 -5.486430e-01  ... -5.350756e-01 -5.332242e-01\n",
              "50%    2.659776e-01  2.649882e-01  ...  2.631759e-01  2.621305e-01\n",
              "75%    6.620601e-01  6.644832e-01  ...  6.668651e-01  6.666995e-01\n",
              "max    1.847059e+00  1.847165e+00  ...  1.848914e+00  1.849089e+00\n",
              "\n",
              "[8 rows x 7 columns]"
            ]
          },
          "metadata": {
            "tags": []
          },
          "execution_count": 27
        }
      ]
    },
    {
      "cell_type": "code",
      "metadata": {
        "id": "BBjWZD90Q6rm",
        "colab_type": "code",
        "colab": {
          "base_uri": "https://localhost:8080/",
          "height": 235
        },
        "outputId": "d141ad7c-6ad5-47bf-b7ca-b9fb5aedb822"
      },
      "source": [
        "from keras.models import Sequential\n",
        "from keras.layers import Dense,Dropout,LSTM\n",
        "model = Sequential()\n",
        "# 256 cels\n",
        "model.add(LSTM(256,input_shape=(7,1)))\n",
        "# single neuron\n",
        "model.add(Dense(1))\n",
        "model.summary()"
      ],
      "execution_count": 28,
      "outputs": [
        {
          "output_type": "stream",
          "text": [
            "Using TensorFlow backend.\n"
          ],
          "name": "stderr"
        },
        {
          "output_type": "stream",
          "text": [
            "Model: \"sequential_1\"\n",
            "_________________________________________________________________\n",
            "Layer (type)                 Output Shape              Param #   \n",
            "=================================================================\n",
            "lstm_1 (LSTM)                (None, 256)               264192    \n",
            "_________________________________________________________________\n",
            "dense_1 (Dense)              (None, 1)                 257       \n",
            "=================================================================\n",
            "Total params: 264,449\n",
            "Trainable params: 264,449\n",
            "Non-trainable params: 0\n",
            "_________________________________________________________________\n"
          ],
          "name": "stdout"
        }
      ]
    },
    {
      "cell_type": "code",
      "metadata": {
        "id": "mqwzDUJcQ-RC",
        "colab_type": "code",
        "colab": {}
      },
      "source": [
        "model.compile(optimizer='adam',loss='mse')"
      ],
      "execution_count": 29,
      "outputs": []
    },
    {
      "cell_type": "code",
      "metadata": {
        "id": "jQ4mIddFRB3w",
        "colab_type": "code",
        "colab": {
          "base_uri": "https://localhost:8080/",
          "height": 34
        },
        "outputId": "5c297cbe-9ade-444b-9c69-72c78e91a0a2"
      },
      "source": [
        "X_test.shape"
      ],
      "execution_count": 30,
      "outputs": [
        {
          "output_type": "execute_result",
          "data": {
            "text/plain": [
              "(251, 7)"
            ]
          },
          "metadata": {
            "tags": []
          },
          "execution_count": 30
        }
      ]
    },
    {
      "cell_type": "code",
      "metadata": {
        "id": "7CY9UsNcRFFH",
        "colab_type": "code",
        "colab": {}
      },
      "source": [
        "# number of records , time steps,Features\n",
        "X_train_sc = X_train_sc.values.reshape(1000,7,1)\n",
        "X_test_sc = X_test_sc.values.reshape(251,7,1)"
      ],
      "execution_count": 31,
      "outputs": []
    },
    {
      "cell_type": "code",
      "metadata": {
        "id": "wVQ-64zIRIIh",
        "colab_type": "code",
        "colab": {
          "base_uri": "https://localhost:8080/",
          "height": 1000
        },
        "outputId": "ce6d9109-11d4-47bf-ee4f-e5556bcefe75"
      },
      "source": [
        "history = model.fit(X_train_sc,y_train,epochs=100,validation_data=(X_test_sc,y_test))"
      ],
      "execution_count": 32,
      "outputs": [
        {
          "output_type": "stream",
          "text": [
            "Train on 1000 samples, validate on 251 samples\n",
            "Epoch 1/100\n",
            "1000/1000 [==============================] - 3s 3ms/step - loss: 993.4617 - val_loss: 540.1146\n",
            "Epoch 2/100\n",
            "1000/1000 [==============================] - 1s 794us/step - loss: 201.3625 - val_loss: 242.1736\n",
            "Epoch 3/100\n",
            "1000/1000 [==============================] - 1s 790us/step - loss: 115.6483 - val_loss: 176.4308\n",
            "Epoch 4/100\n",
            "1000/1000 [==============================] - 1s 846us/step - loss: 113.0723 - val_loss: 161.4357\n",
            "Epoch 5/100\n",
            "1000/1000 [==============================] - 1s 819us/step - loss: 112.9947 - val_loss: 158.6606\n",
            "Epoch 6/100\n",
            "1000/1000 [==============================] - 1s 822us/step - loss: 112.7743 - val_loss: 160.3580\n",
            "Epoch 7/100\n",
            "1000/1000 [==============================] - 1s 853us/step - loss: 112.3023 - val_loss: 163.3666\n",
            "Epoch 8/100\n",
            "1000/1000 [==============================] - 1s 866us/step - loss: 107.0003 - val_loss: 157.3922\n",
            "Epoch 9/100\n",
            "1000/1000 [==============================] - 1s 861us/step - loss: 41.5159 - val_loss: 83.3084\n",
            "Epoch 10/100\n",
            "1000/1000 [==============================] - 1s 787us/step - loss: 16.8464 - val_loss: 47.4478\n",
            "Epoch 11/100\n",
            "1000/1000 [==============================] - 1s 782us/step - loss: 10.6987 - val_loss: 31.1898\n",
            "Epoch 12/100\n",
            "1000/1000 [==============================] - 1s 864us/step - loss: 7.7531 - val_loss: 21.9952\n",
            "Epoch 13/100\n",
            "1000/1000 [==============================] - 1s 784us/step - loss: 6.2997 - val_loss: 16.5845\n",
            "Epoch 14/100\n",
            "1000/1000 [==============================] - 1s 796us/step - loss: 5.6787 - val_loss: 13.7020\n",
            "Epoch 15/100\n",
            "1000/1000 [==============================] - 1s 818us/step - loss: 5.0955 - val_loss: 11.2041\n",
            "Epoch 16/100\n",
            "1000/1000 [==============================] - 1s 831us/step - loss: 4.7332 - val_loss: 10.3857\n",
            "Epoch 17/100\n",
            "1000/1000 [==============================] - 1s 804us/step - loss: 4.6094 - val_loss: 10.3615\n",
            "Epoch 18/100\n",
            "1000/1000 [==============================] - 1s 842us/step - loss: 4.8047 - val_loss: 9.1067\n",
            "Epoch 19/100\n",
            "1000/1000 [==============================] - 1s 822us/step - loss: 4.5988 - val_loss: 7.6614\n",
            "Epoch 20/100\n",
            "1000/1000 [==============================] - 1s 810us/step - loss: 4.3204 - val_loss: 7.2798\n",
            "Epoch 21/100\n",
            "1000/1000 [==============================] - 1s 819us/step - loss: 4.3759 - val_loss: 6.7788\n",
            "Epoch 22/100\n",
            "1000/1000 [==============================] - 1s 823us/step - loss: 4.5733 - val_loss: 6.7478\n",
            "Epoch 23/100\n",
            "1000/1000 [==============================] - 1s 800us/step - loss: 4.2094 - val_loss: 6.3933\n",
            "Epoch 24/100\n",
            "1000/1000 [==============================] - 1s 802us/step - loss: 4.2158 - val_loss: 7.6161\n",
            "Epoch 25/100\n",
            "1000/1000 [==============================] - 1s 769us/step - loss: 4.5071 - val_loss: 7.7977\n",
            "Epoch 26/100\n",
            "1000/1000 [==============================] - 1s 778us/step - loss: 4.1623 - val_loss: 6.2851\n",
            "Epoch 27/100\n",
            "1000/1000 [==============================] - 1s 812us/step - loss: 4.1930 - val_loss: 6.0791\n",
            "Epoch 28/100\n",
            "1000/1000 [==============================] - 1s 843us/step - loss: 4.3320 - val_loss: 5.5906\n",
            "Epoch 29/100\n",
            "1000/1000 [==============================] - 1s 828us/step - loss: 4.1939 - val_loss: 5.5009\n",
            "Epoch 30/100\n",
            "1000/1000 [==============================] - 1s 829us/step - loss: 4.0610 - val_loss: 5.5922\n",
            "Epoch 31/100\n",
            "1000/1000 [==============================] - 1s 779us/step - loss: 4.0505 - val_loss: 6.1145\n",
            "Epoch 32/100\n",
            "1000/1000 [==============================] - 1s 850us/step - loss: 4.1087 - val_loss: 5.4002\n",
            "Epoch 33/100\n",
            "1000/1000 [==============================] - 1s 805us/step - loss: 4.3071 - val_loss: 7.7131\n",
            "Epoch 34/100\n",
            "1000/1000 [==============================] - 1s 783us/step - loss: 4.2331 - val_loss: 5.3648\n",
            "Epoch 35/100\n",
            "1000/1000 [==============================] - 1s 839us/step - loss: 4.0578 - val_loss: 5.8682\n",
            "Epoch 36/100\n",
            "1000/1000 [==============================] - 1s 809us/step - loss: 4.2840 - val_loss: 5.3270\n",
            "Epoch 37/100\n",
            "1000/1000 [==============================] - 1s 793us/step - loss: 3.8396 - val_loss: 5.1386\n",
            "Epoch 38/100\n",
            "1000/1000 [==============================] - 1s 790us/step - loss: 3.8071 - val_loss: 5.1407\n",
            "Epoch 39/100\n",
            "1000/1000 [==============================] - 1s 799us/step - loss: 3.9037 - val_loss: 5.0735\n",
            "Epoch 40/100\n",
            "1000/1000 [==============================] - 1s 837us/step - loss: 3.8509 - val_loss: 5.0791\n",
            "Epoch 41/100\n",
            "1000/1000 [==============================] - 1s 814us/step - loss: 3.7721 - val_loss: 5.0781\n",
            "Epoch 42/100\n",
            "1000/1000 [==============================] - 1s 838us/step - loss: 3.6712 - val_loss: 4.9063\n",
            "Epoch 43/100\n",
            "1000/1000 [==============================] - 1s 871us/step - loss: 3.7988 - val_loss: 5.7106\n",
            "Epoch 44/100\n",
            "1000/1000 [==============================] - 1s 844us/step - loss: 3.7663 - val_loss: 4.7372\n",
            "Epoch 45/100\n",
            "1000/1000 [==============================] - 1s 807us/step - loss: 3.5966 - val_loss: 5.7450\n",
            "Epoch 46/100\n",
            "1000/1000 [==============================] - 1s 817us/step - loss: 3.5832 - val_loss: 5.0882\n",
            "Epoch 47/100\n",
            "1000/1000 [==============================] - 1s 838us/step - loss: 3.5512 - val_loss: 5.3211\n",
            "Epoch 48/100\n",
            "1000/1000 [==============================] - 1s 811us/step - loss: 3.7376 - val_loss: 4.4417\n",
            "Epoch 49/100\n",
            "1000/1000 [==============================] - 1s 805us/step - loss: 3.6291 - val_loss: 4.6351\n",
            "Epoch 50/100\n",
            "1000/1000 [==============================] - 1s 836us/step - loss: 3.2376 - val_loss: 6.0852\n",
            "Epoch 51/100\n",
            "1000/1000 [==============================] - 1s 840us/step - loss: 3.1294 - val_loss: 5.9147\n",
            "Epoch 52/100\n",
            "1000/1000 [==============================] - 1s 809us/step - loss: 3.0868 - val_loss: 3.9465\n",
            "Epoch 53/100\n",
            "1000/1000 [==============================] - 1s 832us/step - loss: 2.8919 - val_loss: 4.5970\n",
            "Epoch 54/100\n",
            "1000/1000 [==============================] - 1s 825us/step - loss: 2.7269 - val_loss: 4.1024\n",
            "Epoch 55/100\n",
            "1000/1000 [==============================] - 1s 782us/step - loss: 3.3507 - val_loss: 3.5144\n",
            "Epoch 56/100\n",
            "1000/1000 [==============================] - 1s 823us/step - loss: 2.7504 - val_loss: 3.5288\n",
            "Epoch 57/100\n",
            "1000/1000 [==============================] - 1s 799us/step - loss: 2.7693 - val_loss: 4.0553\n",
            "Epoch 58/100\n",
            "1000/1000 [==============================] - 1s 801us/step - loss: 2.4422 - val_loss: 3.4285\n",
            "Epoch 59/100\n",
            "1000/1000 [==============================] - 1s 824us/step - loss: 2.3149 - val_loss: 3.2961\n",
            "Epoch 60/100\n",
            "1000/1000 [==============================] - 1s 837us/step - loss: 2.5066 - val_loss: 4.2456\n",
            "Epoch 61/100\n",
            "1000/1000 [==============================] - 1s 868us/step - loss: 2.3422 - val_loss: 3.8656\n",
            "Epoch 62/100\n",
            "1000/1000 [==============================] - 1s 773us/step - loss: 2.1582 - val_loss: 2.8238\n",
            "Epoch 63/100\n",
            "1000/1000 [==============================] - 1s 815us/step - loss: 2.7635 - val_loss: 3.2437\n",
            "Epoch 64/100\n",
            "1000/1000 [==============================] - 1s 826us/step - loss: 2.4361 - val_loss: 2.6776\n",
            "Epoch 65/100\n",
            "1000/1000 [==============================] - 1s 791us/step - loss: 2.1732 - val_loss: 3.1565\n",
            "Epoch 66/100\n",
            "1000/1000 [==============================] - 1s 790us/step - loss: 2.1315 - val_loss: 3.1416\n",
            "Epoch 67/100\n",
            "1000/1000 [==============================] - 1s 799us/step - loss: 2.1530 - val_loss: 4.0751\n",
            "Epoch 68/100\n",
            "1000/1000 [==============================] - 1s 835us/step - loss: 2.2932 - val_loss: 3.8999\n",
            "Epoch 69/100\n",
            "1000/1000 [==============================] - 1s 748us/step - loss: 1.9439 - val_loss: 2.4591\n",
            "Epoch 70/100\n",
            "1000/1000 [==============================] - 1s 798us/step - loss: 2.0113 - val_loss: 3.9767\n",
            "Epoch 71/100\n",
            "1000/1000 [==============================] - 1s 801us/step - loss: 2.2218 - val_loss: 3.8912\n",
            "Epoch 72/100\n",
            "1000/1000 [==============================] - 1s 825us/step - loss: 1.8352 - val_loss: 2.3812\n",
            "Epoch 73/100\n",
            "1000/1000 [==============================] - 1s 852us/step - loss: 1.7710 - val_loss: 3.2538\n",
            "Epoch 74/100\n",
            "1000/1000 [==============================] - 1s 810us/step - loss: 1.7505 - val_loss: 2.3153\n",
            "Epoch 75/100\n",
            "1000/1000 [==============================] - 1s 827us/step - loss: 1.6762 - val_loss: 2.1603\n",
            "Epoch 76/100\n",
            "1000/1000 [==============================] - 1s 843us/step - loss: 1.7188 - val_loss: 3.8696\n",
            "Epoch 77/100\n",
            "1000/1000 [==============================] - 1s 816us/step - loss: 1.9174 - val_loss: 3.3111\n",
            "Epoch 78/100\n",
            "1000/1000 [==============================] - 1s 819us/step - loss: 1.6406 - val_loss: 1.9961\n",
            "Epoch 79/100\n",
            "1000/1000 [==============================] - 1s 834us/step - loss: 1.7166 - val_loss: 2.0055\n",
            "Epoch 80/100\n",
            "1000/1000 [==============================] - 1s 821us/step - loss: 1.6497 - val_loss: 4.4810\n",
            "Epoch 81/100\n",
            "1000/1000 [==============================] - 1s 855us/step - loss: 1.9720 - val_loss: 2.0079\n",
            "Epoch 82/100\n",
            "1000/1000 [==============================] - 1s 828us/step - loss: 1.7417 - val_loss: 2.3645\n",
            "Epoch 83/100\n",
            "1000/1000 [==============================] - 1s 785us/step - loss: 1.5235 - val_loss: 1.8580\n",
            "Epoch 84/100\n",
            "1000/1000 [==============================] - 1s 827us/step - loss: 1.4760 - val_loss: 1.9147\n",
            "Epoch 85/100\n",
            "1000/1000 [==============================] - 1s 820us/step - loss: 1.7216 - val_loss: 2.1912\n",
            "Epoch 86/100\n",
            "1000/1000 [==============================] - 1s 801us/step - loss: 1.5266 - val_loss: 1.9749\n",
            "Epoch 87/100\n",
            "1000/1000 [==============================] - 1s 844us/step - loss: 1.8977 - val_loss: 1.7906\n",
            "Epoch 88/100\n",
            "1000/1000 [==============================] - 1s 837us/step - loss: 1.6208 - val_loss: 2.1269\n",
            "Epoch 89/100\n",
            "1000/1000 [==============================] - 1s 808us/step - loss: 1.5004 - val_loss: 1.6944\n",
            "Epoch 90/100\n",
            "1000/1000 [==============================] - 1s 823us/step - loss: 1.4932 - val_loss: 2.6880\n",
            "Epoch 91/100\n",
            "1000/1000 [==============================] - 1s 840us/step - loss: 1.4482 - val_loss: 1.6580\n",
            "Epoch 92/100\n",
            "1000/1000 [==============================] - 1s 802us/step - loss: 1.5678 - val_loss: 2.1371\n",
            "Epoch 93/100\n",
            "1000/1000 [==============================] - 1s 863us/step - loss: 1.6397 - val_loss: 1.7262\n",
            "Epoch 94/100\n",
            "1000/1000 [==============================] - 1s 831us/step - loss: 1.4372 - val_loss: 1.6779\n",
            "Epoch 95/100\n",
            "1000/1000 [==============================] - 1s 816us/step - loss: 1.3975 - val_loss: 2.8570\n",
            "Epoch 96/100\n",
            "1000/1000 [==============================] - 1s 844us/step - loss: 1.4321 - val_loss: 2.2966\n",
            "Epoch 97/100\n",
            "1000/1000 [==============================] - 1s 800us/step - loss: 1.3399 - val_loss: 1.6653\n",
            "Epoch 98/100\n",
            "1000/1000 [==============================] - 1s 850us/step - loss: 1.4566 - val_loss: 1.7558\n",
            "Epoch 99/100\n",
            "1000/1000 [==============================] - 1s 851us/step - loss: 1.3144 - val_loss: 1.7904\n",
            "Epoch 100/100\n",
            "1000/1000 [==============================] - 1s 890us/step - loss: 1.3611 - val_loss: 1.4697\n"
          ],
          "name": "stdout"
        }
      ]
    },
    {
      "cell_type": "code",
      "metadata": {
        "id": "HGibhYkfRNH6",
        "colab_type": "code",
        "colab": {
          "base_uri": "https://localhost:8080/",
          "height": 282
        },
        "outputId": "d55fa6da-b24b-4b02-eb43-40f67fcfcf2f"
      },
      "source": [
        "tr_loss = history.history['loss']\n",
        "val_loss = history.history['val_loss']\n",
        "ep = list(range(1,101))\n",
        "plt.plot(ep,tr_loss,color='r')\n",
        "plt.plot(ep,val_loss,color='b')"
      ],
      "execution_count": 33,
      "outputs": [
        {
          "output_type": "execute_result",
          "data": {
            "text/plain": [
              "[<matplotlib.lines.Line2D at 0x7f041a8a4b70>]"
            ]
          },
          "metadata": {
            "tags": []
          },
          "execution_count": 33
        },
        {
          "output_type": "display_data",
          "data": {
            "image/png": "[encoded data removed]",
            "text/plain": [
              "<Figure size 432x288 with 1 Axes>"
            ]
          },
          "metadata": {
            "tags": [],
            "needs_background": "light"
          }
        }
      ]
    },
    {
      "cell_type": "code",
      "metadata": {
        "id": "b8jkWPBrRjNS",
        "colab_type": "code",
        "colab": {
          "base_uri": "https://localhost:8080/",
          "height": 1000
        },
        "outputId": "0ab52401-969d-4e0b-ad83-c284b8ecdc6a"
      },
      "source": [
        "model.predict(X_test_sc)"
      ],
      "execution_count": 34,
      "outputs": [
        {
          "output_type": "execute_result",
          "data": {
            "text/plain": [
              "array([[45.288223],\n",
              "       [45.513958],\n",
              "       [45.988   ],\n",
              "       [46.41098 ],\n",
              "       [47.075214],\n",
              "       [47.181923],\n",
              "       [47.523354],\n",
              "       [47.473465],\n",
              "       [47.4289  ],\n",
              "       [47.295166],\n",
              "       [47.025543],\n",
              "       [46.757675],\n",
              "       [46.614346],\n",
              "       [46.60175 ],\n",
              "       [46.659256],\n",
              "       [46.97241 ],\n",
              "       [46.72785 ],\n",
              "       [46.884464],\n",
              "       [46.391808],\n",
              "       [45.895386],\n",
              "       [45.43749 ],\n",
              "       [44.62906 ],\n",
              "       [44.278637],\n",
              "       [43.501366],\n",
              "       [42.582603],\n",
              "       [42.122498],\n",
              "       [42.09245 ],\n",
              "       [42.15237 ],\n",
              "       [42.093517],\n",
              "       [41.57107 ],\n",
              "       [41.02453 ],\n",
              "       [41.026096],\n",
              "       [41.47921 ],\n",
              "       [41.90727 ],\n",
              "       [42.421535],\n",
              "       [42.57011 ],\n",
              "       [42.735348],\n",
              "       [42.711555],\n",
              "       [42.76829 ],\n",
              "       [42.196136],\n",
              "       [41.76891 ],\n",
              "       [41.682667],\n",
              "       [41.872875],\n",
              "       [42.25202 ],\n",
              "       [43.134884],\n",
              "       [43.91787 ],\n",
              "       [44.116226],\n",
              "       [44.328983],\n",
              "       [44.3077  ],\n",
              "       [44.50901 ],\n",
              "       [44.941483],\n",
              "       [45.33008 ],\n",
              "       [46.025055],\n",
              "       [46.540634],\n",
              "       [46.82613 ],\n",
              "       [45.984253],\n",
              "       [44.616627],\n",
              "       [43.21988 ],\n",
              "       [43.077667],\n",
              "       [43.547863],\n",
              "       [44.084053],\n",
              "       [44.53788 ],\n",
              "       [44.953644],\n",
              "       [46.008465],\n",
              "       [46.891296],\n",
              "       [47.22313 ],\n",
              "       [46.94537 ],\n",
              "       [46.859707],\n",
              "       [46.938526],\n",
              "       [46.388878],\n",
              "       [45.78257 ],\n",
              "       [45.42641 ],\n",
              "       [45.74573 ],\n",
              "       [46.350018],\n",
              "       [46.856396],\n",
              "       [47.55864 ],\n",
              "       [48.239353],\n",
              "       [48.447784],\n",
              "       [48.629753],\n",
              "       [48.858715],\n",
              "       [49.219505],\n",
              "       [49.562283],\n",
              "       [49.77031 ],\n",
              "       [50.222553],\n",
              "       [50.677696],\n",
              "       [50.65725 ],\n",
              "       [50.338955],\n",
              "       [49.966213],\n",
              "       [49.665115],\n",
              "       [49.441765],\n",
              "       [49.245235],\n",
              "       [49.420208],\n",
              "       [49.00805 ],\n",
              "       [48.877888],\n",
              "       [48.87832 ],\n",
              "       [48.87476 ],\n",
              "       [48.972637],\n",
              "       [48.8969  ],\n",
              "       [49.103092],\n",
              "       [49.363396],\n",
              "       [49.826046],\n",
              "       [50.153877],\n",
              "       [50.618637],\n",
              "       [51.119633],\n",
              "       [51.732094],\n",
              "       [52.010117],\n",
              "       [51.87074 ],\n",
              "       [52.30827 ],\n",
              "       [52.531002],\n",
              "       [52.88959 ],\n",
              "       [53.000397],\n",
              "       [52.841663],\n",
              "       [52.554417],\n",
              "       [52.239864],\n",
              "       [51.909046],\n",
              "       [51.527756],\n",
              "       [51.09057 ],\n",
              "       [50.925846],\n",
              "       [50.515114],\n",
              "       [50.461166],\n",
              "       [50.400223],\n",
              "       [50.619488],\n",
              "       [50.592728],\n",
              "       [50.612103],\n",
              "       [50.64911 ],\n",
              "       [50.609848],\n",
              "       [50.42034 ],\n",
              "       [50.06329 ],\n",
              "       [49.495754],\n",
              "       [49.009647],\n",
              "       [48.857853],\n",
              "       [48.77249 ],\n",
              "       [48.759884],\n",
              "       [47.875736],\n",
              "       [46.961113],\n",
              "       [46.231556],\n",
              "       [45.822155],\n",
              "       [45.197475],\n",
              "       [44.30164 ],\n",
              "       [44.45825 ],\n",
              "       [44.79517 ],\n",
              "       [45.08426 ],\n",
              "       [44.996307],\n",
              "       [44.999783],\n",
              "       [45.23628 ],\n",
              "       [44.961166],\n",
              "       [44.82201 ],\n",
              "       [44.474754],\n",
              "       [44.206806],\n",
              "       [44.85468 ],\n",
              "       [45.72281 ],\n",
              "       [46.681477],\n",
              "       [46.879726],\n",
              "       [46.785675],\n",
              "       [46.297955],\n",
              "       [45.559704],\n",
              "       [45.412483],\n",
              "       [45.793865],\n",
              "       [46.57992 ],\n",
              "       [47.354694],\n",
              "       [47.7776  ],\n",
              "       [47.70167 ],\n",
              "       [47.715504],\n",
              "       [47.700787],\n",
              "       [47.857643],\n",
              "       [48.922184],\n",
              "       [49.79137 ],\n",
              "       [50.365185],\n",
              "       [50.795654],\n",
              "       [50.768234],\n",
              "       [51.467125],\n",
              "       [51.82215 ],\n",
              "       [52.09508 ],\n",
              "       [52.205338],\n",
              "       [52.084167],\n",
              "       [51.93697 ],\n",
              "       [51.801193],\n",
              "       [51.57286 ],\n",
              "       [51.564568],\n",
              "       [51.26812 ],\n",
              "       [51.401455],\n",
              "       [51.181805],\n",
              "       [50.317272],\n",
              "       [49.255974],\n",
              "       [48.2216  ],\n",
              "       [47.458775],\n",
              "       [47.503235],\n",
              "       [47.602116],\n",
              "       [47.77694 ],\n",
              "       [47.81364 ],\n",
              "       [47.452335],\n",
              "       [47.11245 ],\n",
              "       [46.594746],\n",
              "       [46.314304],\n",
              "       [46.13432 ],\n",
              "       [46.119293],\n",
              "       [46.654133],\n",
              "       [47.289528],\n",
              "       [47.676804],\n",
              "       [47.918842],\n",
              "       [48.320843],\n",
              "       [48.62713 ],\n",
              "       [48.81026 ],\n",
              "       [48.814213],\n",
              "       [49.036358],\n",
              "       [49.20762 ],\n",
              "       [49.77609 ],\n",
              "       [49.6649  ],\n",
              "       [49.874416],\n",
              "       [49.73865 ],\n",
              "       [49.748226],\n",
              "       [50.151527],\n",
              "       [50.499763],\n",
              "       [50.875458],\n",
              "       [50.802505],\n",
              "       [50.580986],\n",
              "       [50.385025],\n",
              "       [50.52785 ],\n",
              "       [50.83952 ],\n",
              "       [51.09082 ],\n",
              "       [51.375355],\n",
              "       [51.75939 ],\n",
              "       [51.95345 ],\n",
              "       [52.16309 ],\n",
              "       [52.121086],\n",
              "       [52.092556],\n",
              "       [51.919315],\n",
              "       [52.08569 ],\n",
              "       [52.01297 ],\n",
              "       [52.109306],\n",
              "       [52.12979 ],\n",
              "       [51.99552 ],\n",
              "       [51.892735],\n",
              "       [52.27917 ],\n",
              "       [53.22013 ],\n",
              "       [54.26677 ],\n",
              "       [54.75753 ],\n",
              "       [55.055904],\n",
              "       [55.208736],\n",
              "       [55.244167],\n",
              "       [55.278362],\n",
              "       [55.319485],\n",
              "       [54.613297],\n",
              "       [53.7608  ],\n",
              "       [53.102463],\n",
              "       [52.466946],\n",
              "       [52.12178 ],\n",
              "       [52.55445 ],\n",
              "       [52.78022 ],\n",
              "       [52.472504],\n",
              "       [51.51754 ]], dtype=float32)"
            ]
          },
          "metadata": {
            "tags": []
          },
          "execution_count": 34
        }
      ]
    },
    {
      "cell_type": "code",
      "metadata": {
        "id": "ORrA3GPARtlt",
        "colab_type": "code",
        "colab": {
          "base_uri": "https://localhost:8080/",
          "height": 282
        },
        "outputId": "c3878f8b-6c6e-4e6a-fc11-938f4ff88288"
      },
      "source": [
        "plt.plot(range(len(X_test_sc)),model.predict(X_test_sc).flat)\n",
        "plt.plot(range(len(X_test_sc)),y_test)"
      ],
      "execution_count": 37,
      "outputs": [
        {
          "output_type": "execute_result",
          "data": {
            "text/plain": [
              "[<matplotlib.lines.Line2D at 0x7f04bd91e2e8>]"
            ]
          },
          "metadata": {
            "tags": []
          },
          "execution_count": 37
        },
        {
          "output_type": "display_data",
          "data": {
            "image/png": "[encoded data removed]",
            "text/plain": [
              "<Figure size 432x288 with 1 Axes>"
            ]
          },
          "metadata": {
            "tags": [],
            "needs_background": "light"
          }
        }
      ]
    },
    {
      "cell_type": "code",
      "metadata": {
        "id": "sB52zIpvRyDJ",
        "colab_type": "code",
        "colab": {
          "base_uri": "https://localhost:8080/",
          "height": 134
        },
        "outputId": "1c27718d-7aff-4dae-e335-85ac860278e6"
      },
      "source": [
        "X_test_sc[0].reshape(1,7,1)"
      ],
      "execution_count": 38,
      "outputs": [
        {
          "output_type": "execute_result",
          "data": {
            "text/plain": [
              "array([[[0.83910218],\n",
              "        [0.77719701],\n",
              "        [0.75711333],\n",
              "        [0.75193205],\n",
              "        [0.7682191 ],\n",
              "        [0.86976278],\n",
              "        [0.85612661]]])"
            ]
          },
          "metadata": {
            "tags": []
          },
          "execution_count": 38
        }
      ]
    },
    {
      "cell_type": "code",
      "metadata": {
        "id": "99VM-D_6R0so",
        "colab_type": "code",
        "colab": {
          "base_uri": "https://localhost:8080/",
          "height": 34
        },
        "outputId": "11592e8f-1bfc-4c1a-d9b7-74c54f80795e"
      },
      "source": [
        "model.predict(X_test_sc[0].reshape(1,7,1))"
      ],
      "execution_count": 39,
      "outputs": [
        {
          "output_type": "execute_result",
          "data": {
            "text/plain": [
              "array([[45.28823]], dtype=float32)"
            ]
          },
          "metadata": {
            "tags": []
          },
          "execution_count": 39
        }
      ]
    },
    {
      "cell_type": "code",
      "metadata": {
        "id": "c50ilmHtSRfu",
        "colab_type": "code",
        "colab": {
          "base_uri": "https://localhost:8080/",
          "height": 34
        },
        "outputId": "cd3d4c58-42b3-4622-dcb3-e0a8861c3ddf"
      },
      "source": [
        "y_test[1000]"
      ],
      "execution_count": 40,
      "outputs": [
        {
          "output_type": "execute_result",
          "data": {
            "text/plain": [
              "45.06"
            ]
          },
          "metadata": {
            "tags": []
          },
          "execution_count": 40
        }
      ]
    },
    {
      "cell_type": "code",
      "metadata": {
        "id": "MIaRq8A2SVfr",
        "colab_type": "code",
        "colab": {
          "base_uri": "https://localhost:8080/",
          "height": 252
        },
        "outputId": "9f5d605d-72ef-4467-dcba-ec1f632789cd"
      },
      "source": [
        "from keras.models import Sequential\n",
        "from keras.layers import Dense,Dropout,LSTM\n",
        "model2 = Sequential()\n",
        "# 256 cels\n",
        "model2.add(LSTM(256,input_shape=(7,1)))\n",
        "model2.add(Dropout(0.3))\n",
        "# single neuron\n",
        "model2.add(Dense(1))\n",
        "model2.summary()"
      ],
      "execution_count": 42,
      "outputs": [
        {
          "output_type": "stream",
          "text": [
            "Model: \"sequential_3\"\n",
            "_________________________________________________________________\n",
            "Layer (type)                 Output Shape              Param #   \n",
            "=================================================================\n",
            "lstm_4 (LSTM)                (None, 256)               264192    \n",
            "_________________________________________________________________\n",
            "dropout_1 (Dropout)          (None, 256)               0         \n",
            "_________________________________________________________________\n",
            "dense_2 (Dense)              (None, 1)                 257       \n",
            "=================================================================\n",
            "Total params: 264,449\n",
            "Trainable params: 264,449\n",
            "Non-trainable params: 0\n",
            "_________________________________________________________________\n"
          ],
          "name": "stdout"
        }
      ]
    },
    {
      "cell_type": "code",
      "metadata": {
        "id": "0zzVe-yCSn9h",
        "colab_type": "code",
        "colab": {}
      },
      "source": [
        "model2.compile(optimizer='adam',loss='mse')"
      ],
      "execution_count": 43,
      "outputs": []
    },
    {
      "cell_type": "code",
      "metadata": {
        "id": "I-q-EeR-UVdX",
        "colab_type": "code",
        "colab": {
          "base_uri": "https://localhost:8080/",
          "height": 1000
        },
        "outputId": "2cfee2af-8e2d-487c-c620-3b859be0fd2c"
      },
      "source": [
        "history2 = model2.fit(X_train_sc,y_train,epochs=100,validation_data=(X_test_sc,y_test))"
      ],
      "execution_count": 44,
      "outputs": [
        {
          "output_type": "stream",
          "text": [
            "Train on 1000 samples, validate on 251 samples\n",
            "Epoch 1/100\n",
            "1000/1000 [==============================] - 1s 1ms/step - loss: 982.4433 - val_loss: 556.4161\n",
            "Epoch 2/100\n",
            "1000/1000 [==============================] - 1s 858us/step - loss: 205.5111 - val_loss: 250.7751\n",
            "Epoch 3/100\n",
            "1000/1000 [==============================] - 1s 863us/step - loss: 70.7319 - val_loss: 136.1709\n",
            "Epoch 4/100\n",
            "1000/1000 [==============================] - 1s 799us/step - loss: 34.2405 - val_loss: 86.3107\n",
            "Epoch 5/100\n",
            "1000/1000 [==============================] - 1s 816us/step - loss: 24.1345 - val_loss: 66.1940\n",
            "Epoch 6/100\n",
            "1000/1000 [==============================] - 1s 868us/step - loss: 17.5063 - val_loss: 45.6091\n",
            "Epoch 7/100\n",
            "1000/1000 [==============================] - 1s 836us/step - loss: 13.9669 - val_loss: 34.5760\n",
            "Epoch 8/100\n",
            "1000/1000 [==============================] - 1s 850us/step - loss: 11.2030 - val_loss: 26.2758\n",
            "Epoch 9/100\n",
            "1000/1000 [==============================] - 1s 791us/step - loss: 10.1190 - val_loss: 21.3335\n",
            "Epoch 10/100\n",
            "1000/1000 [==============================] - 1s 823us/step - loss: 9.5160 - val_loss: 17.8718\n",
            "Epoch 11/100\n",
            "1000/1000 [==============================] - 1s 799us/step - loss: 9.2388 - val_loss: 17.0506\n",
            "Epoch 12/100\n",
            "1000/1000 [==============================] - 1s 809us/step - loss: 8.5798 - val_loss: 12.9953\n",
            "Epoch 13/100\n",
            "1000/1000 [==============================] - 1s 857us/step - loss: 8.3492 - val_loss: 12.5747\n",
            "Epoch 14/100\n",
            "1000/1000 [==============================] - 1s 824us/step - loss: 7.2475 - val_loss: 11.0407\n",
            "Epoch 15/100\n",
            "1000/1000 [==============================] - 1s 869us/step - loss: 7.7732 - val_loss: 9.3019\n",
            "Epoch 16/100\n",
            "1000/1000 [==============================] - 1s 811us/step - loss: 7.8602 - val_loss: 8.7304\n",
            "Epoch 17/100\n",
            "1000/1000 [==============================] - 1s 840us/step - loss: 7.6775 - val_loss: 8.4651\n",
            "Epoch 18/100\n",
            "1000/1000 [==============================] - 1s 870us/step - loss: 7.4239 - val_loss: 8.2254\n",
            "Epoch 19/100\n",
            "1000/1000 [==============================] - 1s 825us/step - loss: 7.1511 - val_loss: 7.1118\n",
            "Epoch 20/100\n",
            "1000/1000 [==============================] - 1s 822us/step - loss: 7.7083 - val_loss: 7.2366\n",
            "Epoch 21/100\n",
            "1000/1000 [==============================] - 1s 810us/step - loss: 7.4135 - val_loss: 7.1568\n",
            "Epoch 22/100\n",
            "1000/1000 [==============================] - 1s 813us/step - loss: 7.4280 - val_loss: 8.5575\n",
            "Epoch 23/100\n",
            "1000/1000 [==============================] - 1s 859us/step - loss: 7.1287 - val_loss: 6.7114\n",
            "Epoch 24/100\n",
            "1000/1000 [==============================] - 1s 812us/step - loss: 7.1596 - val_loss: 7.6361\n",
            "Epoch 25/100\n",
            "1000/1000 [==============================] - 1s 771us/step - loss: 6.9608 - val_loss: 6.2656\n",
            "Epoch 26/100\n",
            "1000/1000 [==============================] - 1s 815us/step - loss: 7.9257 - val_loss: 6.1622\n",
            "Epoch 27/100\n",
            "1000/1000 [==============================] - 1s 802us/step - loss: 7.9048 - val_loss: 7.3860\n",
            "Epoch 28/100\n",
            "1000/1000 [==============================] - 1s 836us/step - loss: 7.1705 - val_loss: 8.0698\n",
            "Epoch 29/100\n",
            "1000/1000 [==============================] - 1s 830us/step - loss: 7.2702 - val_loss: 6.9145\n",
            "Epoch 30/100\n",
            "1000/1000 [==============================] - 1s 831us/step - loss: 7.3703 - val_loss: 6.5831\n",
            "Epoch 31/100\n",
            "1000/1000 [==============================] - 1s 816us/step - loss: 7.0434 - val_loss: 6.2411\n",
            "Epoch 32/100\n",
            "1000/1000 [==============================] - 1s 798us/step - loss: 6.7563 - val_loss: 5.8171\n",
            "Epoch 33/100\n",
            "1000/1000 [==============================] - 1s 887us/step - loss: 7.6954 - val_loss: 5.9685\n",
            "Epoch 34/100\n",
            "1000/1000 [==============================] - 1s 825us/step - loss: 7.2038 - val_loss: 5.8819\n",
            "Epoch 35/100\n",
            "1000/1000 [==============================] - 1s 835us/step - loss: 6.9052 - val_loss: 6.5370\n",
            "Epoch 36/100\n",
            "1000/1000 [==============================] - 1s 827us/step - loss: 6.5620 - val_loss: 5.4388\n",
            "Epoch 37/100\n",
            "1000/1000 [==============================] - 1s 805us/step - loss: 7.3160 - val_loss: 5.2856\n",
            "Epoch 38/100\n",
            "1000/1000 [==============================] - 1s 828us/step - loss: 6.9210 - val_loss: 6.3878\n",
            "Epoch 39/100\n",
            "1000/1000 [==============================] - 1s 813us/step - loss: 6.4950 - val_loss: 5.3918\n",
            "Epoch 40/100\n",
            "1000/1000 [==============================] - 1s 784us/step - loss: 6.7076 - val_loss: 5.3979\n",
            "Epoch 41/100\n",
            "1000/1000 [==============================] - 1s 851us/step - loss: 6.5399 - val_loss: 5.8108\n",
            "Epoch 42/100\n",
            "1000/1000 [==============================] - 1s 829us/step - loss: 6.9301 - val_loss: 5.2235\n",
            "Epoch 43/100\n",
            "1000/1000 [==============================] - 1s 867us/step - loss: 6.2241 - val_loss: 5.1229\n",
            "Epoch 44/100\n",
            "1000/1000 [==============================] - 1s 858us/step - loss: 6.5520 - val_loss: 6.7111\n",
            "Epoch 45/100\n",
            "1000/1000 [==============================] - 1s 812us/step - loss: 6.8827 - val_loss: 6.0182\n",
            "Epoch 46/100\n",
            "1000/1000 [==============================] - 1s 825us/step - loss: 6.5426 - val_loss: 5.3421\n",
            "Epoch 47/100\n",
            "1000/1000 [==============================] - 1s 801us/step - loss: 6.6344 - val_loss: 5.2368\n",
            "Epoch 48/100\n",
            "1000/1000 [==============================] - 1s 844us/step - loss: 6.0881 - val_loss: 5.2487\n",
            "Epoch 49/100\n",
            "1000/1000 [==============================] - 1s 846us/step - loss: 6.8069 - val_loss: 4.5893\n",
            "Epoch 50/100\n",
            "1000/1000 [==============================] - 1s 813us/step - loss: 5.9332 - val_loss: 4.7206\n",
            "Epoch 51/100\n",
            "1000/1000 [==============================] - 1s 843us/step - loss: 5.5866 - val_loss: 4.6937\n",
            "Epoch 52/100\n",
            "1000/1000 [==============================] - 1s 856us/step - loss: 5.7389 - val_loss: 6.3877\n",
            "Epoch 53/100\n",
            "1000/1000 [==============================] - 1s 829us/step - loss: 6.6041 - val_loss: 4.5036\n",
            "Epoch 54/100\n",
            "1000/1000 [==============================] - 1s 826us/step - loss: 5.9591 - val_loss: 5.6502\n",
            "Epoch 55/100\n",
            "1000/1000 [==============================] - 1s 802us/step - loss: 5.4738 - val_loss: 4.3717\n",
            "Epoch 56/100\n",
            "1000/1000 [==============================] - 1s 787us/step - loss: 5.6194 - val_loss: 5.3564\n",
            "Epoch 57/100\n",
            "1000/1000 [==============================] - 1s 820us/step - loss: 5.6680 - val_loss: 4.4607\n",
            "Epoch 58/100\n",
            "1000/1000 [==============================] - 1s 804us/step - loss: 6.3171 - val_loss: 5.0781\n",
            "Epoch 59/100\n",
            "1000/1000 [==============================] - 1s 813us/step - loss: 5.9113 - val_loss: 6.4867\n",
            "Epoch 60/100\n",
            "1000/1000 [==============================] - 1s 782us/step - loss: 5.3936 - val_loss: 4.3106\n",
            "Epoch 61/100\n",
            "1000/1000 [==============================] - 1s 782us/step - loss: 5.0887 - val_loss: 4.4921\n",
            "Epoch 62/100\n",
            "1000/1000 [==============================] - 1s 834us/step - loss: 4.4661 - val_loss: 4.3124\n",
            "Epoch 63/100\n",
            "1000/1000 [==============================] - 1s 819us/step - loss: 5.0564 - val_loss: 4.0516\n",
            "Epoch 64/100\n",
            "1000/1000 [==============================] - 1s 831us/step - loss: 5.5154 - val_loss: 3.6189\n",
            "Epoch 65/100\n",
            "1000/1000 [==============================] - 1s 815us/step - loss: 5.0955 - val_loss: 3.5223\n",
            "Epoch 66/100\n",
            "1000/1000 [==============================] - 1s 806us/step - loss: 5.2620 - val_loss: 5.0410\n",
            "Epoch 67/100\n",
            "1000/1000 [==============================] - 1s 821us/step - loss: 5.4008 - val_loss: 3.3105\n",
            "Epoch 68/100\n",
            "1000/1000 [==============================] - 1s 845us/step - loss: 4.7808 - val_loss: 3.7021\n",
            "Epoch 69/100\n",
            "1000/1000 [==============================] - 1s 819us/step - loss: 5.4753 - val_loss: 3.1998\n",
            "Epoch 70/100\n",
            "1000/1000 [==============================] - 1s 783us/step - loss: 5.0997 - val_loss: 3.0310\n",
            "Epoch 71/100\n",
            "1000/1000 [==============================] - 1s 826us/step - loss: 4.5840 - val_loss: 3.0504\n",
            "Epoch 72/100\n",
            "1000/1000 [==============================] - 1s 803us/step - loss: 4.6375 - val_loss: 2.8082\n",
            "Epoch 73/100\n",
            "1000/1000 [==============================] - 1s 806us/step - loss: 4.5074 - val_loss: 2.6110\n",
            "Epoch 74/100\n",
            "1000/1000 [==============================] - 1s 837us/step - loss: 4.4195 - val_loss: 2.6998\n",
            "Epoch 75/100\n",
            "1000/1000 [==============================] - 1s 838us/step - loss: 4.7059 - val_loss: 3.7751\n",
            "Epoch 76/100\n",
            "1000/1000 [==============================] - 1s 822us/step - loss: 4.9765 - val_loss: 2.9527\n",
            "Epoch 77/100\n",
            "1000/1000 [==============================] - 1s 838us/step - loss: 4.9780 - val_loss: 4.0155\n",
            "Epoch 78/100\n",
            "1000/1000 [==============================] - 1s 817us/step - loss: 4.7621 - val_loss: 3.0289\n",
            "Epoch 79/100\n",
            "1000/1000 [==============================] - 1s 850us/step - loss: 4.4874 - val_loss: 3.0518\n",
            "Epoch 80/100\n",
            "1000/1000 [==============================] - 1s 885us/step - loss: 4.6628 - val_loss: 3.3478\n",
            "Epoch 81/100\n",
            "1000/1000 [==============================] - 1s 844us/step - loss: 4.4515 - val_loss: 3.9972\n",
            "Epoch 82/100\n",
            "1000/1000 [==============================] - 1s 821us/step - loss: 4.3398 - val_loss: 2.3737\n",
            "Epoch 83/100\n",
            "1000/1000 [==============================] - 1s 807us/step - loss: 4.3126 - val_loss: 2.9906\n",
            "Epoch 84/100\n",
            "1000/1000 [==============================] - 1s 820us/step - loss: 4.1538 - val_loss: 3.5937\n",
            "Epoch 85/100\n",
            "1000/1000 [==============================] - 1s 850us/step - loss: 4.5662 - val_loss: 3.5838\n",
            "Epoch 86/100\n",
            "1000/1000 [==============================] - 1s 819us/step - loss: 4.7112 - val_loss: 2.7028\n",
            "Epoch 87/100\n",
            "1000/1000 [==============================] - 1s 793us/step - loss: 4.1958 - val_loss: 2.6409\n",
            "Epoch 88/100\n",
            "1000/1000 [==============================] - 1s 821us/step - loss: 4.3630 - val_loss: 2.3377\n",
            "Epoch 89/100\n",
            "1000/1000 [==============================] - 1s 827us/step - loss: 4.7835 - val_loss: 2.5040\n",
            "Epoch 90/100\n",
            "1000/1000 [==============================] - 1s 815us/step - loss: 4.2548 - val_loss: 6.6520\n",
            "Epoch 91/100\n",
            "1000/1000 [==============================] - 1s 843us/step - loss: 4.2467 - val_loss: 3.4546\n",
            "Epoch 92/100\n",
            "1000/1000 [==============================] - 1s 837us/step - loss: 4.7763 - val_loss: 2.3239\n",
            "Epoch 93/100\n",
            "1000/1000 [==============================] - 1s 848us/step - loss: 4.4514 - val_loss: 2.0743\n",
            "Epoch 94/100\n",
            "1000/1000 [==============================] - 1s 832us/step - loss: 4.4339 - val_loss: 3.1680\n",
            "Epoch 95/100\n",
            "1000/1000 [==============================] - 1s 818us/step - loss: 4.3927 - val_loss: 2.6591\n",
            "Epoch 96/100\n",
            "1000/1000 [==============================] - 1s 786us/step - loss: 4.5499 - val_loss: 2.8144\n",
            "Epoch 97/100\n",
            "1000/1000 [==============================] - 1s 819us/step - loss: 4.1785 - val_loss: 2.1744\n",
            "Epoch 98/100\n",
            "1000/1000 [==============================] - 1s 811us/step - loss: 4.3618 - val_loss: 2.5377\n",
            "Epoch 99/100\n",
            "1000/1000 [==============================] - 1s 802us/step - loss: 4.5168 - val_loss: 3.6205\n",
            "Epoch 100/100\n",
            "1000/1000 [==============================] - 1s 824us/step - loss: 4.5668 - val_loss: 2.2751\n"
          ],
          "name": "stdout"
        }
      ]
    },
    {
      "cell_type": "code",
      "metadata": {
        "id": "C3zFLC3xUaTd",
        "colab_type": "code",
        "colab": {
          "base_uri": "https://localhost:8080/",
          "height": 282
        },
        "outputId": "a54b40b3-68ac-4b2f-840b-b64c10baa76d"
      },
      "source": [
        "tr_loss = history2.history['loss']\n",
        "val_loss = history2.history['val_loss']\n",
        "ep = list(range(1,101))\n",
        "plt.plot(ep,tr_loss,color='r')\n",
        "plt.plot(ep,val_loss,color='b')"
      ],
      "execution_count": 45,
      "outputs": [
        {
          "output_type": "execute_result",
          "data": {
            "text/plain": [
              "[<matplotlib.lines.Line2D at 0x7f0419adc240>]"
            ]
          },
          "metadata": {
            "tags": []
          },
          "execution_count": 45
        },
        {
          "output_type": "display_data",
          "data": {
            "image/png": "[encoded data removed]",
            "text/plain": [
              "<Figure size 432x288 with 1 Axes>"
            ]
          },
          "metadata": {
            "tags": [],
            "needs_background": "light"
          }
        }
      ]
    },
    {
      "cell_type": "markdown",
      "metadata": {
        "id": "fg8afsZ1VEKr",
        "colab_type": "text"
      },
      "source": [
        "- Get the data\n",
        "- what is the target\n",
        "- Take the target and observe downtrend or uptrend\n",
        "- Create input(features) and ouputs(target)\n",
        "- Train_test_split\n",
        "- Apply scaling if it required\n",
        "- Reshape the inputs\n",
        "- Create a Model\n",
        "- Compile the model with the proper optimizer and loss\n",
        "- Metrics =['mse','mae']\n",
        "- Evaluate the model with test data\n",
        "- compare the results\n",
        "- Check for overfitting and underfitting\n",
        "- If It is an overfitted model apply dropout. or check another model"
      ]
    },
    {
      "cell_type": "code",
      "metadata": {
        "id": "4t32HAb_U6a0",
        "colab_type": "code",
        "colab": {}
      },
      "source": [
        ""
      ],
      "execution_count": null,
      "outputs": []
    },
    {
      "cell_type": "code",
      "metadata": {
        "id": "dAsukmGeVC3g",
        "colab_type": "code",
        "colab": {}
      },
      "source": [
        ""
      ],
      "execution_count": null,
      "outputs": []
    }
  ]
}