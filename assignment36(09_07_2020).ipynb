{
  "nbformat": 4,
  "nbformat_minor": 0,
  "metadata": {
    "colab": {
      "name": "assignment36(09-07-2020)",
      "provenance": [],
      "collapsed_sections": []
    },
    "kernelspec": {
      "name": "python3",
      "display_name": "Python 3"
    }
  },
  "cells": [
    {
      "cell_type": "markdown",
      "metadata": {
        "id": "VU29PMYsXQmh",
        "colab_type": "text"
      },
      "source": [
        "### CSE-221710304062-Vaishnavi.B"
      ]
    },
    {
      "cell_type": "code",
      "metadata": {
        "id": "_pwpThqQW5Xt",
        "colab_type": "code",
        "colab": {
          "base_uri": "https://localhost:8080/",
          "height": 34
        },
        "outputId": "1c1ac5a0-2b02-426b-f989-4c2d93614bd4"
      },
      "source": [
        "import numpy as np\n",
        "import tensorflow as tf\n",
        "import tensorflow.keras as keras\n",
        "import pandas as pd\n",
        "from keras.datasets.mnist import load_data\n",
        "import matplotlib.pyplot as plt\n",
        "%matplotlib inline"
      ],
      "execution_count": 1,
      "outputs": [
        {
          "output_type": "stream",
          "text": [
            "Using TensorFlow backend.\n"
          ],
          "name": "stderr"
        }
      ]
    },
    {
      "cell_type": "code",
      "metadata": {
        "id": "zVYJJYgrXcSQ",
        "colab_type": "code",
        "colab": {
          "base_uri": "https://localhost:8080/",
          "height": 84
        },
        "outputId": "57bc9d6b-5e41-4114-fa4a-6ca6c3818fc5"
      },
      "source": [
        "(train_digits,train_labels),(test_digits,test_labels)=load_data()\n",
        "print(train_digits.shape)\n",
        "print(test_digits.shape)"
      ],
      "execution_count": 2,
      "outputs": [
        {
          "output_type": "stream",
          "text": [
            "Downloading data from https://s3.amazonaws.com/img-datasets/mnist.npz\n",
            "11493376/11490434 [==============================] - 1s 0us/step\n",
            "(60000, 28, 28)\n",
            "(10000, 28, 28)\n"
          ],
          "name": "stdout"
        }
      ]
    },
    {
      "cell_type": "code",
      "metadata": {
        "id": "uLR8ZKOBXiRI",
        "colab_type": "code",
        "colab": {
          "base_uri": "https://localhost:8080/",
          "height": 34
        },
        "outputId": "ecc5866e-58a6-4028-8a1a-a266e6b3cc13"
      },
      "source": [
        "type(train_labels)"
      ],
      "execution_count": 3,
      "outputs": [
        {
          "output_type": "execute_result",
          "data": {
            "text/plain": [
              "numpy.ndarray"
            ]
          },
          "metadata": {
            "tags": []
          },
          "execution_count": 3
        }
      ]
    },
    {
      "cell_type": "code",
      "metadata": {
        "id": "dzaX7N_SXmro",
        "colab_type": "code",
        "colab": {
          "base_uri": "https://localhost:8080/",
          "height": 218
        },
        "outputId": "5692b02c-4c66-46e8-8aa0-3f4e94de27bd"
      },
      "source": [
        "pd.Series(train_labels).value_counts"
      ],
      "execution_count": 4,
      "outputs": [
        {
          "output_type": "execute_result",
          "data": {
            "text/plain": [
              "<bound method IndexOpsMixin.value_counts of 0        5\n",
              "1        0\n",
              "2        4\n",
              "3        1\n",
              "4        9\n",
              "        ..\n",
              "59995    8\n",
              "59996    3\n",
              "59997    5\n",
              "59998    6\n",
              "59999    8\n",
              "Length: 60000, dtype: uint8>"
            ]
          },
          "metadata": {
            "tags": []
          },
          "execution_count": 4
        }
      ]
    },
    {
      "cell_type": "code",
      "metadata": {
        "id": "28tIOkLXXped",
        "colab_type": "code",
        "colab": {
          "base_uri": "https://localhost:8080/",
          "height": 218
        },
        "outputId": "905ca73c-9c2c-4841-e2c1-5c2b6d77e296"
      },
      "source": [
        "pd.Series(test_labels).value_counts"
      ],
      "execution_count": 5,
      "outputs": [
        {
          "output_type": "execute_result",
          "data": {
            "text/plain": [
              "<bound method IndexOpsMixin.value_counts of 0       7\n",
              "1       2\n",
              "2       1\n",
              "3       0\n",
              "4       4\n",
              "       ..\n",
              "9995    2\n",
              "9996    3\n",
              "9997    4\n",
              "9998    5\n",
              "9999    6\n",
              "Length: 10000, dtype: uint8>"
            ]
          },
          "metadata": {
            "tags": []
          },
          "execution_count": 5
        }
      ]
    },
    {
      "cell_type": "code",
      "metadata": {
        "id": "Igi794PpXse6",
        "colab_type": "code",
        "colab": {
          "base_uri": "https://localhost:8080/",
          "height": 282
        },
        "outputId": "d4b31ad3-2dbe-4969-8c24-01e1d128cdab"
      },
      "source": [
        "plt.imshow(train_digits[0])"
      ],
      "execution_count": 6,
      "outputs": [
        {
          "output_type": "execute_result",
          "data": {
            "text/plain": [
              "<matplotlib.image.AxesImage at 0x7fa079ea8ef0>"
            ]
          },
          "metadata": {
            "tags": []
          },
          "execution_count": 6
        },
        {
          "output_type": "display_data",
          "data": {
            "image/png": "[encoded data removed]",
            "text/plain": [
              "<Figure size 432x288 with 1 Axes>"
            ]
          },
          "metadata": {
            "tags": [],
            "needs_background": "light"
          }
        }
      ]
    },
    {
      "cell_type": "code",
      "metadata": {
        "id": "xF2ShBaMXvqq",
        "colab_type": "code",
        "colab": {
          "base_uri": "https://localhost:8080/",
          "height": 50
        },
        "outputId": "3b8c2c11-6874-4997-8a57-8c3d1ad0601f"
      },
      "source": [
        "sample=np.random.randint(train_digits.shape[0],size=16)\n",
        "sample"
      ],
      "execution_count": 7,
      "outputs": [
        {
          "output_type": "execute_result",
          "data": {
            "text/plain": [
              "array([24359, 39473, 36059, 28655, 39611, 13102, 50197, 52815, 18434,\n",
              "        7254, 25941, 27048, 54555, 58734, 25920, 47970])"
            ]
          },
          "metadata": {
            "tags": []
          },
          "execution_count": 7
        }
      ]
    },
    {
      "cell_type": "code",
      "metadata": {
        "id": "XS_09T8PXyoL",
        "colab_type": "code",
        "colab": {
          "base_uri": "https://localhost:8080/",
          "height": 917
        },
        "outputId": "18ab59be-4c10-4631-df73-498bc67117ec"
      },
      "source": [
        "plt.figure(figsize=(16,16))\n",
        "j=1\n",
        "for i in sample:\n",
        "  plt.subplot(4,4,j)\n",
        "  plt.imshow(train_digits[i])\n",
        "  plt.title(\"Digit:\"+str(train_labels[i]))\n",
        "  plt.axis(\"off\")\n",
        "  j += 1"
      ],
      "execution_count": 8,
      "outputs": [
        {
          "output_type": "display_data",
          "data": {
            "image/png": "[encoded data removed]",
            "text/plain": [
              "<Figure size 1152x1152 with 16 Axes>"
            ]
          },
          "metadata": {
            "tags": [],
            "needs_background": "light"
          }
        }
      ]
    },
    {
      "cell_type": "code",
      "metadata": {
        "id": "SUtKUXY8X1mn",
        "colab_type": "code",
        "colab": {
          "base_uri": "https://localhost:8080/",
          "height": 101
        },
        "outputId": "7744664e-b896-44c0-e68c-cddce118a590"
      },
      "source": [
        "train_digits[0][5:10,22:25]"
      ],
      "execution_count": 9,
      "outputs": [
        {
          "output_type": "execute_result",
          "data": {
            "text/plain": [
              "array([[247, 127,   0],\n",
              "       [195,  64,   0],\n",
              "       [ 39,   0,   0],\n",
              "       [  0,   0,   0],\n",
              "       [  0,   0,   0]], dtype=uint8)"
            ]
          },
          "metadata": {
            "tags": []
          },
          "execution_count": 9
        }
      ]
    },
    {
      "cell_type": "code",
      "metadata": {
        "id": "eP2nso8XX5MJ",
        "colab_type": "code",
        "colab": {}
      },
      "source": [
        "train_digits_sc=train_digits/255.0\n",
        "test_digits_sc=test_digits/255.0"
      ],
      "execution_count": 10,
      "outputs": []
    },
    {
      "cell_type": "code",
      "metadata": {
        "id": "hznI__VtX8My",
        "colab_type": "code",
        "colab": {
          "base_uri": "https://localhost:8080/",
          "height": 34
        },
        "outputId": "6e4de6fc-5468-4e6b-f76a-a72a245a6187"
      },
      "source": [
        "from keras.utils import to_categorical\n",
        "train_labels_cat = to_categorical(train_labels)\n",
        "test_labels_cat=to_categorical(test_labels)\n",
        "train_labels_cat[0]"
      ],
      "execution_count": 11,
      "outputs": [
        {
          "output_type": "execute_result",
          "data": {
            "text/plain": [
              "array([0., 0., 0., 0., 0., 1., 0., 0., 0., 0.], dtype=float32)"
            ]
          },
          "metadata": {
            "tags": []
          },
          "execution_count": 11
        }
      ]
    },
    {
      "cell_type": "code",
      "metadata": {
        "id": "8xXp5IWAX_Kl",
        "colab_type": "code",
        "colab": {
          "base_uri": "https://localhost:8080/",
          "height": 34
        },
        "outputId": "fb0b602c-3d87-4b18-fe40-083b47c82ebd"
      },
      "source": [
        "test_labels_cat = to_categorical(test_labels)\n",
        "test_labels_cat[9]"
      ],
      "execution_count": 12,
      "outputs": [
        {
          "output_type": "execute_result",
          "data": {
            "text/plain": [
              "array([0., 0., 0., 0., 0., 0., 0., 0., 0., 1.], dtype=float32)"
            ]
          },
          "metadata": {
            "tags": []
          },
          "execution_count": 12
        }
      ]
    },
    {
      "cell_type": "code",
      "metadata": {
        "id": "f8gnKQYhYCGx",
        "colab_type": "code",
        "colab": {
          "base_uri": "https://localhost:8080/",
          "height": 84
        },
        "outputId": "422aee95-9e37-4756-93be-25dfde79e78b"
      },
      "source": [
        "from sklearn.model_selection import train_test_split\n",
        "x_train,x_val,y_train,y_val=train_test_split(train_digits_sc,train_labels_cat,test_size=0.1,random_state=32)\n",
        "print(x_train.shape)\n",
        "print(x_val.shape)\n",
        "print(y_train.shape)\n",
        "print(y_val.shape)"
      ],
      "execution_count": 13,
      "outputs": [
        {
          "output_type": "stream",
          "text": [
            "(54000, 28, 28)\n",
            "(6000, 28, 28)\n",
            "(54000, 10)\n",
            "(6000, 10)\n"
          ],
          "name": "stdout"
        }
      ]
    },
    {
      "cell_type": "code",
      "metadata": {
        "id": "biN1R3FdYFEJ",
        "colab_type": "code",
        "colab": {}
      },
      "source": [
        ""
      ],
      "execution_count": null,
      "outputs": []
    },
    {
      "cell_type": "markdown",
      "metadata": {
        "id": "zsyLrGoSYIM6",
        "colab_type": "text"
      },
      "source": [
        "### Model1"
      ]
    },
    {
      "cell_type": "code",
      "metadata": {
        "id": "kMFUuHBfYJ-U",
        "colab_type": "code",
        "colab": {
          "base_uri": "https://localhost:8080/",
          "height": 353
        },
        "outputId": "5607ac82-2006-4e3b-d82a-61db169f3606"
      },
      "source": [
        "from keras.models import Sequential\n",
        "from keras.layers import Dense,Flatten\n",
        "\n",
        "model = Sequential()\n",
        "# first layer we need to mention the input shape\n",
        "\n",
        "model.add(Flatten(input_shape=(28,28)))\n",
        "## 784 pixel values as input to this Dense. 128 Neurons in the layers\n",
        "model.add(Dense(128,activation='relu'))# 784 * 128+128\n",
        "model.add(Dense(128,activation='relu'))# \n",
        "model.add(Dense(64,activation='relu'))\n",
        "model.add(Dense(256,activation='relu'))\n",
        "#Final layer\n",
        "model.add(Dense(10,activation='softmax'))\n",
        "model.summary()"
      ],
      "execution_count": 14,
      "outputs": [
        {
          "output_type": "stream",
          "text": [
            "Model: \"sequential_1\"\n",
            "_________________________________________________________________\n",
            "Layer (type)                 Output Shape              Param #   \n",
            "=================================================================\n",
            "flatten_1 (Flatten)          (None, 784)               0         \n",
            "_________________________________________________________________\n",
            "dense_1 (Dense)              (None, 128)               100480    \n",
            "_________________________________________________________________\n",
            "dense_2 (Dense)              (None, 128)               16512     \n",
            "_________________________________________________________________\n",
            "dense_3 (Dense)              (None, 64)                8256      \n",
            "_________________________________________________________________\n",
            "dense_4 (Dense)              (None, 256)               16640     \n",
            "_________________________________________________________________\n",
            "dense_5 (Dense)              (None, 10)                2570      \n",
            "=================================================================\n",
            "Total params: 144,458\n",
            "Trainable params: 144,458\n",
            "Non-trainable params: 0\n",
            "_________________________________________________________________\n"
          ],
          "name": "stdout"
        }
      ]
    },
    {
      "cell_type": "code",
      "metadata": {
        "id": "jt3driCSYMvp",
        "colab_type": "code",
        "colab": {
          "base_uri": "https://localhost:8080/",
          "height": 202
        },
        "outputId": "cf3a0d36-c928-4993-9f33-a57f980bec21"
      },
      "source": [
        "model.compile(optimizer='adam',loss=tf.keras.losses.CategoricalCrossentropy(),metrics=['accuracy'])\n",
        "history=model.fit(x=x_train,y=y_train,epochs=5,validation_data=(x_val,y_val),batch_size=32)"
      ],
      "execution_count": 15,
      "outputs": [
        {
          "output_type": "stream",
          "text": [
            "Train on 54000 samples, validate on 6000 samples\n",
            "Epoch 1/5\n",
            "54000/54000 [==============================] - 6s 116us/step - loss: 0.2432 - accuracy: 0.9263 - val_loss: 0.1313 - val_accuracy: 0.9602\n",
            "Epoch 2/5\n",
            "54000/54000 [==============================] - 6s 110us/step - loss: 0.1081 - accuracy: 0.9677 - val_loss: 0.1274 - val_accuracy: 0.9648\n",
            "Epoch 3/5\n",
            "54000/54000 [==============================] - 6s 111us/step - loss: 0.0819 - accuracy: 0.9747 - val_loss: 0.1335 - val_accuracy: 0.9660\n",
            "Epoch 4/5\n",
            "54000/54000 [==============================] - 6s 108us/step - loss: 0.0650 - accuracy: 0.9797 - val_loss: 0.1007 - val_accuracy: 0.9703\n",
            "Epoch 5/5\n",
            "54000/54000 [==============================] - 6s 109us/step - loss: 0.0524 - accuracy: 0.9840 - val_loss: 0.1163 - val_accuracy: 0.9695\n"
          ],
          "name": "stdout"
        }
      ]
    },
    {
      "cell_type": "code",
      "metadata": {
        "id": "yu-pBz2sYQXB",
        "colab_type": "code",
        "colab": {
          "base_uri": "https://localhost:8080/",
          "height": 50
        },
        "outputId": "8fd2d0e8-7b47-4193-c730-b03bf515f438"
      },
      "source": [
        "model.evaluate(test_digits_sc,test_labels_cat)"
      ],
      "execution_count": 16,
      "outputs": [
        {
          "output_type": "stream",
          "text": [
            "10000/10000 [==============================] - 0s 30us/step\n"
          ],
          "name": "stdout"
        },
        {
          "output_type": "execute_result",
          "data": {
            "text/plain": [
              "[0.09756551927337423, 0.9736999869346619]"
            ]
          },
          "metadata": {
            "tags": []
          },
          "execution_count": 16
        }
      ]
    },
    {
      "cell_type": "code",
      "metadata": {
        "id": "0mIffw2vYb9e",
        "colab_type": "code",
        "colab": {
          "base_uri": "https://localhost:8080/",
          "height": 67
        },
        "outputId": "85b06d61-3a99-4328-87c9-0fe1ca3a5028"
      },
      "source": [
        "print(test_digits_sc.shape)\n",
        "print(test_digits_sc[0].shape)\n",
        "print(np.expand_dims(test_digits_sc[0],axis=0).shape)"
      ],
      "execution_count": 17,
      "outputs": [
        {
          "output_type": "stream",
          "text": [
            "(10000, 28, 28)\n",
            "(28, 28)\n",
            "(1, 28, 28)\n"
          ],
          "name": "stdout"
        }
      ]
    },
    {
      "cell_type": "code",
      "metadata": {
        "id": "LcZlRp4hYfqL",
        "colab_type": "code",
        "colab": {
          "base_uri": "https://localhost:8080/",
          "height": 67
        },
        "outputId": "6ec6b3be-3bac-4a85-9c0a-9922782cf50c"
      },
      "source": [
        "model.predict(np.expand_dims(test_digits_sc[0],axis=0))"
      ],
      "execution_count": 18,
      "outputs": [
        {
          "output_type": "execute_result",
          "data": {
            "text/plain": [
              "array([[3.5063689e-08, 8.1894805e-06, 2.8550094e-05, 2.6063122e-05,\n",
              "        3.2696715e-07, 3.8232824e-07, 1.0128249e-10, 9.9889022e-01,\n",
              "        3.8084183e-06, 1.0423594e-03]], dtype=float32)"
            ]
          },
          "metadata": {
            "tags": []
          },
          "execution_count": 18
        }
      ]
    },
    {
      "cell_type": "code",
      "metadata": {
        "id": "9xu9HN_DYjF2",
        "colab_type": "code",
        "colab": {
          "base_uri": "https://localhost:8080/",
          "height": 521
        },
        "outputId": "7a6b27b2-b071-48ee-f14e-6e2c6a4b5114"
      },
      "source": [
        "model.predict(test_digits_sc[:10])"
      ],
      "execution_count": 19,
      "outputs": [
        {
          "output_type": "execute_result",
          "data": {
            "text/plain": [
              "array([[3.50637528e-08, 8.18949593e-06, 2.85501210e-05, 2.60631477e-05,\n",
              "        3.26967466e-07, 3.82328579e-07, 1.01282878e-10, 9.98890221e-01,\n",
              "        3.80842198e-06, 1.04236091e-03],\n",
              "       [6.07989890e-08, 6.45844196e-08, 9.99999404e-01, 3.18345229e-07,\n",
              "        2.42050491e-10, 2.63424371e-09, 9.92432891e-09, 5.47098296e-08,\n",
              "        2.55227750e-08, 6.16406882e-14],\n",
              "       [8.44893918e-07, 9.99912024e-01, 4.37038943e-06, 1.04711987e-07,\n",
              "        5.60031958e-06, 3.93357413e-06, 1.24245089e-05, 2.54921724e-05,\n",
              "        3.39028484e-05, 1.20486050e-06],\n",
              "       [9.99949813e-01, 1.05702336e-09, 3.60056561e-06, 2.27354384e-08,\n",
              "        8.37375325e-08, 3.56556775e-08, 1.71291038e-06, 1.74295725e-08,\n",
              "        9.86999112e-07, 4.35919319e-05],\n",
              "       [2.11591851e-06, 8.82289314e-05, 1.04782985e-05, 4.21390780e-07,\n",
              "        9.95360076e-01, 1.30007975e-04, 2.40877343e-05, 3.39471968e-03,\n",
              "        1.74249435e-05, 9.72431444e-04],\n",
              "       [1.41684282e-08, 9.99994874e-01, 1.21572896e-07, 2.11879736e-09,\n",
              "        5.82004304e-07, 1.03739183e-07, 2.37015200e-07, 2.95457653e-06,\n",
              "        9.10549829e-07, 1.32804956e-07],\n",
              "       [3.72144740e-07, 3.07499286e-05, 1.76000121e-05, 6.35393576e-07,\n",
              "        9.99443948e-01, 2.70603759e-05, 4.87451325e-06, 2.14182306e-04,\n",
              "        8.29744677e-05, 1.77612485e-04],\n",
              "       [1.20578970e-05, 6.52016315e-04, 2.34741648e-03, 9.07732546e-03,\n",
              "        1.01227406e-03, 1.01529062e-03, 7.32313310e-07, 1.93965379e-02,\n",
              "        3.56544158e-03, 9.62920904e-01],\n",
              "       [8.11709378e-06, 5.94498424e-08, 1.91413307e-07, 3.49289166e-07,\n",
              "        1.07049073e-06, 1.65279564e-02, 9.82878327e-01, 6.46683151e-09,\n",
              "        5.81393018e-04, 2.58750515e-06],\n",
              "       [1.03256255e-07, 2.22460494e-06, 8.67603092e-08, 1.39526222e-07,\n",
              "        7.71468680e-04, 3.08140307e-06, 4.66145733e-10, 1.13018781e-04,\n",
              "        5.91866092e-06, 9.99103844e-01]], dtype=float32)"
            ]
          },
          "metadata": {
            "tags": []
          },
          "execution_count": 19
        }
      ]
    },
    {
      "cell_type": "code",
      "metadata": {
        "id": "xxNGpxLvYmNH",
        "colab_type": "code",
        "colab": {
          "base_uri": "https://localhost:8080/",
          "height": 34
        },
        "outputId": "438392b2-caa2-41bc-970b-89bb69c82dd8"
      },
      "source": [
        "model.predict_classes(np.expand_dims(test_digits_sc[0],axis=0))"
      ],
      "execution_count": 20,
      "outputs": [
        {
          "output_type": "execute_result",
          "data": {
            "text/plain": [
              "array([7])"
            ]
          },
          "metadata": {
            "tags": []
          },
          "execution_count": 20
        }
      ]
    },
    {
      "cell_type": "code",
      "metadata": {
        "id": "-e2NX-8dYrOR",
        "colab_type": "code",
        "colab": {
          "base_uri": "https://localhost:8080/",
          "height": 67
        },
        "outputId": "14ecf529-3163-4d1f-8588-a9a19392f58d"
      },
      "source": [
        "model.predict_proba(np.expand_dims(test_digits_sc[0],axis=0))"
      ],
      "execution_count": 21,
      "outputs": [
        {
          "output_type": "execute_result",
          "data": {
            "text/plain": [
              "array([[3.5063689e-08, 8.1894805e-06, 2.8550094e-05, 2.6063122e-05,\n",
              "        3.2696715e-07, 3.8232824e-07, 1.0128249e-10, 9.9889022e-01,\n",
              "        3.8084183e-06, 1.0423594e-03]], dtype=float32)"
            ]
          },
          "metadata": {
            "tags": []
          },
          "execution_count": 21
        }
      ]
    },
    {
      "cell_type": "code",
      "metadata": {
        "id": "wgHpfjeMYvLe",
        "colab_type": "code",
        "colab": {
          "base_uri": "https://localhost:8080/",
          "height": 286
        },
        "outputId": "f2b845ce-821e-461c-c3bc-68b91071a9c5"
      },
      "source": [
        "history.history"
      ],
      "execution_count": 22,
      "outputs": [
        {
          "output_type": "execute_result",
          "data": {
            "text/plain": [
              "{'accuracy': [0.9262593, 0.9677037, 0.9747037, 0.9796852, 0.984],\n",
              " 'loss': [0.2431506030683716,\n",
              "  0.10810416151776359,\n",
              "  0.08192410453771137,\n",
              "  0.0649827464330355,\n",
              "  0.052406293537014995],\n",
              " 'val_accuracy': [0.9601666927337646,\n",
              "  0.9648333191871643,\n",
              "  0.9660000205039978,\n",
              "  0.9703333377838135,\n",
              "  0.9695000052452087],\n",
              " 'val_loss': [0.13132603826125464,\n",
              "  0.1274277680714925,\n",
              "  0.13349787418233852,\n",
              "  0.10065851721105476,\n",
              "  0.11629423975447814]}"
            ]
          },
          "metadata": {
            "tags": []
          },
          "execution_count": 22
        }
      ]
    },
    {
      "cell_type": "code",
      "metadata": {
        "id": "O1Rs_VOeY01u",
        "colab_type": "code",
        "colab": {
          "base_uri": "https://localhost:8080/",
          "height": 282
        },
        "outputId": "e2766992-0a0f-434a-e9fe-637ee3cd32ed"
      },
      "source": [
        "plt.plot(history.history['accuracy'])\n",
        "plt.plot(history.history['val_accuracy'])"
      ],
      "execution_count": 23,
      "outputs": [
        {
          "output_type": "execute_result",
          "data": {
            "text/plain": [
              "[<matplotlib.lines.Line2D at 0x7fa079915da0>]"
            ]
          },
          "metadata": {
            "tags": []
          },
          "execution_count": 23
        },
        {
          "output_type": "display_data",
          "data": {
            "image/png": "[encoded data removed]",
            "text/plain": [
              "<Figure size 432x288 with 1 Axes>"
            ]
          },
          "metadata": {
            "tags": [],
            "needs_background": "light"
          }
        }
      ]
    },
    {
      "cell_type": "markdown",
      "metadata": {
        "id": "fme_7T6dY8ko",
        "colab_type": "text"
      },
      "source": [
        "### Model2"
      ]
    },
    {
      "cell_type": "code",
      "metadata": {
        "id": "Xxad2RoOY5hy",
        "colab_type": "code",
        "colab": {
          "base_uri": "https://localhost:8080/",
          "height": 353
        },
        "outputId": "9f01e3ac-75ae-4bfd-c240-310cf2c45b65"
      },
      "source": [
        "model1 = Sequential()\n",
        "# first layer we need to mention the input shape\n",
        "\n",
        "model1.add(Flatten(input_shape=(28,28)))\n",
        "## 784 pixel values as input to this Dense. 128 Neurons in the layers\n",
        "model1.add(Dense(128,activation='relu'))# 784 * 128+128\n",
        "model1.add(Dense(256,activation='relu'))# \n",
        "model1.add(Dense(64,activation='relu'))\n",
        "model1.add(Dense(256,activation='relu'))\n",
        "#Final layer\n",
        "model1.add(Dense(10,activation='sigmoid'))\n",
        "model1.summary()"
      ],
      "execution_count": 24,
      "outputs": [
        {
          "output_type": "stream",
          "text": [
            "Model: \"sequential_2\"\n",
            "_________________________________________________________________\n",
            "Layer (type)                 Output Shape              Param #   \n",
            "=================================================================\n",
            "flatten_2 (Flatten)          (None, 784)               0         \n",
            "_________________________________________________________________\n",
            "dense_6 (Dense)              (None, 128)               100480    \n",
            "_________________________________________________________________\n",
            "dense_7 (Dense)              (None, 256)               33024     \n",
            "_________________________________________________________________\n",
            "dense_8 (Dense)              (None, 64)                16448     \n",
            "_________________________________________________________________\n",
            "dense_9 (Dense)              (None, 256)               16640     \n",
            "_________________________________________________________________\n",
            "dense_10 (Dense)             (None, 10)                2570      \n",
            "=================================================================\n",
            "Total params: 169,162\n",
            "Trainable params: 169,162\n",
            "Non-trainable params: 0\n",
            "_________________________________________________________________\n"
          ],
          "name": "stdout"
        }
      ]
    },
    {
      "cell_type": "code",
      "metadata": {
        "id": "vFBnwOW3ZDlD",
        "colab_type": "code",
        "colab": {
          "base_uri": "https://localhost:8080/",
          "height": 202
        },
        "outputId": "9807cc93-15a7-4285-fac2-1b8c3d7ed6c7"
      },
      "source": [
        "model1.compile(optimizer='adam',loss=tf.keras.losses.CategoricalCrossentropy(),metrics=['accuracy'])\n",
        "history=model1.fit(x=x_train,y=y_train,epochs=5,validation_data=(x_val,y_val),batch_size=32)"
      ],
      "execution_count": 25,
      "outputs": [
        {
          "output_type": "stream",
          "text": [
            "Train on 54000 samples, validate on 6000 samples\n",
            "Epoch 1/5\n",
            "54000/54000 [==============================] - 7s 122us/step - loss: 0.2616 - accuracy: 0.9206 - val_loss: 0.1370 - val_accuracy: 0.9590\n",
            "Epoch 2/5\n",
            "54000/54000 [==============================] - 6s 117us/step - loss: 0.1114 - accuracy: 0.9662 - val_loss: 0.1120 - val_accuracy: 0.9693\n",
            "Epoch 3/5\n",
            "54000/54000 [==============================] - 6s 117us/step - loss: 0.0791 - accuracy: 0.9760 - val_loss: 0.1070 - val_accuracy: 0.9727\n",
            "Epoch 4/5\n",
            "54000/54000 [==============================] - 6s 116us/step - loss: 0.0630 - accuracy: 0.9802 - val_loss: 0.1031 - val_accuracy: 0.9728\n",
            "Epoch 5/5\n",
            "54000/54000 [==============================] - 6s 117us/step - loss: 0.0524 - accuracy: 0.9845 - val_loss: 0.1145 - val_accuracy: 0.9718\n"
          ],
          "name": "stdout"
        }
      ]
    },
    {
      "cell_type": "code",
      "metadata": {
        "id": "gZGoC-DeZHWd",
        "colab_type": "code",
        "colab": {
          "base_uri": "https://localhost:8080/",
          "height": 50
        },
        "outputId": "c3a53e5b-5bff-468b-9fb7-bd7c596c54ae"
      },
      "source": [
        "model1.evaluate(test_digits_sc,test_labels_cat)"
      ],
      "execution_count": 26,
      "outputs": [
        {
          "output_type": "stream",
          "text": [
            "10000/10000 [==============================] - 0s 29us/step\n"
          ],
          "name": "stdout"
        },
        {
          "output_type": "execute_result",
          "data": {
            "text/plain": [
              "[0.10895154207658489, 0.9704999923706055]"
            ]
          },
          "metadata": {
            "tags": []
          },
          "execution_count": 26
        }
      ]
    },
    {
      "cell_type": "code",
      "metadata": {
        "id": "5kAnSTg-ZP8W",
        "colab_type": "code",
        "colab": {
          "base_uri": "https://localhost:8080/",
          "height": 67
        },
        "outputId": "0a9b8aab-949f-4999-928b-df11ca183588"
      },
      "source": [
        "print(test_digits_sc.shape)\n",
        "print(test_digits_sc[0].shape)\n",
        "print(np.expand_dims(test_digits_sc[0],axis=0).shape)"
      ],
      "execution_count": 27,
      "outputs": [
        {
          "output_type": "stream",
          "text": [
            "(10000, 28, 28)\n",
            "(28, 28)\n",
            "(1, 28, 28)\n"
          ],
          "name": "stdout"
        }
      ]
    },
    {
      "cell_type": "code",
      "metadata": {
        "id": "QIGpWJnJZTHY",
        "colab_type": "code",
        "colab": {
          "base_uri": "https://localhost:8080/",
          "height": 67
        },
        "outputId": "efb097a4-8694-4739-89dd-c14600ec7b22"
      },
      "source": [
        "model1.predict(np.expand_dims(test_digits_sc[0],axis=0))"
      ],
      "execution_count": 28,
      "outputs": [
        {
          "output_type": "execute_result",
          "data": {
            "text/plain": [
              "array([[2.9032852e-09, 6.5156087e-08, 3.3629400e-05, 1.2641876e-05,\n",
              "        5.7497850e-08, 1.1940697e-09, 1.9795558e-12, 9.9999869e-01,\n",
              "        1.1941295e-08, 4.0934665e-06]], dtype=float32)"
            ]
          },
          "metadata": {
            "tags": []
          },
          "execution_count": 28
        }
      ]
    },
    {
      "cell_type": "code",
      "metadata": {
        "id": "rwmZhPSmZV7l",
        "colab_type": "code",
        "colab": {
          "base_uri": "https://localhost:8080/",
          "height": 521
        },
        "outputId": "ade456b1-99d6-469c-ee38-9765429f9d02"
      },
      "source": [
        "model1.predict(test_digits_sc[:10])"
      ],
      "execution_count": 29,
      "outputs": [
        {
          "output_type": "execute_result",
          "data": {
            "text/plain": [
              "array([[2.90328517e-09, 6.51559589e-08, 3.36293997e-05, 1.26419000e-05,\n",
              "        5.74977399e-08, 1.19406751e-09, 1.97955584e-12, 9.99998689e-01,\n",
              "        1.19413190e-08, 4.09346649e-06],\n",
              "       [2.56147672e-08, 2.05673388e-07, 1.00000000e+00, 6.43158558e-08,\n",
              "        6.25889243e-08, 2.88396951e-08, 5.16444310e-09, 7.47991962e-08,\n",
              "        5.42377121e-09, 2.55344391e-11],\n",
              "       [1.77402774e-06, 9.90565717e-01, 1.56462193e-04, 9.53717972e-07,\n",
              "        9.92878558e-05, 3.32981348e-04, 1.48355961e-04, 1.04227420e-05,\n",
              "        5.79903062e-05, 4.22732819e-06],\n",
              "       [9.99953747e-01, 7.53838449e-08, 8.38187987e-07, 6.09175117e-07,\n",
              "        9.86429427e-07, 4.76710784e-06, 1.66003574e-05, 1.97855570e-06,\n",
              "        2.05413949e-06, 2.79569781e-06],\n",
              "       [1.97055634e-08, 4.18202660e-07, 4.49781783e-06, 7.57369012e-09,\n",
              "        9.99968052e-01, 6.21440108e-07, 2.82011661e-06, 2.42537044e-06,\n",
              "        1.68447372e-07, 1.07101645e-04],\n",
              "       [1.32760050e-07, 9.98807907e-01, 6.03287026e-06, 3.64495598e-08,\n",
              "        2.13575840e-05, 8.81826691e-06, 1.34187155e-06, 2.62682852e-06,\n",
              "        1.84516671e-06, 5.31994658e-07],\n",
              "       [1.77215238e-08, 8.18381432e-06, 1.79529190e-04, 2.33832125e-07,\n",
              "        9.99001503e-01, 6.91538116e-06, 5.24676989e-06, 5.30976904e-05,\n",
              "        1.23947859e-04, 1.21645964e-04],\n",
              "       [1.69398162e-09, 4.30357749e-10, 1.33344500e-07, 1.95276825e-05,\n",
              "        1.20439324e-06, 1.79604388e-06, 4.21456462e-13, 5.28187002e-07,\n",
              "        3.31042327e-09, 9.99883592e-01],\n",
              "       [8.33061833e-08, 2.26873986e-09, 5.94168739e-07, 7.97828420e-07,\n",
              "        2.97106340e-07, 9.86776948e-01, 4.60877240e-01, 6.99638292e-10,\n",
              "        2.08189408e-06, 3.58992497e-06],\n",
              "       [1.67843059e-10, 4.71587547e-10, 3.18867919e-08, 9.42586595e-08,\n",
              "        6.30766153e-04, 7.86086396e-09, 1.01100020e-12, 1.26497980e-07,\n",
              "        1.60850133e-09, 9.99880195e-01]], dtype=float32)"
            ]
          },
          "metadata": {
            "tags": []
          },
          "execution_count": 29
        }
      ]
    },
    {
      "cell_type": "code",
      "metadata": {
        "id": "vld95tYEZZDA",
        "colab_type": "code",
        "colab": {
          "base_uri": "https://localhost:8080/",
          "height": 34
        },
        "outputId": "72e8d23f-b20e-4d66-f272-d8b474e270b5"
      },
      "source": [
        "model1.predict_classes(np.expand_dims(test_digits_sc[0],axis=0))"
      ],
      "execution_count": 30,
      "outputs": [
        {
          "output_type": "execute_result",
          "data": {
            "text/plain": [
              "array([7])"
            ]
          },
          "metadata": {
            "tags": []
          },
          "execution_count": 30
        }
      ]
    },
    {
      "cell_type": "code",
      "metadata": {
        "id": "fpHWubW2ZcVP",
        "colab_type": "code",
        "colab": {
          "base_uri": "https://localhost:8080/",
          "height": 67
        },
        "outputId": "4eefdb2d-5507-4d04-8e05-9846b023b242"
      },
      "source": [
        "model1.predict_proba(np.expand_dims(test_digits_sc[0],axis=0))"
      ],
      "execution_count": 31,
      "outputs": [
        {
          "output_type": "execute_result",
          "data": {
            "text/plain": [
              "array([[2.9032852e-09, 6.5156087e-08, 3.3629400e-05, 1.2641876e-05,\n",
              "        5.7497850e-08, 1.1940697e-09, 1.9795558e-12, 9.9999869e-01,\n",
              "        1.1941295e-08, 4.0934665e-06]], dtype=float32)"
            ]
          },
          "metadata": {
            "tags": []
          },
          "execution_count": 31
        }
      ]
    },
    {
      "cell_type": "code",
      "metadata": {
        "id": "krtmaqocZgx_",
        "colab_type": "code",
        "colab": {
          "base_uri": "https://localhost:8080/",
          "height": 286
        },
        "outputId": "940070b0-b796-422c-bd99-10d66a11a9cb"
      },
      "source": [
        "history.history"
      ],
      "execution_count": 32,
      "outputs": [
        {
          "output_type": "execute_result",
          "data": {
            "text/plain": [
              "{'accuracy': [0.9206111, 0.9661852, 0.9759815, 0.98024076, 0.984463],\n",
              " 'loss': [0.2616167579646464,\n",
              "  0.11137858322042006,\n",
              "  0.07909792387899425,\n",
              "  0.06300770175953706,\n",
              "  0.0523975230651235],\n",
              " 'val_accuracy': [0.9589999914169312,\n",
              "  0.9693333506584167,\n",
              "  0.9726666808128357,\n",
              "  0.9728333353996277,\n",
              "  0.971833348274231],\n",
              " 'val_loss': [0.13704036620507637,\n",
              "  0.1119897210697333,\n",
              "  0.10696630862976114,\n",
              "  0.10308430087504288,\n",
              "  0.11452092653140426]}"
            ]
          },
          "metadata": {
            "tags": []
          },
          "execution_count": 32
        }
      ]
    },
    {
      "cell_type": "code",
      "metadata": {
        "id": "utxxfFT1ZkV4",
        "colab_type": "code",
        "colab": {
          "base_uri": "https://localhost:8080/",
          "height": 282
        },
        "outputId": "4ac5a2f0-01ad-4be5-c210-497bc0183d58"
      },
      "source": [
        "plt.plot(history.history['accuracy'])\n",
        "plt.plot(history.history['val_accuracy'])"
      ],
      "execution_count": 33,
      "outputs": [
        {
          "output_type": "execute_result",
          "data": {
            "text/plain": [
              "[<matplotlib.lines.Line2D at 0x7fa0796b5cf8>]"
            ]
          },
          "metadata": {
            "tags": []
          },
          "execution_count": 33
        },
        {
          "output_type": "display_data",
          "data": {
            "image/png": "[encoded data removed]",
            "text/plain": [
              "<Figure size 432x288 with 1 Axes>"
            ]
          },
          "metadata": {
            "tags": [],
            "needs_background": "light"
          }
        }
      ]
    },
    {
      "cell_type": "markdown",
      "metadata": {
        "id": "6GYxxt7rZsLP",
        "colab_type": "text"
      },
      "source": [
        "- The accuarcy and Val_Accuracy of the model 1 is :[0.10071307541152345, 0. 9724000096321106]\n",
        "\n",
        "- The accuarcy andVal_Accuracy of the model 2 is :[0.10321083835801109, 0.9724000096321106]\n",
        "\n",
        "- Hence model 2 is best than model 1"
      ]
    },
    {
      "cell_type": "code",
      "metadata": {
        "id": "ESUINjVEZnuc",
        "colab_type": "code",
        "colab": {}
      },
      "source": [
        ""
      ],
      "execution_count": null,
      "outputs": []
    }
  ]
}