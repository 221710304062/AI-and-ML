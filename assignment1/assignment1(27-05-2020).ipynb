{
 "cells": [
  {
   "cell_type": "code",
   "execution_count": 1,
   "metadata": {},
   "outputs": [
    {
     "name": "stdout",
     "output_type": "stream",
     "text": [
      "* \r\n",
      "* * \r\n",
      "* * * \r\n",
      "* * * * \r\n",
      "* * * * * \r\n"
     ]
    }
   ],
   "source": [
    "#PATTERN\n",
    "for i in range(0,5):\n",
    "    for j in range(0,i+1):\n",
    "        print(\"* \",end=\"\")\n",
    "    print(\"\\r\")\n"
   ]
  },
  {
   "cell_type": "code",
   "execution_count": 2,
   "metadata": {},
   "outputs": [
    {
     "name": "stdout",
     "output_type": "stream",
     "text": [
      "Enter K value:5\n",
      "enter range:7\n",
      "5 x 1 = 5\n",
      "5 x 2 = 10\n",
      "5 x 3 = 15\n",
      "5 x 4 = 20\n",
      "5 x 5 = 25\n",
      "5 x 6 = 30\n"
     ]
    }
   ],
   "source": [
    "#MULTIPLICATION UPTO K\n",
    "k=int(input(\"Enter K value:\"))\n",
    "n=int(input(\"enter range:\"))\n",
    "for i in range(1,n):\n",
    "    print(k,\"x\",i,\"=\",k*i)\n"
   ]
  },
  {
   "cell_type": "code",
   "execution_count": 3,
   "metadata": {},
   "outputs": [
    {
     "name": "stdout",
     "output_type": "stream",
     "text": [
      "5\n",
      "1,1,2,3,5,"
     ]
    }
   ],
   "source": [
    "#FIBONACCI SERIES\n",
    "n=int(input( '' ))\n",
    "f1=0\n",
    "f2=1\n",
    "if(n>1):\n",
    "    for x in range(0,n):\n",
    "        print(f2,end=',')\n",
    "        next=f1+f2\n",
    "        f1=f2\n",
    "        f2=next"
   ]
  },
  {
   "cell_type": "code",
   "execution_count": 4,
   "metadata": {},
   "outputs": [
    {
     "name": "stdout",
     "output_type": "stream",
     "text": [
      "enter decimal:10\n",
      "1010\n"
     ]
    }
   ],
   "source": [
    "#DECIMAL TO BINARY\n",
    "def binary(n):\n",
    "    if(n>1):\n",
    "        binary(n//2)\n",
    "    print(n%2,end ='')\n",
    "d=int(input(\"enter decimal:\"))\n",
    "binary(d)\n",
    "print()\n"
   ]
  },
  {
   "cell_type": "code",
   "execution_count": 5,
   "metadata": {},
   "outputs": [
    {
     "name": "stdout",
     "output_type": "stream",
     "text": [
      "a= 5\n",
      "b= 10\n",
      "c= 2\n",
      "The roots are %f and %f -0.2254033307585166 -1.7745966692414832\n"
     ]
    }
   ],
   "source": [
    "#ROOTS OF QUADRATIC EQUATION\n",
    "from math import sqrt\n",
    "a=float(input(\"a= \"))\n",
    "b=float(input(\"b= \"))\n",
    "c=float(input(\"c= \"))\n",
    "r=b**2 -4*a*c\n",
    "a1=(((-b)+sqrt(r))/(2*a))\n",
    "b1=(((-b)-sqrt(r))/(2*a))\n",
    "print(\"The roots are %f and %f\",a1,b1)"
   ]
  },
  {
   "cell_type": "code",
   "execution_count": null,
   "metadata": {},
   "outputs": [],
   "source": []
  }
 ],
 "metadata": {
  "kernelspec": {
   "display_name": "Python 3",
   "language": "python",
   "name": "python3"
  },
  "language_info": {
   "codemirror_mode": {
    "name": "ipython",
    "version": 3
   },
   "file_extension": ".py",
   "mimetype": "text/x-python",
   "name": "python",
   "nbconvert_exporter": "python",
   "pygments_lexer": "ipython3",
   "version": "3.7.4"
  }
 },
 "nbformat": 4,
 "nbformat_minor": 2
}
